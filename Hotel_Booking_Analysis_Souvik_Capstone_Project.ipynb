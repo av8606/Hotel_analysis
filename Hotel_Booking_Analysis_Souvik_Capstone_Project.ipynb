{
  "nbformat": 4,
  "nbformat_minor": 0,
  "metadata": {
    "kernelspec": {
      "display_name": "Python 3",
      "language": "python",
      "name": "python3"
    },
    "language_info": {
      "codemirror_mode": {
        "name": "ipython",
        "version": 3
      },
      "file_extension": ".py",
      "mimetype": "text/x-python",
      "name": "python",
      "nbconvert_exporter": "python",
      "pygments_lexer": "ipython3",
      "version": "3.6.6"
    },
    "colab": {
      "name": "Hotel Booking Analysis - Souvik Capstone Project.ipynb",
      "provenance": [],
      "collapsed_sections": [],
      "include_colab_link": true
    }
  },
  "cells": [
    {
      "cell_type": "markdown",
      "metadata": {
        "id": "view-in-github",
        "colab_type": "text"
      },
      "source": [
        "<a href=\"https://colab.research.google.com/github/av8606/Hotel_analysis/blob/main/Hotel_Booking_Analysis_Souvik_Capstone_Project.ipynb\" target=\"_parent\"><img src=\"https://colab.research.google.com/assets/colab-badge.svg\" alt=\"Open In Colab\"/></a>"
      ]
    },
    {
      "cell_type": "markdown",
      "metadata": {
        "id": "Y06xIdG26kRF"
      },
      "source": [
        "## <b> Have you ever wondered when the best time of year to book a hotel room is? Or the optimal length of stay in order to get the best daily rate? What if you wanted to predict whether or not a hotel was likely to receive a disproportionately high number of special requests? This hotel booking dataset can help you explore those questions!\n",
        "\n",
        "## <b>This data set contains booking information for a city hotel and a resort hotel, and includes information such as when the booking was made, length of stay, the number of adults, children, and/or babies, and the number of available parking spaces, among other things. All personally identifying information has been removed from the data. </b>\n",
        "\n",
        "## <b> Explore and analyze the data to discover important factors that govern the bookings. </b>"
      ]
    },
    {
      "cell_type": "markdown",
      "source": [
        "# **Import Pandas and Numpy in the notebook**"
      ],
      "metadata": {
        "id": "Ukj6SbiBPOiR"
      }
    },
    {
      "cell_type": "code",
      "source": [
        "import numpy as np     #import numpy \n",
        "import pandas as pd    #import pandas"
      ],
      "metadata": {
        "id": "xMWA85P7Kgj1"
      },
      "execution_count": 28,
      "outputs": []
    },
    {
      "cell_type": "markdown",
      "source": [
        "# **Import matplotlib and seaborn**"
      ],
      "metadata": {
        "id": "HZqNFeOXk_Ys"
      }
    },
    {
      "cell_type": "code",
      "source": [
        "#import matplotlib and seaborn\n",
        "import matplotlib.pyplot as plt\n",
        "import seaborn as sns"
      ],
      "metadata": {
        "id": "37L5_uUHS66o"
      },
      "execution_count": 29,
      "outputs": []
    },
    {
      "cell_type": "markdown",
      "source": [
        "# **Loading the Hotel Bookings.csv kept in the Drive**"
      ],
      "metadata": {
        "id": "vpE-ekmqQFBC"
      }
    },
    {
      "cell_type": "code",
      "source": [
        "#mounting the csv file in colab notebook\n",
        "from google.colab import drive    \n",
        "drive.mount('/content/drive')"
      ],
      "metadata": {
        "id": "iO7xofL4LF14",
        "colab": {
          "base_uri": "https://localhost:8080/"
        },
        "outputId": "22e2ae22-0224-42d2-acf6-d49cf0ee6ba8"
      },
      "execution_count": 30,
      "outputs": [
        {
          "output_type": "stream",
          "name": "stdout",
          "text": [
            "Drive already mounted at /content/drive; to attempt to forcibly remount, call drive.mount(\"/content/drive\", force_remount=True).\n"
          ]
        }
      ]
    },
    {
      "cell_type": "code",
      "metadata": {
        "id": "dByMsuzT8Tnw"
      },
      "source": [
        "#loading the csv file from drive\n",
        "hotel_booking_df=pd.read_csv('/content/drive/MyDrive/akv_hotel_booking_project/Hotel Bookings.csv')"
      ],
      "execution_count": 31,
      "outputs": []
    },
    {
      "cell_type": "code",
      "source": [
        "# view the top five row of the file\n",
        "hotel_booking_df.head()"
      ],
      "metadata": {
        "id": "xWbzDBw8Mw9r",
        "colab": {
          "base_uri": "https://localhost:8080/",
          "height": 386
        },
        "outputId": "bd20a52b-6512-436a-9904-fef709a90be4"
      },
      "execution_count": 32,
      "outputs": [
        {
          "output_type": "execute_result",
          "data": {
            "text/plain": [
              "          hotel  is_canceled  lead_time  arrival_date_year arrival_date_month  \\\n",
              "0  Resort Hotel            0        342               2015               July   \n",
              "1  Resort Hotel            0        737               2015               July   \n",
              "2  Resort Hotel            0          7               2015               July   \n",
              "3  Resort Hotel            0         13               2015               July   \n",
              "4  Resort Hotel            0         14               2015               July   \n",
              "\n",
              "   arrival_date_week_number  arrival_date_day_of_month  \\\n",
              "0                        27                          1   \n",
              "1                        27                          1   \n",
              "2                        27                          1   \n",
              "3                        27                          1   \n",
              "4                        27                          1   \n",
              "\n",
              "   stays_in_weekend_nights  stays_in_week_nights  adults  ...  deposit_type  \\\n",
              "0                        0                     0       2  ...    No Deposit   \n",
              "1                        0                     0       2  ...    No Deposit   \n",
              "2                        0                     1       1  ...    No Deposit   \n",
              "3                        0                     1       1  ...    No Deposit   \n",
              "4                        0                     2       2  ...    No Deposit   \n",
              "\n",
              "   agent company days_in_waiting_list customer_type   adr  \\\n",
              "0    NaN     NaN                    0     Transient   0.0   \n",
              "1    NaN     NaN                    0     Transient   0.0   \n",
              "2    NaN     NaN                    0     Transient  75.0   \n",
              "3  304.0     NaN                    0     Transient  75.0   \n",
              "4  240.0     NaN                    0     Transient  98.0   \n",
              "\n",
              "   required_car_parking_spaces  total_of_special_requests  reservation_status  \\\n",
              "0                            0                          0           Check-Out   \n",
              "1                            0                          0           Check-Out   \n",
              "2                            0                          0           Check-Out   \n",
              "3                            0                          0           Check-Out   \n",
              "4                            0                          1           Check-Out   \n",
              "\n",
              "  reservation_status_date  \n",
              "0              2015-07-01  \n",
              "1              2015-07-01  \n",
              "2              2015-07-02  \n",
              "3              2015-07-02  \n",
              "4              2015-07-03  \n",
              "\n",
              "[5 rows x 32 columns]"
            ],
            "text/html": [
              "\n",
              "  <div id=\"df-d840f8eb-1ba7-486e-b576-328d4af1cabd\">\n",
              "    <div class=\"colab-df-container\">\n",
              "      <div>\n",
              "<style scoped>\n",
              "    .dataframe tbody tr th:only-of-type {\n",
              "        vertical-align: middle;\n",
              "    }\n",
              "\n",
              "    .dataframe tbody tr th {\n",
              "        vertical-align: top;\n",
              "    }\n",
              "\n",
              "    .dataframe thead th {\n",
              "        text-align: right;\n",
              "    }\n",
              "</style>\n",
              "<table border=\"1\" class=\"dataframe\">\n",
              "  <thead>\n",
              "    <tr style=\"text-align: right;\">\n",
              "      <th></th>\n",
              "      <th>hotel</th>\n",
              "      <th>is_canceled</th>\n",
              "      <th>lead_time</th>\n",
              "      <th>arrival_date_year</th>\n",
              "      <th>arrival_date_month</th>\n",
              "      <th>arrival_date_week_number</th>\n",
              "      <th>arrival_date_day_of_month</th>\n",
              "      <th>stays_in_weekend_nights</th>\n",
              "      <th>stays_in_week_nights</th>\n",
              "      <th>adults</th>\n",
              "      <th>...</th>\n",
              "      <th>deposit_type</th>\n",
              "      <th>agent</th>\n",
              "      <th>company</th>\n",
              "      <th>days_in_waiting_list</th>\n",
              "      <th>customer_type</th>\n",
              "      <th>adr</th>\n",
              "      <th>required_car_parking_spaces</th>\n",
              "      <th>total_of_special_requests</th>\n",
              "      <th>reservation_status</th>\n",
              "      <th>reservation_status_date</th>\n",
              "    </tr>\n",
              "  </thead>\n",
              "  <tbody>\n",
              "    <tr>\n",
              "      <th>0</th>\n",
              "      <td>Resort Hotel</td>\n",
              "      <td>0</td>\n",
              "      <td>342</td>\n",
              "      <td>2015</td>\n",
              "      <td>July</td>\n",
              "      <td>27</td>\n",
              "      <td>1</td>\n",
              "      <td>0</td>\n",
              "      <td>0</td>\n",
              "      <td>2</td>\n",
              "      <td>...</td>\n",
              "      <td>No Deposit</td>\n",
              "      <td>NaN</td>\n",
              "      <td>NaN</td>\n",
              "      <td>0</td>\n",
              "      <td>Transient</td>\n",
              "      <td>0.0</td>\n",
              "      <td>0</td>\n",
              "      <td>0</td>\n",
              "      <td>Check-Out</td>\n",
              "      <td>2015-07-01</td>\n",
              "    </tr>\n",
              "    <tr>\n",
              "      <th>1</th>\n",
              "      <td>Resort Hotel</td>\n",
              "      <td>0</td>\n",
              "      <td>737</td>\n",
              "      <td>2015</td>\n",
              "      <td>July</td>\n",
              "      <td>27</td>\n",
              "      <td>1</td>\n",
              "      <td>0</td>\n",
              "      <td>0</td>\n",
              "      <td>2</td>\n",
              "      <td>...</td>\n",
              "      <td>No Deposit</td>\n",
              "      <td>NaN</td>\n",
              "      <td>NaN</td>\n",
              "      <td>0</td>\n",
              "      <td>Transient</td>\n",
              "      <td>0.0</td>\n",
              "      <td>0</td>\n",
              "      <td>0</td>\n",
              "      <td>Check-Out</td>\n",
              "      <td>2015-07-01</td>\n",
              "    </tr>\n",
              "    <tr>\n",
              "      <th>2</th>\n",
              "      <td>Resort Hotel</td>\n",
              "      <td>0</td>\n",
              "      <td>7</td>\n",
              "      <td>2015</td>\n",
              "      <td>July</td>\n",
              "      <td>27</td>\n",
              "      <td>1</td>\n",
              "      <td>0</td>\n",
              "      <td>1</td>\n",
              "      <td>1</td>\n",
              "      <td>...</td>\n",
              "      <td>No Deposit</td>\n",
              "      <td>NaN</td>\n",
              "      <td>NaN</td>\n",
              "      <td>0</td>\n",
              "      <td>Transient</td>\n",
              "      <td>75.0</td>\n",
              "      <td>0</td>\n",
              "      <td>0</td>\n",
              "      <td>Check-Out</td>\n",
              "      <td>2015-07-02</td>\n",
              "    </tr>\n",
              "    <tr>\n",
              "      <th>3</th>\n",
              "      <td>Resort Hotel</td>\n",
              "      <td>0</td>\n",
              "      <td>13</td>\n",
              "      <td>2015</td>\n",
              "      <td>July</td>\n",
              "      <td>27</td>\n",
              "      <td>1</td>\n",
              "      <td>0</td>\n",
              "      <td>1</td>\n",
              "      <td>1</td>\n",
              "      <td>...</td>\n",
              "      <td>No Deposit</td>\n",
              "      <td>304.0</td>\n",
              "      <td>NaN</td>\n",
              "      <td>0</td>\n",
              "      <td>Transient</td>\n",
              "      <td>75.0</td>\n",
              "      <td>0</td>\n",
              "      <td>0</td>\n",
              "      <td>Check-Out</td>\n",
              "      <td>2015-07-02</td>\n",
              "    </tr>\n",
              "    <tr>\n",
              "      <th>4</th>\n",
              "      <td>Resort Hotel</td>\n",
              "      <td>0</td>\n",
              "      <td>14</td>\n",
              "      <td>2015</td>\n",
              "      <td>July</td>\n",
              "      <td>27</td>\n",
              "      <td>1</td>\n",
              "      <td>0</td>\n",
              "      <td>2</td>\n",
              "      <td>2</td>\n",
              "      <td>...</td>\n",
              "      <td>No Deposit</td>\n",
              "      <td>240.0</td>\n",
              "      <td>NaN</td>\n",
              "      <td>0</td>\n",
              "      <td>Transient</td>\n",
              "      <td>98.0</td>\n",
              "      <td>0</td>\n",
              "      <td>1</td>\n",
              "      <td>Check-Out</td>\n",
              "      <td>2015-07-03</td>\n",
              "    </tr>\n",
              "  </tbody>\n",
              "</table>\n",
              "<p>5 rows × 32 columns</p>\n",
              "</div>\n",
              "      <button class=\"colab-df-convert\" onclick=\"convertToInteractive('df-d840f8eb-1ba7-486e-b576-328d4af1cabd')\"\n",
              "              title=\"Convert this dataframe to an interactive table.\"\n",
              "              style=\"display:none;\">\n",
              "        \n",
              "  <svg xmlns=\"http://www.w3.org/2000/svg\" height=\"24px\"viewBox=\"0 0 24 24\"\n",
              "       width=\"24px\">\n",
              "    <path d=\"M0 0h24v24H0V0z\" fill=\"none\"/>\n",
              "    <path d=\"M18.56 5.44l.94 2.06.94-2.06 2.06-.94-2.06-.94-.94-2.06-.94 2.06-2.06.94zm-11 1L8.5 8.5l.94-2.06 2.06-.94-2.06-.94L8.5 2.5l-.94 2.06-2.06.94zm10 10l.94 2.06.94-2.06 2.06-.94-2.06-.94-.94-2.06-.94 2.06-2.06.94z\"/><path d=\"M17.41 7.96l-1.37-1.37c-.4-.4-.92-.59-1.43-.59-.52 0-1.04.2-1.43.59L10.3 9.45l-7.72 7.72c-.78.78-.78 2.05 0 2.83L4 21.41c.39.39.9.59 1.41.59.51 0 1.02-.2 1.41-.59l7.78-7.78 2.81-2.81c.8-.78.8-2.07 0-2.86zM5.41 20L4 18.59l7.72-7.72 1.47 1.35L5.41 20z\"/>\n",
              "  </svg>\n",
              "      </button>\n",
              "      \n",
              "  <style>\n",
              "    .colab-df-container {\n",
              "      display:flex;\n",
              "      flex-wrap:wrap;\n",
              "      gap: 12px;\n",
              "    }\n",
              "\n",
              "    .colab-df-convert {\n",
              "      background-color: #E8F0FE;\n",
              "      border: none;\n",
              "      border-radius: 50%;\n",
              "      cursor: pointer;\n",
              "      display: none;\n",
              "      fill: #1967D2;\n",
              "      height: 32px;\n",
              "      padding: 0 0 0 0;\n",
              "      width: 32px;\n",
              "    }\n",
              "\n",
              "    .colab-df-convert:hover {\n",
              "      background-color: #E2EBFA;\n",
              "      box-shadow: 0px 1px 2px rgba(60, 64, 67, 0.3), 0px 1px 3px 1px rgba(60, 64, 67, 0.15);\n",
              "      fill: #174EA6;\n",
              "    }\n",
              "\n",
              "    [theme=dark] .colab-df-convert {\n",
              "      background-color: #3B4455;\n",
              "      fill: #D2E3FC;\n",
              "    }\n",
              "\n",
              "    [theme=dark] .colab-df-convert:hover {\n",
              "      background-color: #434B5C;\n",
              "      box-shadow: 0px 1px 3px 1px rgba(0, 0, 0, 0.15);\n",
              "      filter: drop-shadow(0px 1px 2px rgba(0, 0, 0, 0.3));\n",
              "      fill: #FFFFFF;\n",
              "    }\n",
              "  </style>\n",
              "\n",
              "      <script>\n",
              "        const buttonEl =\n",
              "          document.querySelector('#df-d840f8eb-1ba7-486e-b576-328d4af1cabd button.colab-df-convert');\n",
              "        buttonEl.style.display =\n",
              "          google.colab.kernel.accessAllowed ? 'block' : 'none';\n",
              "\n",
              "        async function convertToInteractive(key) {\n",
              "          const element = document.querySelector('#df-d840f8eb-1ba7-486e-b576-328d4af1cabd');\n",
              "          const dataTable =\n",
              "            await google.colab.kernel.invokeFunction('convertToInteractive',\n",
              "                                                     [key], {});\n",
              "          if (!dataTable) return;\n",
              "\n",
              "          const docLinkHtml = 'Like what you see? Visit the ' +\n",
              "            '<a target=\"_blank\" href=https://colab.research.google.com/notebooks/data_table.ipynb>data table notebook</a>'\n",
              "            + ' to learn more about interactive tables.';\n",
              "          element.innerHTML = '';\n",
              "          dataTable['output_type'] = 'display_data';\n",
              "          await google.colab.output.renderOutput(dataTable, element);\n",
              "          const docLink = document.createElement('div');\n",
              "          docLink.innerHTML = docLinkHtml;\n",
              "          element.appendChild(docLink);\n",
              "        }\n",
              "      </script>\n",
              "    </div>\n",
              "  </div>\n",
              "  "
            ]
          },
          "metadata": {},
          "execution_count": 32
        }
      ]
    },
    {
      "cell_type": "code",
      "source": [
        "hotel_booking_df.shape"
      ],
      "metadata": {
        "id": "eo_UrdqgK6tC",
        "colab": {
          "base_uri": "https://localhost:8080/"
        },
        "outputId": "76655ebd-cf92-4a1e-b11d-266322649829"
      },
      "execution_count": 33,
      "outputs": [
        {
          "output_type": "execute_result",
          "data": {
            "text/plain": [
              "(119390, 32)"
            ]
          },
          "metadata": {},
          "execution_count": 33
        }
      ]
    },
    {
      "cell_type": "code",
      "source": [
        "# information of dataframe\n",
        "hotel_booking_df.info()"
      ],
      "metadata": {
        "id": "PlNdpU5BNLn5",
        "colab": {
          "base_uri": "https://localhost:8080/"
        },
        "outputId": "3227e61f-942f-40d2-f17d-c2d9c1670349"
      },
      "execution_count": 34,
      "outputs": [
        {
          "output_type": "stream",
          "name": "stdout",
          "text": [
            "<class 'pandas.core.frame.DataFrame'>\n",
            "RangeIndex: 119390 entries, 0 to 119389\n",
            "Data columns (total 32 columns):\n",
            " #   Column                          Non-Null Count   Dtype  \n",
            "---  ------                          --------------   -----  \n",
            " 0   hotel                           119390 non-null  object \n",
            " 1   is_canceled                     119390 non-null  int64  \n",
            " 2   lead_time                       119390 non-null  int64  \n",
            " 3   arrival_date_year               119390 non-null  int64  \n",
            " 4   arrival_date_month              119390 non-null  object \n",
            " 5   arrival_date_week_number        119390 non-null  int64  \n",
            " 6   arrival_date_day_of_month       119390 non-null  int64  \n",
            " 7   stays_in_weekend_nights         119390 non-null  int64  \n",
            " 8   stays_in_week_nights            119390 non-null  int64  \n",
            " 9   adults                          119390 non-null  int64  \n",
            " 10  children                        119386 non-null  float64\n",
            " 11  babies                          119390 non-null  int64  \n",
            " 12  meal                            119390 non-null  object \n",
            " 13  country                         118902 non-null  object \n",
            " 14  market_segment                  119390 non-null  object \n",
            " 15  distribution_channel            119390 non-null  object \n",
            " 16  is_repeated_guest               119390 non-null  int64  \n",
            " 17  previous_cancellations          119390 non-null  int64  \n",
            " 18  previous_bookings_not_canceled  119390 non-null  int64  \n",
            " 19  reserved_room_type              119390 non-null  object \n",
            " 20  assigned_room_type              119390 non-null  object \n",
            " 21  booking_changes                 119390 non-null  int64  \n",
            " 22  deposit_type                    119390 non-null  object \n",
            " 23  agent                           103050 non-null  float64\n",
            " 24  company                         6797 non-null    float64\n",
            " 25  days_in_waiting_list            119390 non-null  int64  \n",
            " 26  customer_type                   119390 non-null  object \n",
            " 27  adr                             119390 non-null  float64\n",
            " 28  required_car_parking_spaces     119390 non-null  int64  \n",
            " 29  total_of_special_requests       119390 non-null  int64  \n",
            " 30  reservation_status              119390 non-null  object \n",
            " 31  reservation_status_date         119390 non-null  object \n",
            "dtypes: float64(4), int64(16), object(12)\n",
            "memory usage: 29.1+ MB\n"
          ]
        }
      ]
    },
    {
      "cell_type": "code",
      "source": [
        "#shape of dateFrame\n",
        "hotel_booking_df.shape"
      ],
      "metadata": {
        "id": "Kc5NgXQGNq0Z",
        "colab": {
          "base_uri": "https://localhost:8080/"
        },
        "outputId": "df053a5e-070f-4f85-add9-306ec3376a8a"
      },
      "execution_count": 35,
      "outputs": [
        {
          "output_type": "execute_result",
          "data": {
            "text/plain": [
              "(119390, 32)"
            ]
          },
          "metadata": {},
          "execution_count": 35
        }
      ]
    },
    {
      "cell_type": "code",
      "source": [
        "# find null values\n",
        "hotel_booking_df.isnull().sum()"
      ],
      "metadata": {
        "id": "B9LtvFzgNzDL",
        "colab": {
          "base_uri": "https://localhost:8080/"
        },
        "outputId": "7a8f2b15-3f4a-41e6-fa5d-66a9cdd98bdb"
      },
      "execution_count": 36,
      "outputs": [
        {
          "output_type": "execute_result",
          "data": {
            "text/plain": [
              "hotel                                  0\n",
              "is_canceled                            0\n",
              "lead_time                              0\n",
              "arrival_date_year                      0\n",
              "arrival_date_month                     0\n",
              "arrival_date_week_number               0\n",
              "arrival_date_day_of_month              0\n",
              "stays_in_weekend_nights                0\n",
              "stays_in_week_nights                   0\n",
              "adults                                 0\n",
              "children                               4\n",
              "babies                                 0\n",
              "meal                                   0\n",
              "country                              488\n",
              "market_segment                         0\n",
              "distribution_channel                   0\n",
              "is_repeated_guest                      0\n",
              "previous_cancellations                 0\n",
              "previous_bookings_not_canceled         0\n",
              "reserved_room_type                     0\n",
              "assigned_room_type                     0\n",
              "booking_changes                        0\n",
              "deposit_type                           0\n",
              "agent                              16340\n",
              "company                           112593\n",
              "days_in_waiting_list                   0\n",
              "customer_type                          0\n",
              "adr                                    0\n",
              "required_car_parking_spaces            0\n",
              "total_of_special_requests              0\n",
              "reservation_status                     0\n",
              "reservation_status_date                0\n",
              "dtype: int64"
            ]
          },
          "metadata": {},
          "execution_count": 36
        }
      ]
    },
    {
      "cell_type": "markdown",
      "source": [
        "# **Making a copy of a original dataframe so that we work on the copy dataframe and the original data frame doesnot get affected**"
      ],
      "metadata": {
        "id": "s9eG2s6ImdFC"
      }
    },
    {
      "cell_type": "code",
      "source": [
        "# making a copy of original dataframe \n",
        "hotel_booking_new= hotel_booking_df.copy()"
      ],
      "metadata": {
        "id": "mIhhmrTSjhVt"
      },
      "execution_count": 37,
      "outputs": []
    },
    {
      "cell_type": "markdown",
      "source": [
        "# **Data cleaning for better understanding of DataFrame**"
      ],
      "metadata": {
        "id": "7dXPXNBogIub"
      }
    },
    {
      "cell_type": "code",
      "source": [
        "# replacing NaN value for children column with 0 \n",
        "hotel_booking_new['children']=hotel_booking_new['children'].fillna(0)"
      ],
      "metadata": {
        "id": "5wZV5apOCQ8Y"
      },
      "execution_count": 38,
      "outputs": []
    },
    {
      "cell_type": "code",
      "source": [
        "#  adding children and babies in one column\n",
        "hotel_booking_new['Kids']=(hotel_booking_new['children']+hotel_booking_new['babies']).astype(int)"
      ],
      "metadata": {
        "id": "4TgjoVITeEgF"
      },
      "execution_count": 39,
      "outputs": []
    },
    {
      "cell_type": "code",
      "source": [
        "# finding the total NaN values\n",
        "hotel_booking_new.isnull().sum()"
      ],
      "metadata": {
        "id": "v0fix71j-Dk-",
        "colab": {
          "base_uri": "https://localhost:8080/"
        },
        "outputId": "de0e65c0-9b5b-455b-8cae-e68b93b26d49"
      },
      "execution_count": 40,
      "outputs": [
        {
          "output_type": "execute_result",
          "data": {
            "text/plain": [
              "hotel                                  0\n",
              "is_canceled                            0\n",
              "lead_time                              0\n",
              "arrival_date_year                      0\n",
              "arrival_date_month                     0\n",
              "arrival_date_week_number               0\n",
              "arrival_date_day_of_month              0\n",
              "stays_in_weekend_nights                0\n",
              "stays_in_week_nights                   0\n",
              "adults                                 0\n",
              "children                               0\n",
              "babies                                 0\n",
              "meal                                   0\n",
              "country                              488\n",
              "market_segment                         0\n",
              "distribution_channel                   0\n",
              "is_repeated_guest                      0\n",
              "previous_cancellations                 0\n",
              "previous_bookings_not_canceled         0\n",
              "reserved_room_type                     0\n",
              "assigned_room_type                     0\n",
              "booking_changes                        0\n",
              "deposit_type                           0\n",
              "agent                              16340\n",
              "company                           112593\n",
              "days_in_waiting_list                   0\n",
              "customer_type                          0\n",
              "adr                                    0\n",
              "required_car_parking_spaces            0\n",
              "total_of_special_requests              0\n",
              "reservation_status                     0\n",
              "reservation_status_date                0\n",
              "Kids                                   0\n",
              "dtype: int64"
            ]
          },
          "metadata": {},
          "execution_count": 40
        }
      ]
    },
    {
      "cell_type": "code",
      "source": [
        "# droping the column babies and children as we have added and made new column as kids\n",
        "# droping company and agent column as they have maximum numbers of NaN values\n",
        "hotel_booking_new.drop(['babies','children','company','agent'],axis=1,inplace=True)"
      ],
      "metadata": {
        "id": "0ZSU0x0ggaGB"
      },
      "execution_count": 41,
      "outputs": []
    },
    {
      "cell_type": "code",
      "source": [
        "# droping the rows in which there are NaN values in country column\n",
        "country_Nan=hotel_booking_new[hotel_booking_new['country'].isna()]\n",
        "hotel_booking_new.drop(country_Nan.index,inplace=True)"
      ],
      "metadata": {
        "id": "Zxwug-Kx9vnG"
      },
      "execution_count": 42,
      "outputs": []
    },
    {
      "cell_type": "code",
      "source": [
        "# information for dataframe\n",
        "hotel_booking_new.info()"
      ],
      "metadata": {
        "id": "ckO-lNRrA6-o",
        "colab": {
          "base_uri": "https://localhost:8080/"
        },
        "outputId": "39c0b0de-62ac-46e3-bf71-013762218c31"
      },
      "execution_count": 43,
      "outputs": [
        {
          "output_type": "stream",
          "name": "stdout",
          "text": [
            "<class 'pandas.core.frame.DataFrame'>\n",
            "Int64Index: 118902 entries, 0 to 119389\n",
            "Data columns (total 29 columns):\n",
            " #   Column                          Non-Null Count   Dtype  \n",
            "---  ------                          --------------   -----  \n",
            " 0   hotel                           118902 non-null  object \n",
            " 1   is_canceled                     118902 non-null  int64  \n",
            " 2   lead_time                       118902 non-null  int64  \n",
            " 3   arrival_date_year               118902 non-null  int64  \n",
            " 4   arrival_date_month              118902 non-null  object \n",
            " 5   arrival_date_week_number        118902 non-null  int64  \n",
            " 6   arrival_date_day_of_month       118902 non-null  int64  \n",
            " 7   stays_in_weekend_nights         118902 non-null  int64  \n",
            " 8   stays_in_week_nights            118902 non-null  int64  \n",
            " 9   adults                          118902 non-null  int64  \n",
            " 10  meal                            118902 non-null  object \n",
            " 11  country                         118902 non-null  object \n",
            " 12  market_segment                  118902 non-null  object \n",
            " 13  distribution_channel            118902 non-null  object \n",
            " 14  is_repeated_guest               118902 non-null  int64  \n",
            " 15  previous_cancellations          118902 non-null  int64  \n",
            " 16  previous_bookings_not_canceled  118902 non-null  int64  \n",
            " 17  reserved_room_type              118902 non-null  object \n",
            " 18  assigned_room_type              118902 non-null  object \n",
            " 19  booking_changes                 118902 non-null  int64  \n",
            " 20  deposit_type                    118902 non-null  object \n",
            " 21  days_in_waiting_list            118902 non-null  int64  \n",
            " 22  customer_type                   118902 non-null  object \n",
            " 23  adr                             118902 non-null  float64\n",
            " 24  required_car_parking_spaces     118902 non-null  int64  \n",
            " 25  total_of_special_requests       118902 non-null  int64  \n",
            " 26  reservation_status              118902 non-null  object \n",
            " 27  reservation_status_date         118902 non-null  object \n",
            " 28  Kids                            118902 non-null  int64  \n",
            "dtypes: float64(1), int64(16), object(12)\n",
            "memory usage: 27.2+ MB\n"
          ]
        }
      ]
    },
    {
      "cell_type": "markdown",
      "source": [
        "# **Dropping of rows in which no guests have arrived**"
      ],
      "metadata": {
        "id": "1w6R1Hq_Xknt"
      }
    },
    {
      "cell_type": "code",
      "source": [
        "guests=hotel_booking_new[(hotel_booking_new['adults']+hotel_booking_new['Kids'])==0]"
      ],
      "metadata": {
        "id": "rVeXwSXHWNiq"
      },
      "execution_count": 44,
      "outputs": []
    },
    {
      "cell_type": "code",
      "source": [
        "hotel_booking_new= hotel_booking_new.drop(guests.index)"
      ],
      "metadata": {
        "id": "xISd5zUzYSYr"
      },
      "execution_count": 45,
      "outputs": []
    },
    {
      "cell_type": "code",
      "source": [
        "# new shape of the dataframe\n",
        "hotel_booking_new.shape"
      ],
      "metadata": {
        "id": "htMY3BaRZycM",
        "colab": {
          "base_uri": "https://localhost:8080/"
        },
        "outputId": "20de2dcf-aac9-4a10-9fa5-cc02e205b24c"
      },
      "execution_count": 46,
      "outputs": [
        {
          "output_type": "execute_result",
          "data": {
            "text/plain": [
              "(118732, 29)"
            ]
          },
          "metadata": {},
          "execution_count": 46
        }
      ]
    },
    {
      "cell_type": "markdown",
      "source": [
        "# **1.What is the booking percentage between Resort Hotel and City Hotel?**"
      ],
      "metadata": {
        "id": "PlZGtyCKJwT_"
      }
    },
    {
      "cell_type": "code",
      "source": [
        "hote_1=hotel_booking_new['hotel'].value_counts()\n",
        "hote_1.plot.pie(fontsize=15,autopct='%1.2f%%',figsize=(10,8),colors=['r','g'],ylabel='',explode=[0.2,0],shadow=True,startangle = 60)\n",
        "plt.title('Booking Percentage',fontsize=15)"
      ],
      "metadata": {
        "id": "2_3Cd-vaNpse",
        "colab": {
          "base_uri": "https://localhost:8080/",
          "height": 501
        },
        "outputId": "71b1da98-ad03-4b41-fd4f-9e60189dbef9"
      },
      "execution_count": 47,
      "outputs": [
        {
          "output_type": "execute_result",
          "data": {
            "text/plain": [
              "Text(0.5, 1.0, 'Booking Percentage')"
            ]
          },
          "metadata": {},
          "execution_count": 47
        },
        {
          "output_type": "display_data",
          "data": {
            "text/plain": [
              "<Figure size 720x576 with 1 Axes>"
            ],
            "image/png": "[encoded data removed]"
          },
          "metadata": {}
        }
      ]
    },
    {
      "cell_type": "markdown",
      "source": [
        "Number of yearly arrival in hotels"
      ],
      "metadata": {
        "id": "sAi2ih4IsJp6"
      }
    },
    {
      "cell_type": "code",
      "source": [
        "# Total count of arrival date year\n",
        "hotel_booking_new['arrival_date_year'].value_counts() "
      ],
      "metadata": {
        "id": "g3mCZIQOH1xy",
        "colab": {
          "base_uri": "https://localhost:8080/"
        },
        "outputId": "1d77b66a-2ebb-4ea7-f267-d096af42c2d4"
      },
      "execution_count": 48,
      "outputs": [
        {
          "output_type": "execute_result",
          "data": {
            "text/plain": [
              "2016    56357\n",
              "2017    40541\n",
              "2015    21834\n",
              "Name: arrival_date_year, dtype: int64"
            ]
          },
          "metadata": {},
          "execution_count": 48
        }
      ]
    },
    {
      "cell_type": "markdown",
      "source": [
        "# **Yearly booking for each year**"
      ],
      "metadata": {
        "id": "kOevHKyDFjQ0"
      }
    },
    {
      "cell_type": "code",
      "source": [
        "# ploting a bargraph for yearly bookings of city and resort hotels\n",
        "plt.rcParams['figure.figsize']=(10,8)\n",
        "sns.countplot(x='arrival_date_year',data=hotel_booking_new,hue='hotel').set_title('Yearly bookings')\n"
      ],
      "metadata": {
        "id": "14pouVeYIRND",
        "colab": {
          "base_uri": "https://localhost:8080/",
          "height": 531
        },
        "outputId": "a5b3343c-355f-4fe5-f9f0-526e7ac72fa6"
      },
      "execution_count": 49,
      "outputs": [
        {
          "output_type": "execute_result",
          "data": {
            "text/plain": [
              "Text(0.5, 1.0, 'Yearly bookings')"
            ]
          },
          "metadata": {},
          "execution_count": 49
        },
        {
          "output_type": "display_data",
          "data": {
            "text/plain": [
              "<Figure size 720x576 with 1 Axes>"
            ],
            "image/png": "[encoded data removed]"
          },
          "metadata": {
            "needs_background": "light"
          }
        }
      ]
    },
    {
      "cell_type": "markdown",
      "source": [
        "# **Bookings which doesnot have any cancelation**"
      ],
      "metadata": {
        "id": "pdLZiq6Ax1Z-"
      }
    },
    {
      "cell_type": "code",
      "source": [
        "# yearly bookings of hotels which were not cancelled\n",
        "not_canceled=hotel_booking_new[hotel_booking_new['is_canceled']==\"No\"]\n",
        "plt.rcParams['figure.figsize']=(10,8)\n",
        "sns.countplot(x='arrival_date_year',data=not_canceled,hue='hotel').set_title('Yearly Bookings')"
      ],
      "metadata": {
        "id": "UR5BpzF4rY09",
        "colab": {
          "base_uri": "https://localhost:8080/",
          "height": 346
        },
        "outputId": "b826565c-9e39-4f47-a870-0323ec350c1d"
      },
      "execution_count": 51,
      "outputs": [
        {
          "output_type": "error",
          "ename": "ValueError",
          "evalue": "ignored",
          "traceback": [
            "\u001b[0;31m---------------------------------------------------------------------------\u001b[0m",
            "\u001b[0;31mValueError\u001b[0m                                Traceback (most recent call last)",
            "\u001b[0;32m<ipython-input-51-67347a1290b3>\u001b[0m in \u001b[0;36m<module>\u001b[0;34m()\u001b[0m\n\u001b[1;32m      2\u001b[0m \u001b[0mnot_canceled\u001b[0m\u001b[0;34m=\u001b[0m\u001b[0mhotel_booking_new\u001b[0m\u001b[0;34m[\u001b[0m\u001b[0mhotel_booking_new\u001b[0m\u001b[0;34m[\u001b[0m\u001b[0;34m'is_canceled'\u001b[0m\u001b[0;34m]\u001b[0m\u001b[0;34m==\u001b[0m\u001b[0;34m\"No\"\u001b[0m\u001b[0;34m]\u001b[0m\u001b[0;34m\u001b[0m\u001b[0;34m\u001b[0m\u001b[0m\n\u001b[1;32m      3\u001b[0m \u001b[0mplt\u001b[0m\u001b[0;34m.\u001b[0m\u001b[0mrcParams\u001b[0m\u001b[0;34m[\u001b[0m\u001b[0;34m'figure.figsize'\u001b[0m\u001b[0;34m]\u001b[0m\u001b[0;34m=\u001b[0m\u001b[0;34m(\u001b[0m\u001b[0;36m10\u001b[0m\u001b[0;34m,\u001b[0m\u001b[0;36m8\u001b[0m\u001b[0;34m)\u001b[0m\u001b[0;34m\u001b[0m\u001b[0;34m\u001b[0m\u001b[0m\n\u001b[0;32m----> 4\u001b[0;31m \u001b[0msns\u001b[0m\u001b[0;34m.\u001b[0m\u001b[0mcountplot\u001b[0m\u001b[0;34m(\u001b[0m\u001b[0mx\u001b[0m\u001b[0;34m=\u001b[0m\u001b[0;34m'arrival_date_year'\u001b[0m\u001b[0;34m,\u001b[0m\u001b[0mdata\u001b[0m\u001b[0;34m=\u001b[0m\u001b[0mnot_canceled\u001b[0m\u001b[0;34m,\u001b[0m\u001b[0mhue\u001b[0m\u001b[0;34m=\u001b[0m\u001b[0;34m'hotel'\u001b[0m\u001b[0;34m)\u001b[0m\u001b[0;34m.\u001b[0m\u001b[0mset_title\u001b[0m\u001b[0;34m(\u001b[0m\u001b[0;34m'Yearly Bookings'\u001b[0m\u001b[0;34m)\u001b[0m\u001b[0;34m\u001b[0m\u001b[0;34m\u001b[0m\u001b[0m\n\u001b[0m",
            "\u001b[0;32m/usr/local/lib/python3.7/dist-packages/seaborn/_decorators.py\u001b[0m in \u001b[0;36minner_f\u001b[0;34m(*args, **kwargs)\u001b[0m\n\u001b[1;32m     44\u001b[0m             )\n\u001b[1;32m     45\u001b[0m         \u001b[0mkwargs\u001b[0m\u001b[0;34m.\u001b[0m\u001b[0mupdate\u001b[0m\u001b[0;34m(\u001b[0m\u001b[0;34m{\u001b[0m\u001b[0mk\u001b[0m\u001b[0;34m:\u001b[0m \u001b[0marg\u001b[0m \u001b[0;32mfor\u001b[0m \u001b[0mk\u001b[0m\u001b[0;34m,\u001b[0m \u001b[0marg\u001b[0m \u001b[0;32min\u001b[0m \u001b[0mzip\u001b[0m\u001b[0;34m(\u001b[0m\u001b[0msig\u001b[0m\u001b[0;34m.\u001b[0m\u001b[0mparameters\u001b[0m\u001b[0;34m,\u001b[0m \u001b[0margs\u001b[0m\u001b[0;34m)\u001b[0m\u001b[0;34m}\u001b[0m\u001b[0;34m)\u001b[0m\u001b[0;34m\u001b[0m\u001b[0;34m\u001b[0m\u001b[0m\n\u001b[0;32m---> 46\u001b[0;31m         \u001b[0;32mreturn\u001b[0m \u001b[0mf\u001b[0m\u001b[0;34m(\u001b[0m\u001b[0;34m**\u001b[0m\u001b[0mkwargs\u001b[0m\u001b[0;34m)\u001b[0m\u001b[0;34m\u001b[0m\u001b[0;34m\u001b[0m\u001b[0m\n\u001b[0m\u001b[1;32m     47\u001b[0m     \u001b[0;32mreturn\u001b[0m \u001b[0minner_f\u001b[0m\u001b[0;34m\u001b[0m\u001b[0;34m\u001b[0m\u001b[0m\n\u001b[1;32m     48\u001b[0m \u001b[0;34m\u001b[0m\u001b[0m\n",
            "\u001b[0;32m/usr/local/lib/python3.7/dist-packages/seaborn/categorical.py\u001b[0m in \u001b[0;36mcountplot\u001b[0;34m(x, y, hue, data, order, hue_order, orient, color, palette, saturation, dodge, ax, **kwargs)\u001b[0m\n\u001b[1;32m   3600\u001b[0m         \u001b[0mestimator\u001b[0m\u001b[0;34m,\u001b[0m \u001b[0mci\u001b[0m\u001b[0;34m,\u001b[0m \u001b[0mn_boot\u001b[0m\u001b[0;34m,\u001b[0m \u001b[0munits\u001b[0m\u001b[0;34m,\u001b[0m \u001b[0mseed\u001b[0m\u001b[0;34m,\u001b[0m\u001b[0;34m\u001b[0m\u001b[0;34m\u001b[0m\u001b[0m\n\u001b[1;32m   3601\u001b[0m         \u001b[0morient\u001b[0m\u001b[0;34m,\u001b[0m \u001b[0mcolor\u001b[0m\u001b[0;34m,\u001b[0m \u001b[0mpalette\u001b[0m\u001b[0;34m,\u001b[0m \u001b[0msaturation\u001b[0m\u001b[0;34m,\u001b[0m\u001b[0;34m\u001b[0m\u001b[0;34m\u001b[0m\u001b[0m\n\u001b[0;32m-> 3602\u001b[0;31m         \u001b[0merrcolor\u001b[0m\u001b[0;34m,\u001b[0m \u001b[0merrwidth\u001b[0m\u001b[0;34m,\u001b[0m \u001b[0mcapsize\u001b[0m\u001b[0;34m,\u001b[0m \u001b[0mdodge\u001b[0m\u001b[0;34m\u001b[0m\u001b[0;34m\u001b[0m\u001b[0m\n\u001b[0m\u001b[1;32m   3603\u001b[0m     )\n\u001b[1;32m   3604\u001b[0m \u001b[0;34m\u001b[0m\u001b[0m\n",
            "\u001b[0;32m/usr/local/lib/python3.7/dist-packages/seaborn/categorical.py\u001b[0m in \u001b[0;36m__init__\u001b[0;34m(self, x, y, hue, data, order, hue_order, estimator, ci, n_boot, units, seed, orient, color, palette, saturation, errcolor, errwidth, capsize, dodge)\u001b[0m\n\u001b[1;32m   1584\u001b[0m         self.establish_variables(x, y, hue, data, orient,\n\u001b[1;32m   1585\u001b[0m                                  order, hue_order, units)\n\u001b[0;32m-> 1586\u001b[0;31m         \u001b[0mself\u001b[0m\u001b[0;34m.\u001b[0m\u001b[0mestablish_colors\u001b[0m\u001b[0;34m(\u001b[0m\u001b[0mcolor\u001b[0m\u001b[0;34m,\u001b[0m \u001b[0mpalette\u001b[0m\u001b[0;34m,\u001b[0m \u001b[0msaturation\u001b[0m\u001b[0;34m)\u001b[0m\u001b[0;34m\u001b[0m\u001b[0;34m\u001b[0m\u001b[0m\n\u001b[0m\u001b[1;32m   1587\u001b[0m         \u001b[0mself\u001b[0m\u001b[0;34m.\u001b[0m\u001b[0mestimate_statistic\u001b[0m\u001b[0;34m(\u001b[0m\u001b[0mestimator\u001b[0m\u001b[0;34m,\u001b[0m \u001b[0mci\u001b[0m\u001b[0;34m,\u001b[0m \u001b[0mn_boot\u001b[0m\u001b[0;34m,\u001b[0m \u001b[0mseed\u001b[0m\u001b[0;34m)\u001b[0m\u001b[0;34m\u001b[0m\u001b[0;34m\u001b[0m\u001b[0m\n\u001b[1;32m   1588\u001b[0m \u001b[0;34m\u001b[0m\u001b[0m\n",
            "\u001b[0;32m/usr/local/lib/python3.7/dist-packages/seaborn/categorical.py\u001b[0m in \u001b[0;36mestablish_colors\u001b[0;34m(self, color, palette, saturation)\u001b[0m\n\u001b[1;32m    317\u001b[0m         \u001b[0;31m# Determine the gray color to use for the lines framing the plot\u001b[0m\u001b[0;34m\u001b[0m\u001b[0;34m\u001b[0m\u001b[0;34m\u001b[0m\u001b[0m\n\u001b[1;32m    318\u001b[0m         \u001b[0mlight_vals\u001b[0m \u001b[0;34m=\u001b[0m \u001b[0;34m[\u001b[0m\u001b[0mcolorsys\u001b[0m\u001b[0;34m.\u001b[0m\u001b[0mrgb_to_hls\u001b[0m\u001b[0;34m(\u001b[0m\u001b[0;34m*\u001b[0m\u001b[0mc\u001b[0m\u001b[0;34m)\u001b[0m\u001b[0;34m[\u001b[0m\u001b[0;36m1\u001b[0m\u001b[0;34m]\u001b[0m \u001b[0;32mfor\u001b[0m \u001b[0mc\u001b[0m \u001b[0;32min\u001b[0m \u001b[0mrgb_colors\u001b[0m\u001b[0;34m]\u001b[0m\u001b[0;34m\u001b[0m\u001b[0;34m\u001b[0m\u001b[0m\n\u001b[0;32m--> 319\u001b[0;31m         \u001b[0mlum\u001b[0m \u001b[0;34m=\u001b[0m \u001b[0mmin\u001b[0m\u001b[0;34m(\u001b[0m\u001b[0mlight_vals\u001b[0m\u001b[0;34m)\u001b[0m \u001b[0;34m*\u001b[0m \u001b[0;36m.6\u001b[0m\u001b[0;34m\u001b[0m\u001b[0;34m\u001b[0m\u001b[0m\n\u001b[0m\u001b[1;32m    320\u001b[0m         \u001b[0mgray\u001b[0m \u001b[0;34m=\u001b[0m \u001b[0mmpl\u001b[0m\u001b[0;34m.\u001b[0m\u001b[0mcolors\u001b[0m\u001b[0;34m.\u001b[0m\u001b[0mrgb2hex\u001b[0m\u001b[0;34m(\u001b[0m\u001b[0;34m(\u001b[0m\u001b[0mlum\u001b[0m\u001b[0;34m,\u001b[0m \u001b[0mlum\u001b[0m\u001b[0;34m,\u001b[0m \u001b[0mlum\u001b[0m\u001b[0;34m)\u001b[0m\u001b[0;34m)\u001b[0m\u001b[0;34m\u001b[0m\u001b[0;34m\u001b[0m\u001b[0m\n\u001b[1;32m    321\u001b[0m \u001b[0;34m\u001b[0m\u001b[0m\n",
            "\u001b[0;31mValueError\u001b[0m: min() arg is an empty sequence"
          ]
        }
      ]
    },
    {
      "cell_type": "code",
      "source": [
        "hotel_booking_new[\"is_canceled\"].unique()"
      ],
      "metadata": {
        "colab": {
          "base_uri": "https://localhost:8080/"
        },
        "id": "1eQoSmMTZKec",
        "outputId": "96f33fe2-6d0c-4880-876b-4952d063557f"
      },
      "execution_count": 52,
      "outputs": [
        {
          "output_type": "execute_result",
          "data": {
            "text/plain": [
              "array([0, 1])"
            ]
          },
          "metadata": {},
          "execution_count": 52
        }
      ]
    },
    {
      "cell_type": "markdown",
      "source": [
        "# **How Many Booking Were Cancelled?**"
      ],
      "metadata": {
        "id": "k-fKrhumdF5s"
      }
    },
    {
      "cell_type": "code",
      "source": [
        "canceled=hotel_booking_new[hotel_booking_new['is_canceled']!=\"Yes\"]\n",
        "plt.rcParams['figure.figsize']=(10,8)\n",
        "sns.countplot(x='arrival_date_year',data=canceled,hue='hotel').set_title('Yearly Cancellation')"
      ],
      "metadata": {
        "id": "QEjrGpIhIdMH",
        "colab": {
          "base_uri": "https://localhost:8080/",
          "height": 531
        },
        "outputId": "63afd8f8-3967-4093-af92-0fbb8c40c4e1"
      },
      "execution_count": 53,
      "outputs": [
        {
          "output_type": "execute_result",
          "data": {
            "text/plain": [
              "Text(0.5, 1.0, 'Yearly Cancellation')"
            ]
          },
          "metadata": {},
          "execution_count": 53
        },
        {
          "output_type": "display_data",
          "data": {
            "text/plain": [
              "<Figure size 720x576 with 1 Axes>"
            ],
            "image/png": "[encoded data removed]"
          },
          "metadata": {
            "needs_background": "light"
          }
        }
      ]
    },
    {
      "cell_type": "code",
      "source": [
        "hotel_booking_new['is_canceled'].unique()"
      ],
      "metadata": {
        "id": "h_JaHSrQ3AWV",
        "colab": {
          "base_uri": "https://localhost:8080/"
        },
        "outputId": "b78ebaae-da14-4380-d3cc-dfdbc1c37ac6"
      },
      "execution_count": 54,
      "outputs": [
        {
          "output_type": "execute_result",
          "data": {
            "text/plain": [
              "array([0, 1])"
            ]
          },
          "metadata": {},
          "execution_count": 54
        }
      ]
    },
    {
      "cell_type": "code",
      "source": [
        "hotel_booking_new['is_canceled'].replace({0:'No',1:'Yes'},inplace= True)"
      ],
      "metadata": {
        "id": "7agRM5hy3lUZ"
      },
      "execution_count": 55,
      "outputs": []
    },
    {
      "cell_type": "code",
      "source": [
        "sns.countplot(hue =\"is_canceled\",data= hotel_booking_new, x='hotel').set_title('Cancellation')"
      ],
      "metadata": {
        "id": "rON_FJIYB4Bb",
        "colab": {
          "base_uri": "https://localhost:8080/",
          "height": 530
        },
        "outputId": "f6ea083e-6068-4c87-a194-d1479b9b3bab"
      },
      "execution_count": 56,
      "outputs": [
        {
          "output_type": "execute_result",
          "data": {
            "text/plain": [
              "Text(0.5, 1.0, 'Cancellation')"
            ]
          },
          "metadata": {},
          "execution_count": 56
        },
        {
          "output_type": "display_data",
          "data": {
            "text/plain": [
              "<Figure size 720x576 with 1 Axes>"
            ],
            "image/png": "[encoded data removed]"
          },
          "metadata": {
            "needs_background": "light"
          }
        }
      ]
    },
    {
      "cell_type": "markdown",
      "source": [
        "# **Which is the busiest month for hotels?**"
      ],
      "metadata": {
        "id": "INimkQ_idfnT"
      }
    },
    {
      "cell_type": "code",
      "source": [
        "hotel_booking_new.groupby(['hotel'])['arrival_date_month'].value_counts()"
      ],
      "metadata": {
        "id": "KtEp3t-j-_Pq",
        "colab": {
          "base_uri": "https://localhost:8080/"
        },
        "outputId": "ab24e2ce-a1a2-4b27-8c75-d5a91483ffd5"
      },
      "execution_count": 57,
      "outputs": [
        {
          "output_type": "execute_result",
          "data": {
            "text/plain": [
              "hotel         arrival_date_month\n",
              "City Hotel    August                8967\n",
              "              May                   8221\n",
              "              July                  8071\n",
              "              June                  7885\n",
              "              October               7580\n",
              "              April                 7469\n",
              "              September             7392\n",
              "              March                 6434\n",
              "              February              4950\n",
              "              November              4334\n",
              "              December              4114\n",
              "              January               3730\n",
              "Resort Hotel  August                4873\n",
              "              July                  4540\n",
              "              April                 3569\n",
              "              May                   3547\n",
              "              October               3502\n",
              "              March                 3279\n",
              "              September             3067\n",
              "              February              3047\n",
              "              June                  3032\n",
              "              December              2596\n",
              "              November              2397\n",
              "              January               2136\n",
              "Name: arrival_date_month, dtype: int64"
            ]
          },
          "metadata": {},
          "execution_count": 57
        }
      ]
    },
    {
      "cell_type": "code",
      "source": [
        "plt.figure(figsize=(18,6))\n",
        "sns.countplot(x='arrival_date_month', hue='hotel', data= hotel_booking_new).set_title('Busiest month')"
      ],
      "metadata": {
        "id": "7mh7q-LBAczu",
        "colab": {
          "base_uri": "https://localhost:8080/",
          "height": 422
        },
        "outputId": "b5cc884c-e1e5-4651-e6e2-c0ecab72b740"
      },
      "execution_count": 58,
      "outputs": [
        {
          "output_type": "execute_result",
          "data": {
            "text/plain": [
              "Text(0.5, 1.0, 'Busiest month')"
            ]
          },
          "metadata": {},
          "execution_count": 58
        },
        {
          "output_type": "display_data",
          "data": {
            "text/plain": [
              "<Figure size 1296x432 with 1 Axes>"
            ],
            "image/png": "[encoded data removed]"
          },
          "metadata": {
            "needs_background": "light"
          }
        }
      ]
    },
    {
      "cell_type": "markdown",
      "source": [
        ""
      ],
      "metadata": {
        "id": "r7XiPVp9Abq-"
      }
    },
    {
      "cell_type": "markdown",
      "source": [
        "From which country most guests come?\n"
      ],
      "metadata": {
        "id": "tNHqBXCWdiw6"
      }
    },
    {
      "cell_type": "code",
      "source": [
        "top10=hotel_booking_new['country'].value_counts().head(10).index.tolist()\n",
        "top10"
      ],
      "metadata": {
        "id": "WyOPfTU2_rem",
        "colab": {
          "base_uri": "https://localhost:8080/"
        },
        "outputId": "54d102c0-01ed-4d4c-b059-44c3ddbeb7ed"
      },
      "execution_count": 59,
      "outputs": [
        {
          "output_type": "execute_result",
          "data": {
            "text/plain": [
              "['PRT', 'GBR', 'FRA', 'ESP', 'DEU', 'ITA', 'IRL', 'BEL', 'BRA', 'NLD']"
            ]
          },
          "metadata": {},
          "execution_count": 59
        }
      ]
    },
    {
      "cell_type": "code",
      "source": [
        "top_10=hotel_booking_new[hotel_booking_new['country'].isin(top10)]"
      ],
      "metadata": {
        "id": "UZd-flTw8Hc5"
      },
      "execution_count": 60,
      "outputs": []
    },
    {
      "cell_type": "code",
      "source": [
        "plt.rcParams['figure.figsize']=(15,8)\n",
        "plt.xlabel('country',fontsize=15)\n",
        "plt.ylabel('counts',fontsize=15)\n",
        "sns.countplot(x='country',hue='hotel',data=top_10).set_title(' Top countries with maximum hotel bookings',fontsize=15)"
      ],
      "metadata": {
        "id": "iYJsV_PO5Jwd",
        "colab": {
          "base_uri": "https://localhost:8080/",
          "height": 537
        },
        "outputId": "5e9c7940-c8c0-44d3-c596-c93ec75b5046"
      },
      "execution_count": 61,
      "outputs": [
        {
          "output_type": "execute_result",
          "data": {
            "text/plain": [
              "Text(0.5, 1.0, ' Top countries with maximum hotel bookings')"
            ]
          },
          "metadata": {},
          "execution_count": 61
        },
        {
          "output_type": "display_data",
          "data": {
            "text/plain": [
              "<Figure size 1080x576 with 1 Axes>"
            ],
            "image/png": "[encoded data removed]"
          },
          "metadata": {
            "needs_background": "light"
          }
        }
      ]
    },
    {
      "cell_type": "markdown",
      "source": [
        "How Long People Stay in the hotel?\n"
      ],
      "metadata": {
        "id": "lTBz7beedlFA"
      }
    },
    {
      "cell_type": "code",
      "source": [
        "hotel_booking_new['stays_in_weekend_nights'].agg('max')"
      ],
      "metadata": {
        "colab": {
          "base_uri": "https://localhost:8080/"
        },
        "id": "rdI4mSCCVIn5",
        "outputId": "71719200-2736-4f21-ed8a-3df51e1b0387"
      },
      "execution_count": 62,
      "outputs": [
        {
          "output_type": "execute_result",
          "data": {
            "text/plain": [
              "16"
            ]
          },
          "metadata": {},
          "execution_count": 62
        }
      ]
    },
    {
      "cell_type": "code",
      "source": [
        "hotel_booking_new['stays_in_week_nights'].agg('max')"
      ],
      "metadata": {
        "colab": {
          "base_uri": "https://localhost:8080/"
        },
        "id": "TrW_BrhBOlGB",
        "outputId": "351fd8a2-8b27-4e43-bdeb-c0dc5e82a9ed"
      },
      "execution_count": 63,
      "outputs": [
        {
          "output_type": "execute_result",
          "data": {
            "text/plain": [
              "40"
            ]
          },
          "metadata": {},
          "execution_count": 63
        }
      ]
    },
    {
      "cell_type": "code",
      "source": [
        "sns.lineplot(x='arrival_date_month',y='adr',hue='hotel',data=hotel_booking_new,marker='D',markersize=10)"
      ],
      "metadata": {
        "colab": {
          "base_uri": "https://localhost:8080/",
          "height": 515
        },
        "id": "TzbOo0HVOfw7",
        "outputId": "61ca2b50-9053-4e10-826b-5cf0fed51f66"
      },
      "execution_count": 64,
      "outputs": [
        {
          "output_type": "execute_result",
          "data": {
            "text/plain": [
              "<matplotlib.axes._subplots.AxesSubplot at 0x7f165879f7d0>"
            ]
          },
          "metadata": {},
          "execution_count": 64
        },
        {
          "output_type": "display_data",
          "data": {
            "text/plain": [
              "<Figure size 1080x576 with 1 Axes>"
            ],
            "image/png": "[encoded data removed]"
          },
          "metadata": {
            "needs_background": "light"
          }
        }
      ]
    },
    {
      "cell_type": "code",
      "source": [
        "sns.lineplot(x='arrival_date_day_of_month',y='adr',hue='hotel',data=hotel_booking_new)\n",
        "plt.legend(loc=\"right bottom\")"
      ],
      "metadata": {
        "colab": {
          "base_uri": "https://localhost:8080/",
          "height": 778
        },
        "id": "kgh3h1ddNv9V",
        "outputId": "dabbd5a3-7c8b-4242-b16e-470bdac87dab"
      },
      "execution_count": 65,
      "outputs": [
        {
          "output_type": "stream",
          "name": "stderr",
          "text": [
            "/usr/local/lib/python3.7/dist-packages/ipykernel_launcher.py:2: MatplotlibDeprecationWarning: Unrecognized location 'right bottom'. Falling back on 'best'; valid locations are\n",
            "\tbest\n",
            "\tupper right\n",
            "\tupper left\n",
            "\tlower left\n",
            "\tlower right\n",
            "\tright\n",
            "\tcenter left\n",
            "\tcenter right\n",
            "\tlower center\n",
            "\tupper center\n",
            "\tcenter\n",
            "This will raise an exception in 3.3.\n",
            "  \n"
          ]
        },
        {
          "output_type": "execute_result",
          "data": {
            "text/plain": [
              "<matplotlib.legend.Legend at 0x7f16586cddd0>"
            ]
          },
          "metadata": {},
          "execution_count": 65
        },
        {
          "output_type": "display_data",
          "data": {
            "text/plain": [
              "<Figure size 1080x576 with 1 Axes>"
            ],
            "image/png": "[encoded data removed]"
          },
          "metadata": {
            "needs_background": "light"
          }
        }
      ]
    },
    {
      "cell_type": "markdown",
      "source": [
        "Which was the most booked accommodation type (Single, Couple, Family)?"
      ],
      "metadata": {
        "id": "amtGxDFGdnsM"
      }
    },
    {
      "cell_type": "markdown",
      "source": [
        "which is the most market segment?"
      ],
      "metadata": {
        "id": "cC6-FIzd7EI1"
      }
    },
    {
      "cell_type": "code",
      "source": [
        ""
      ],
      "metadata": {
        "id": "PsDjiYOrcNdp"
      },
      "execution_count": 65,
      "outputs": []
    },
    {
      "cell_type": "code",
      "source": [
        "market_segment=hotel_booking_new['market_segment'].value_counts()\n",
        "w=market_segment.index.tolist()\n",
        "print(market_segment)\n",
        "print(w)"
      ],
      "metadata": {
        "id": "v8LCvV9pQBhZ",
        "colab": {
          "base_uri": "https://localhost:8080/"
        },
        "outputId": "1a9609ed-eaf9-4e53-8a85-03800db26b62"
      },
      "execution_count": 66,
      "outputs": [
        {
          "output_type": "stream",
          "name": "stdout",
          "text": [
            "Online TA        56334\n",
            "Offline TA/TO    24125\n",
            "Groups           19786\n",
            "Direct           12425\n",
            "Corporate         5099\n",
            "Complementary      726\n",
            "Aviation           235\n",
            "Undefined            2\n",
            "Name: market_segment, dtype: int64\n",
            "['Online TA', 'Offline TA/TO', 'Groups', 'Direct', 'Corporate', 'Complementary', 'Aviation', 'Undefined']\n"
          ]
        }
      ]
    },
    {
      "cell_type": "code",
      "source": [
        "v=hotel_booking_new['market_segment'].value_counts().tolist()\n",
        "sum=0\n",
        "for i in v:\n",
        "  sum=sum+i\n",
        "sum"
      ],
      "metadata": {
        "id": "RK4itBNuLW3K",
        "colab": {
          "base_uri": "https://localhost:8080/"
        },
        "outputId": "f7ed3771-235f-43ca-90af-747064db10e4"
      },
      "execution_count": 67,
      "outputs": [
        {
          "output_type": "execute_result",
          "data": {
            "text/plain": [
              "118732"
            ]
          },
          "metadata": {},
          "execution_count": 67
        }
      ]
    },
    {
      "cell_type": "code",
      "source": [
        "v"
      ],
      "metadata": {
        "colab": {
          "base_uri": "https://localhost:8080/"
        },
        "id": "-ANXnKdmcFym",
        "outputId": "00058943-183c-4524-fb04-226c2a71d744"
      },
      "execution_count": 68,
      "outputs": [
        {
          "output_type": "execute_result",
          "data": {
            "text/plain": [
              "[56334, 24125, 19786, 12425, 5099, 726, 235, 2]"
            ]
          },
          "metadata": {},
          "execution_count": 68
        }
      ]
    },
    {
      "cell_type": "code",
      "source": [
        ""
      ],
      "metadata": {
        "id": "6FAzj-8KcF2E"
      },
      "execution_count": 68,
      "outputs": []
    },
    {
      "cell_type": "code",
      "source": [
        "tot=[]\n",
        "for i in v:\n",
        "  tot.append(str(round(i*100/sum,1))+\"%\")\n",
        "tot"
      ],
      "metadata": {
        "colab": {
          "base_uri": "https://localhost:8080/"
        },
        "id": "jClUQZTAQDxG",
        "outputId": "24a384bd-2e8e-42df-e507-59fdda052684"
      },
      "execution_count": 69,
      "outputs": [
        {
          "output_type": "execute_result",
          "data": {
            "text/plain": [
              "['47.4%', '20.3%', '16.7%', '10.5%', '4.3%', '0.6%', '0.2%', '0.0%']"
            ]
          },
          "metadata": {},
          "execution_count": 69
        }
      ]
    },
    {
      "cell_type": "code",
      "source": [
        "q=list(zip(w,tot))\n",
        "q"
      ],
      "metadata": {
        "colab": {
          "base_uri": "https://localhost:8080/"
        },
        "id": "Ajd8Zp5nLj6V",
        "outputId": "b0fff320-cd14-4d6e-dd3a-2a55ed079f04"
      },
      "execution_count": 70,
      "outputs": [
        {
          "output_type": "execute_result",
          "data": {
            "text/plain": [
              "[('Online TA', '47.4%'),\n",
              " ('Offline TA/TO', '20.3%'),\n",
              " ('Groups', '16.7%'),\n",
              " ('Direct', '10.5%'),\n",
              " ('Corporate', '4.3%'),\n",
              " ('Complementary', '0.6%'),\n",
              " ('Aviation', '0.2%'),\n",
              " ('Undefined', '0.0%')]"
            ]
          },
          "metadata": {},
          "execution_count": 70
        }
      ]
    },
    {
      "cell_type": "code",
      "source": [
        ""
      ],
      "metadata": {
        "id": "liGj0tpFOFR8"
      },
      "execution_count": 70,
      "outputs": []
    },
    {
      "cell_type": "code",
      "source": [
        "l=[]\n",
        "for i in q:\n",
        "  n = str(i).replace(\",\",\"=\")\n",
        "  l.append(n)\n",
        "l"
      ],
      "metadata": {
        "colab": {
          "base_uri": "https://localhost:8080/"
        },
        "id": "gGDNTrv_MOfv",
        "outputId": "831661b3-753a-466b-bc3e-2bc0395a5946"
      },
      "execution_count": 71,
      "outputs": [
        {
          "output_type": "execute_result",
          "data": {
            "text/plain": [
              "[\"('Online TA'= '47.4%')\",\n",
              " \"('Offline TA/TO'= '20.3%')\",\n",
              " \"('Groups'= '16.7%')\",\n",
              " \"('Direct'= '10.5%')\",\n",
              " \"('Corporate'= '4.3%')\",\n",
              " \"('Complementary'= '0.6%')\",\n",
              " \"('Aviation'= '0.2%')\",\n",
              " \"('Undefined'= '0.0%')\"]"
            ]
          },
          "metadata": {},
          "execution_count": 71
        }
      ]
    },
    {
      "cell_type": "code",
      "source": [
        "l=np.array(l)\n",
        "l.shape"
      ],
      "metadata": {
        "colab": {
          "base_uri": "https://localhost:8080/"
        },
        "id": "gzcdDA_tOsq5",
        "outputId": "4fec915a-ac9d-4e45-bf2d-f45b04489069"
      },
      "execution_count": 72,
      "outputs": [
        {
          "output_type": "execute_result",
          "data": {
            "text/plain": [
              "(8,)"
            ]
          },
          "metadata": {},
          "execution_count": 72
        }
      ]
    },
    {
      "cell_type": "code",
      "source": [
        "\n",
        "plt.rcParams['figure.figsize']=(20,15)\n",
        "plt.rcParams['font.size']=15\n",
        "# x=market_segment.plot.pie(fontsize=12,title='Market Segment',ylabel='',explode=[0,0.2,0.2,0.2,0.2,0.2,0.2,0])\n",
        "patches, texts = plt.pie(market_segment, startangle=90, radius=1.2)\n",
        "plt.legend(patches,labels=l,loc='top right')\n",
        "plt.axis('equal')\n",
        "plt.show()"
      ],
      "metadata": {
        "colab": {
          "base_uri": "https://localhost:8080/",
          "height": 1000
        },
        "id": "zzY3TN2ZSmvR",
        "outputId": "03e8bda3-481f-4e59-c1a1-9a5a7ef28b52"
      },
      "execution_count": 73,
      "outputs": [
        {
          "output_type": "stream",
          "name": "stderr",
          "text": [
            "/usr/local/lib/python3.7/dist-packages/ipykernel_launcher.py:6: UserWarning: You have mixed positional and keyword arguments, some input may be discarded.\n",
            "  \n",
            "/usr/local/lib/python3.7/dist-packages/ipykernel_launcher.py:6: MatplotlibDeprecationWarning: Unrecognized location 'top right'. Falling back on 'best'; valid locations are\n",
            "\tbest\n",
            "\tupper right\n",
            "\tupper left\n",
            "\tlower left\n",
            "\tlower right\n",
            "\tright\n",
            "\tcenter left\n",
            "\tcenter right\n",
            "\tlower center\n",
            "\tupper center\n",
            "\tcenter\n",
            "This will raise an exception in 3.3.\n",
            "  \n"
          ]
        },
        {
          "output_type": "display_data",
          "data": {
            "text/plain": [
              "<Figure size 1440x1080 with 1 Axes>"
            ],
            "image/png": "[encoded data removed]"
          },
          "metadata": {}
        }
      ]
    },
    {
      "cell_type": "markdown",
      "source": [
        "What is the relationship between lead time and cancellation?\n"
      ],
      "metadata": {
        "id": "rchrjRAq7LRz"
      }
    },
    {
      "cell_type": "code",
      "source": [
        "x=hotel_booking_new['hotel'].value_counts().sum()\n"
      ],
      "metadata": {
        "id": "Xkjkk7PqE2-B"
      },
      "execution_count": 74,
      "outputs": []
    },
    {
      "cell_type": "code",
      "source": [
        "rel_lead_canc=hotel_booking_new.groupby(['lead_time','is_canceled'])['hotel'].size().unstack().reset_index()\n",
        "rel_lead_canc.head()"
      ],
      "metadata": {
        "id": "CznTah94aMUI",
        "colab": {
          "base_uri": "https://localhost:8080/",
          "height": 206
        },
        "outputId": "18e96a18-8a56-4e7c-a96b-32bae42621aa"
      },
      "execution_count": 75,
      "outputs": [
        {
          "output_type": "execute_result",
          "data": {
            "text/plain": [
              "is_canceled  lead_time      No    Yes\n",
              "0                    0  5739.0  413.0\n",
              "1                    1  3064.0  316.0\n",
              "2                    2  1819.0  211.0\n",
              "3                    3  1620.0  181.0\n",
              "4                    4  1519.0  172.0"
            ],
            "text/html": [
              "\n",
              "  <div id=\"df-9234f569-8e60-491c-aac1-c3e11320c4a9\">\n",
              "    <div class=\"colab-df-container\">\n",
              "      <div>\n",
              "<style scoped>\n",
              "    .dataframe tbody tr th:only-of-type {\n",
              "        vertical-align: middle;\n",
              "    }\n",
              "\n",
              "    .dataframe tbody tr th {\n",
              "        vertical-align: top;\n",
              "    }\n",
              "\n",
              "    .dataframe thead th {\n",
              "        text-align: right;\n",
              "    }\n",
              "</style>\n",
              "<table border=\"1\" class=\"dataframe\">\n",
              "  <thead>\n",
              "    <tr style=\"text-align: right;\">\n",
              "      <th>is_canceled</th>\n",
              "      <th>lead_time</th>\n",
              "      <th>No</th>\n",
              "      <th>Yes</th>\n",
              "    </tr>\n",
              "  </thead>\n",
              "  <tbody>\n",
              "    <tr>\n",
              "      <th>0</th>\n",
              "      <td>0</td>\n",
              "      <td>5739.0</td>\n",
              "      <td>413.0</td>\n",
              "    </tr>\n",
              "    <tr>\n",
              "      <th>1</th>\n",
              "      <td>1</td>\n",
              "      <td>3064.0</td>\n",
              "      <td>316.0</td>\n",
              "    </tr>\n",
              "    <tr>\n",
              "      <th>2</th>\n",
              "      <td>2</td>\n",
              "      <td>1819.0</td>\n",
              "      <td>211.0</td>\n",
              "    </tr>\n",
              "    <tr>\n",
              "      <th>3</th>\n",
              "      <td>3</td>\n",
              "      <td>1620.0</td>\n",
              "      <td>181.0</td>\n",
              "    </tr>\n",
              "    <tr>\n",
              "      <th>4</th>\n",
              "      <td>4</td>\n",
              "      <td>1519.0</td>\n",
              "      <td>172.0</td>\n",
              "    </tr>\n",
              "  </tbody>\n",
              "</table>\n",
              "</div>\n",
              "      <button class=\"colab-df-convert\" onclick=\"convertToInteractive('df-9234f569-8e60-491c-aac1-c3e11320c4a9')\"\n",
              "              title=\"Convert this dataframe to an interactive table.\"\n",
              "              style=\"display:none;\">\n",
              "        \n",
              "  <svg xmlns=\"http://www.w3.org/2000/svg\" height=\"24px\"viewBox=\"0 0 24 24\"\n",
              "       width=\"24px\">\n",
              "    <path d=\"M0 0h24v24H0V0z\" fill=\"none\"/>\n",
              "    <path d=\"M18.56 5.44l.94 2.06.94-2.06 2.06-.94-2.06-.94-.94-2.06-.94 2.06-2.06.94zm-11 1L8.5 8.5l.94-2.06 2.06-.94-2.06-.94L8.5 2.5l-.94 2.06-2.06.94zm10 10l.94 2.06.94-2.06 2.06-.94-2.06-.94-.94-2.06-.94 2.06-2.06.94z\"/><path d=\"M17.41 7.96l-1.37-1.37c-.4-.4-.92-.59-1.43-.59-.52 0-1.04.2-1.43.59L10.3 9.45l-7.72 7.72c-.78.78-.78 2.05 0 2.83L4 21.41c.39.39.9.59 1.41.59.51 0 1.02-.2 1.41-.59l7.78-7.78 2.81-2.81c.8-.78.8-2.07 0-2.86zM5.41 20L4 18.59l7.72-7.72 1.47 1.35L5.41 20z\"/>\n",
              "  </svg>\n",
              "      </button>\n",
              "      \n",
              "  <style>\n",
              "    .colab-df-container {\n",
              "      display:flex;\n",
              "      flex-wrap:wrap;\n",
              "      gap: 12px;\n",
              "    }\n",
              "\n",
              "    .colab-df-convert {\n",
              "      background-color: #E8F0FE;\n",
              "      border: none;\n",
              "      border-radius: 50%;\n",
              "      cursor: pointer;\n",
              "      display: none;\n",
              "      fill: #1967D2;\n",
              "      height: 32px;\n",
              "      padding: 0 0 0 0;\n",
              "      width: 32px;\n",
              "    }\n",
              "\n",
              "    .colab-df-convert:hover {\n",
              "      background-color: #E2EBFA;\n",
              "      box-shadow: 0px 1px 2px rgba(60, 64, 67, 0.3), 0px 1px 3px 1px rgba(60, 64, 67, 0.15);\n",
              "      fill: #174EA6;\n",
              "    }\n",
              "\n",
              "    [theme=dark] .colab-df-convert {\n",
              "      background-color: #3B4455;\n",
              "      fill: #D2E3FC;\n",
              "    }\n",
              "\n",
              "    [theme=dark] .colab-df-convert:hover {\n",
              "      background-color: #434B5C;\n",
              "      box-shadow: 0px 1px 3px 1px rgba(0, 0, 0, 0.15);\n",
              "      filter: drop-shadow(0px 1px 2px rgba(0, 0, 0, 0.3));\n",
              "      fill: #FFFFFF;\n",
              "    }\n",
              "  </style>\n",
              "\n",
              "      <script>\n",
              "        const buttonEl =\n",
              "          document.querySelector('#df-9234f569-8e60-491c-aac1-c3e11320c4a9 button.colab-df-convert');\n",
              "        buttonEl.style.display =\n",
              "          google.colab.kernel.accessAllowed ? 'block' : 'none';\n",
              "\n",
              "        async function convertToInteractive(key) {\n",
              "          const element = document.querySelector('#df-9234f569-8e60-491c-aac1-c3e11320c4a9');\n",
              "          const dataTable =\n",
              "            await google.colab.kernel.invokeFunction('convertToInteractive',\n",
              "                                                     [key], {});\n",
              "          if (!dataTable) return;\n",
              "\n",
              "          const docLinkHtml = 'Like what you see? Visit the ' +\n",
              "            '<a target=\"_blank\" href=https://colab.research.google.com/notebooks/data_table.ipynb>data table notebook</a>'\n",
              "            + ' to learn more about interactive tables.';\n",
              "          element.innerHTML = '';\n",
              "          dataTable['output_type'] = 'display_data';\n",
              "          await google.colab.output.renderOutput(dataTable, element);\n",
              "          const docLink = document.createElement('div');\n",
              "          docLink.innerHTML = docLinkHtml;\n",
              "          element.appendChild(docLink);\n",
              "        }\n",
              "      </script>\n",
              "    </div>\n",
              "  </div>\n",
              "  "
            ]
          },
          "metadata": {},
          "execution_count": 75
        }
      ]
    },
    {
      "cell_type": "code",
      "source": [
        "plt.rcParams['figure.figsize']=(15,8)\n",
        "lead_time=rel_lead_canc.loc[:,['lead_time']]\n",
        "lt=lead_time.lead_time.to_list()"
      ],
      "metadata": {
        "id": "GZQqtUpO_czr"
      },
      "execution_count": 76,
      "outputs": []
    },
    {
      "cell_type": "code",
      "source": [
        "No=rel_lead_canc.No.fillna(0)\n",
        "Yes=rel_lead_canc.Yes.fillna(0)"
      ],
      "metadata": {
        "id": "11U-qU547uya"
      },
      "execution_count": 77,
      "outputs": []
    },
    {
      "cell_type": "code",
      "source": [
        "plt.rcParams['figure.figsize']=(25,10)\n",
        "plt.plot(lt,Yes,color='r')\n",
        "plt.plot(lt,No,color='k')\n",
        "plt.xlabel('Lead Time')\n",
        "plt.ylabel('no of hotels')\n",
        "plt.legend(title='is canceled',labels=['Yes','No'])\n",
        "plt.title('relation between lead time and cancellation')"
      ],
      "metadata": {
        "colab": {
          "base_uri": "https://localhost:8080/",
          "height": 599
        },
        "id": "hXEO91Bz8Qkc",
        "outputId": "4311b006-25c9-408f-8209-e8b04ed99c46"
      },
      "execution_count": 78,
      "outputs": [
        {
          "output_type": "execute_result",
          "data": {
            "text/plain": [
              "Text(0.5, 1.0, 'relation between lead time and cancellation')"
            ]
          },
          "metadata": {},
          "execution_count": 78
        },
        {
          "output_type": "display_data",
          "data": {
            "text/plain": [
              "<Figure size 1800x720 with 1 Axes>"
            ],
            "image/png": "[encoded data removed]"
          },
          "metadata": {
            "needs_background": "light"
          }
        }
      ]
    },
    {
      "cell_type": "markdown",
      "source": [
        "Market segment has any impact on repeated customer?"
      ],
      "metadata": {
        "id": "Ku-vYftb-lSv"
      }
    },
    {
      "cell_type": "code",
      "source": [
        "hotel_booking_new['is_repeated_guest'].replace({0:'No',1:'Yes'},inplace=True)"
      ],
      "metadata": {
        "id": "JhK5BGIjBgT4"
      },
      "execution_count": 79,
      "outputs": []
    },
    {
      "cell_type": "code",
      "source": [
        "repeated_quest=hotel_booking_new[hotel_booking_new['is_repeated_guest']=='Yes']\n",
        "not_repeated_quest=hotel_booking_new[hotel_booking_new['is_repeated_guest']=='No']"
      ],
      "metadata": {
        "id": "3eunkH3yA6Yy"
      },
      "execution_count": 80,
      "outputs": []
    },
    {
      "cell_type": "code",
      "source": [
        "plt.xticks(rotation=90)\n",
        "sns.countplot(x='market_segment',hue='is_repeated_guest',data=hotel_booking_new)"
      ],
      "metadata": {
        "colab": {
          "base_uri": "https://localhost:8080/",
          "height": 674
        },
        "id": "vrLW-axqBHLD",
        "outputId": "aeae4aff-ced0-4550-9650-6de54f7dbf2d"
      },
      "execution_count": 81,
      "outputs": [
        {
          "output_type": "execute_result",
          "data": {
            "text/plain": [
              "<matplotlib.axes._subplots.AxesSubplot at 0x7f1656d1c9d0>"
            ]
          },
          "metadata": {},
          "execution_count": 81
        },
        {
          "output_type": "display_data",
          "data": {
            "text/plain": [
              "<Figure size 1800x720 with 1 Axes>"
            ],
            "image/png": "[encoded data removed]"
          },
          "metadata": {
            "needs_background": "light"
          }
        }
      ]
    },
    {
      "cell_type": "markdown",
      "source": [
        "If guests are assgined different room then reserved are they cancelling?\n"
      ],
      "metadata": {
        "id": "DjTeqvdhDRpz"
      }
    },
    {
      "cell_type": "code",
      "source": [
        "hotel_booking_new['required_car_parking_spaces'].value_counts()\n"
      ],
      "metadata": {
        "id": "kIFoKoOv2-KK",
        "colab": {
          "base_uri": "https://localhost:8080/"
        },
        "outputId": "346f5f43-e67c-4fcb-f636-8bca9ebef78e"
      },
      "execution_count": 82,
      "outputs": [
        {
          "output_type": "execute_result",
          "data": {
            "text/plain": [
              "0    111429\n",
              "1      7270\n",
              "2        28\n",
              "3         3\n",
              "8         2\n",
              "Name: required_car_parking_spaces, dtype: int64"
            ]
          },
          "metadata": {},
          "execution_count": 82
        }
      ]
    },
    {
      "cell_type": "code",
      "source": [
        "x_car=hotel_booking_new['required_car_parking_spaces'].value_counts().index.tolist()\n",
        "y_car=hotel_booking_new['required_car_parking_spaces'].value_counts().tolist()"
      ],
      "metadata": {
        "id": "AMunuhseMNPP"
      },
      "execution_count": 83,
      "outputs": []
    },
    {
      "cell_type": "code",
      "source": [
        "plt.rcParams['figure.figsize']=(10,8)\n",
        "plt.plot(x_car,y_car,marker='D',ls='dotted')\n",
        "plt.ylabel('Count')\n",
        "plt.xlabel(\"no of parkings\")\n",
        "plt.title('Required car parking spaces')"
      ],
      "metadata": {
        "colab": {
          "base_uri": "https://localhost:8080/",
          "height": 544
        },
        "id": "K-KHiCG4MlY3",
        "outputId": "a76b62c4-bc32-49f6-8ae4-40df829756f2"
      },
      "execution_count": 84,
      "outputs": [
        {
          "output_type": "execute_result",
          "data": {
            "text/plain": [
              "Text(0.5, 1.0, 'Required car parking spaces')"
            ]
          },
          "metadata": {},
          "execution_count": 84
        },
        {
          "output_type": "display_data",
          "data": {
            "text/plain": [
              "<Figure size 720x576 with 1 Axes>"
            ],
            "image/png": "[encoded data removed]"
          },
          "metadata": {
            "needs_background": "light"
          }
        }
      ]
    },
    {
      "cell_type": "code",
      "source": [
        "sns.countplot(x='required_car_parking_spaces',hue='hotel',data= hotel_booking_new)"
      ],
      "metadata": {
        "colab": {
          "base_uri": "https://localhost:8080/",
          "height": 525
        },
        "id": "l7tTtPYLK8Rv",
        "outputId": "f266f3eb-3122-48da-8e68-26ce9ef5fcd7"
      },
      "execution_count": 85,
      "outputs": [
        {
          "output_type": "execute_result",
          "data": {
            "text/plain": [
              "<matplotlib.axes._subplots.AxesSubplot at 0x7f16586c2a10>"
            ]
          },
          "metadata": {},
          "execution_count": 85
        },
        {
          "output_type": "display_data",
          "data": {
            "text/plain": [
              "<Figure size 720x576 with 1 Axes>"
            ],
            "image/png": "[encoded data removed]"
          },
          "metadata": {
            "needs_background": "light"
          }
        }
      ]
    },
    {
      "cell_type": "code",
      "source": [
        "hotel_booking_new.columns"
      ],
      "metadata": {
        "colab": {
          "base_uri": "https://localhost:8080/"
        },
        "id": "wVTU_yrI5W_P",
        "outputId": "506b7900-38df-4549-8a60-84e1d9436ebe"
      },
      "execution_count": 86,
      "outputs": [
        {
          "output_type": "execute_result",
          "data": {
            "text/plain": [
              "Index(['hotel', 'is_canceled', 'lead_time', 'arrival_date_year',\n",
              "       'arrival_date_month', 'arrival_date_week_number',\n",
              "       'arrival_date_day_of_month', 'stays_in_weekend_nights',\n",
              "       'stays_in_week_nights', 'adults', 'meal', 'country', 'market_segment',\n",
              "       'distribution_channel', 'is_repeated_guest', 'previous_cancellations',\n",
              "       'previous_bookings_not_canceled', 'reserved_room_type',\n",
              "       'assigned_room_type', 'booking_changes', 'deposit_type',\n",
              "       'days_in_waiting_list', 'customer_type', 'adr',\n",
              "       'required_car_parking_spaces', 'total_of_special_requests',\n",
              "       'reservation_status', 'reservation_status_date', 'Kids'],\n",
              "      dtype='object')"
            ]
          },
          "metadata": {},
          "execution_count": 86
        }
      ]
    },
    {
      "cell_type": "code",
      "source": [
        "check_out=hotel_booking_new[hotel_booking_new['reservation_status']=='Check-Out']\n",
        "check_out=check_out[['reservation_status_date','arrival_date_day_of_month','arrival_date_month','arrival_date_year']]\n"
      ],
      "metadata": {
        "id": "Z2zA9lLMLiRP"
      },
      "execution_count": 87,
      "outputs": []
    },
    {
      "cell_type": "code",
      "source": [
        "from datetime import datetime\n",
        "check_out['reservation_status_date']=pd.to_datetime(check_out['reservation_status_date'], format='%Y-%m-%d')\n",
        "check_out['reservation_status_date']\n",
        "check_in=check_out.iloc[:,1:]\n",
        "day=check_in['arrival_date_day_of_month'].tolist()\n",
        "month=check_in['arrival_date_month'].tolist()\n",
        "year=check_in['arrival_date_year'].tolist()"
      ],
      "metadata": {
        "id": "pUPoW6n760nG"
      },
      "execution_count": 88,
      "outputs": []
    },
    {
      "cell_type": "code",
      "source": [
        "check_in_date=list(zip(day,month,year))\n",
        "check_in_date=np.array(check_in_date)\n",
        "check_in_date"
      ],
      "metadata": {
        "colab": {
          "base_uri": "https://localhost:8080/"
        },
        "id": "evyqRlsP5E_6",
        "outputId": "f74ae2e6-08cb-456d-dfba-6f4917823f3d"
      },
      "execution_count": 89,
      "outputs": [
        {
          "output_type": "execute_result",
          "data": {
            "text/plain": [
              "array([['1', 'July', '2015'],\n",
              "       ['1', 'July', '2015'],\n",
              "       ['1', 'July', '2015'],\n",
              "       ...,\n",
              "       ['31', 'August', '2017'],\n",
              "       ['31', 'August', '2017'],\n",
              "       ['29', 'August', '2017']], dtype='<U21')"
            ]
          },
          "metadata": {},
          "execution_count": 89
        }
      ]
    },
    {
      "cell_type": "code",
      "source": [
        "check_date=[]\n",
        "for i in check_in_date:\n",
        "  v=i[2]+'-'+i[1][:3]+'-'+i[0]\n",
        "  check_date.append(datetime.strptime(v,'%Y-%b-%d'))\n",
        "check_date\n",
        "  \n"
      ],
      "metadata": {
        "id": "vLi9NVVIDdA1",
        "colab": {
          "base_uri": "https://localhost:8080/"
        },
        "outputId": "6b756ffb-8c91-4523-aa31-19d8d14a4ceb"
      },
      "execution_count": 90,
      "outputs": [
        {
          "output_type": "execute_result",
          "data": {
            "text/plain": [
              "[datetime.datetime(2015, 7, 1, 0, 0),\n",
              " datetime.datetime(2015, 7, 1, 0, 0),\n",
              " datetime.datetime(2015, 7, 1, 0, 0),\n",
              " datetime.datetime(2015, 7, 1, 0, 0),\n",
              " datetime.datetime(2015, 7, 1, 0, 0),\n",
              " datetime.datetime(2015, 7, 1, 0, 0),\n",
              " datetime.datetime(2015, 7, 1, 0, 0),\n",
              " datetime.datetime(2015, 7, 1, 0, 0),\n",
              " datetime.datetime(2015, 7, 1, 0, 0),\n",
              " datetime.datetime(2015, 7, 1, 0, 0),\n",
              " datetime.datetime(2015, 7, 1, 0, 0),\n",
              " datetime.datetime(2015, 7, 1, 0, 0),\n",
              " datetime.datetime(2015, 7, 1, 0, 0),\n",
              " datetime.datetime(2015, 7, 1, 0, 0),\n",
              " datetime.datetime(2015, 7, 1, 0, 0),\n",
              " datetime.datetime(2015, 7, 1, 0, 0),\n",
              " datetime.datetime(2015, 7, 1, 0, 0),\n",
              " datetime.datetime(2015, 7, 1, 0, 0),\n",
              " datetime.datetime(2015, 7, 1, 0, 0),\n",
              " datetime.datetime(2015, 7, 1, 0, 0),\n",
              " datetime.datetime(2015, 7, 1, 0, 0),\n",
              " datetime.datetime(2015, 7, 1, 0, 0),\n",
              " datetime.datetime(2015, 7, 1, 0, 0),\n",
              " datetime.datetime(2015, 7, 1, 0, 0),\n",
              " datetime.datetime(2015, 7, 1, 0, 0),\n",
              " datetime.datetime(2015, 7, 1, 0, 0),\n",
              " datetime.datetime(2015, 7, 1, 0, 0),\n",
              " datetime.datetime(2015, 7, 2, 0, 0),\n",
              " datetime.datetime(2015, 7, 2, 0, 0),\n",
              " datetime.datetime(2015, 7, 2, 0, 0),\n",
              " datetime.datetime(2015, 7, 2, 0, 0),\n",
              " datetime.datetime(2015, 7, 2, 0, 0),\n",
              " datetime.datetime(2015, 7, 2, 0, 0),\n",
              " datetime.datetime(2015, 7, 2, 0, 0),\n",
              " datetime.datetime(2015, 7, 2, 0, 0),\n",
              " datetime.datetime(2015, 7, 2, 0, 0),\n",
              " datetime.datetime(2015, 7, 2, 0, 0),\n",
              " datetime.datetime(2015, 7, 2, 0, 0),\n",
              " datetime.datetime(2015, 7, 2, 0, 0),\n",
              " datetime.datetime(2015, 7, 2, 0, 0),\n",
              " datetime.datetime(2015, 7, 2, 0, 0),\n",
              " datetime.datetime(2015, 7, 2, 0, 0),\n",
              " datetime.datetime(2015, 7, 2, 0, 0),\n",
              " datetime.datetime(2015, 7, 2, 0, 0),\n",
              " datetime.datetime(2015, 7, 2, 0, 0),\n",
              " datetime.datetime(2015, 7, 2, 0, 0),\n",
              " datetime.datetime(2015, 7, 2, 0, 0),\n",
              " datetime.datetime(2015, 7, 2, 0, 0),\n",
              " datetime.datetime(2015, 7, 2, 0, 0),\n",
              " datetime.datetime(2015, 7, 2, 0, 0),\n",
              " datetime.datetime(2015, 7, 2, 0, 0),\n",
              " datetime.datetime(2015, 7, 2, 0, 0),\n",
              " datetime.datetime(2015, 7, 2, 0, 0),\n",
              " datetime.datetime(2015, 7, 3, 0, 0),\n",
              " datetime.datetime(2015, 7, 3, 0, 0),\n",
              " datetime.datetime(2015, 7, 3, 0, 0),\n",
              " datetime.datetime(2015, 7, 3, 0, 0),\n",
              " datetime.datetime(2015, 7, 3, 0, 0),\n",
              " datetime.datetime(2015, 7, 3, 0, 0),\n",
              " datetime.datetime(2015, 7, 3, 0, 0),\n",
              " datetime.datetime(2015, 7, 3, 0, 0),\n",
              " datetime.datetime(2015, 7, 3, 0, 0),\n",
              " datetime.datetime(2015, 7, 3, 0, 0),\n",
              " datetime.datetime(2015, 7, 3, 0, 0),\n",
              " datetime.datetime(2015, 7, 3, 0, 0),\n",
              " datetime.datetime(2015, 7, 3, 0, 0),\n",
              " datetime.datetime(2015, 7, 3, 0, 0),\n",
              " datetime.datetime(2015, 7, 3, 0, 0),\n",
              " datetime.datetime(2015, 7, 3, 0, 0),\n",
              " datetime.datetime(2015, 7, 3, 0, 0),\n",
              " datetime.datetime(2015, 7, 3, 0, 0),\n",
              " datetime.datetime(2015, 7, 3, 0, 0),\n",
              " datetime.datetime(2015, 7, 3, 0, 0),\n",
              " datetime.datetime(2015, 7, 3, 0, 0),\n",
              " datetime.datetime(2015, 7, 3, 0, 0),\n",
              " datetime.datetime(2015, 7, 3, 0, 0),\n",
              " datetime.datetime(2015, 7, 4, 0, 0),\n",
              " datetime.datetime(2015, 7, 4, 0, 0),\n",
              " datetime.datetime(2015, 7, 4, 0, 0),\n",
              " datetime.datetime(2015, 7, 4, 0, 0),\n",
              " datetime.datetime(2015, 7, 4, 0, 0),\n",
              " datetime.datetime(2015, 7, 4, 0, 0),\n",
              " datetime.datetime(2015, 7, 4, 0, 0),\n",
              " datetime.datetime(2015, 7, 4, 0, 0),\n",
              " datetime.datetime(2015, 7, 4, 0, 0),\n",
              " datetime.datetime(2015, 7, 4, 0, 0),\n",
              " datetime.datetime(2015, 7, 4, 0, 0),\n",
              " datetime.datetime(2015, 7, 4, 0, 0),\n",
              " datetime.datetime(2015, 7, 4, 0, 0),\n",
              " datetime.datetime(2015, 7, 4, 0, 0),\n",
              " datetime.datetime(2015, 7, 4, 0, 0),\n",
              " datetime.datetime(2015, 7, 4, 0, 0),\n",
              " datetime.datetime(2015, 7, 4, 0, 0),\n",
              " datetime.datetime(2015, 7, 4, 0, 0),\n",
              " datetime.datetime(2015, 7, 4, 0, 0),\n",
              " datetime.datetime(2015, 7, 4, 0, 0),\n",
              " datetime.datetime(2015, 7, 4, 0, 0),\n",
              " datetime.datetime(2015, 7, 4, 0, 0),\n",
              " datetime.datetime(2015, 7, 4, 0, 0),\n",
              " datetime.datetime(2015, 7, 5, 0, 0),\n",
              " datetime.datetime(2015, 7, 5, 0, 0),\n",
              " datetime.datetime(2015, 7, 5, 0, 0),\n",
              " datetime.datetime(2015, 7, 5, 0, 0),\n",
              " datetime.datetime(2015, 7, 5, 0, 0),\n",
              " datetime.datetime(2015, 7, 5, 0, 0),\n",
              " datetime.datetime(2015, 7, 5, 0, 0),\n",
              " datetime.datetime(2015, 7, 5, 0, 0),\n",
              " datetime.datetime(2015, 7, 5, 0, 0),\n",
              " datetime.datetime(2015, 7, 5, 0, 0),\n",
              " datetime.datetime(2015, 7, 5, 0, 0),\n",
              " datetime.datetime(2015, 7, 5, 0, 0),\n",
              " datetime.datetime(2015, 7, 5, 0, 0),\n",
              " datetime.datetime(2015, 7, 5, 0, 0),\n",
              " datetime.datetime(2015, 7, 5, 0, 0),\n",
              " datetime.datetime(2015, 7, 5, 0, 0),\n",
              " datetime.datetime(2015, 7, 5, 0, 0),\n",
              " datetime.datetime(2015, 7, 5, 0, 0),\n",
              " datetime.datetime(2015, 7, 5, 0, 0),\n",
              " datetime.datetime(2015, 7, 5, 0, 0),\n",
              " datetime.datetime(2015, 7, 5, 0, 0),\n",
              " datetime.datetime(2015, 7, 5, 0, 0),\n",
              " datetime.datetime(2015, 7, 5, 0, 0),\n",
              " datetime.datetime(2015, 7, 5, 0, 0),\n",
              " datetime.datetime(2015, 7, 6, 0, 0),\n",
              " datetime.datetime(2015, 7, 6, 0, 0),\n",
              " datetime.datetime(2015, 7, 6, 0, 0),\n",
              " datetime.datetime(2015, 7, 6, 0, 0),\n",
              " datetime.datetime(2015, 7, 6, 0, 0),\n",
              " datetime.datetime(2015, 7, 6, 0, 0),\n",
              " datetime.datetime(2015, 7, 6, 0, 0),\n",
              " datetime.datetime(2015, 7, 6, 0, 0),\n",
              " datetime.datetime(2015, 7, 6, 0, 0),\n",
              " datetime.datetime(2015, 7, 6, 0, 0),\n",
              " datetime.datetime(2015, 7, 6, 0, 0),\n",
              " datetime.datetime(2015, 7, 6, 0, 0),\n",
              " datetime.datetime(2015, 7, 6, 0, 0),\n",
              " datetime.datetime(2015, 7, 6, 0, 0),\n",
              " datetime.datetime(2015, 7, 6, 0, 0),\n",
              " datetime.datetime(2015, 7, 6, 0, 0),\n",
              " datetime.datetime(2015, 7, 6, 0, 0),\n",
              " datetime.datetime(2015, 7, 6, 0, 0),\n",
              " datetime.datetime(2015, 7, 6, 0, 0),\n",
              " datetime.datetime(2015, 7, 6, 0, 0),\n",
              " datetime.datetime(2015, 7, 6, 0, 0),\n",
              " datetime.datetime(2015, 7, 6, 0, 0),\n",
              " datetime.datetime(2015, 7, 6, 0, 0),\n",
              " datetime.datetime(2015, 7, 6, 0, 0),\n",
              " datetime.datetime(2015, 7, 6, 0, 0),\n",
              " datetime.datetime(2015, 7, 6, 0, 0),\n",
              " datetime.datetime(2015, 7, 6, 0, 0),\n",
              " datetime.datetime(2015, 7, 6, 0, 0),\n",
              " datetime.datetime(2015, 7, 6, 0, 0),\n",
              " datetime.datetime(2015, 7, 6, 0, 0),\n",
              " datetime.datetime(2015, 7, 7, 0, 0),\n",
              " datetime.datetime(2015, 7, 7, 0, 0),\n",
              " datetime.datetime(2015, 7, 7, 0, 0),\n",
              " datetime.datetime(2015, 7, 7, 0, 0),\n",
              " datetime.datetime(2015, 7, 7, 0, 0),\n",
              " datetime.datetime(2015, 7, 7, 0, 0),\n",
              " datetime.datetime(2015, 7, 7, 0, 0),\n",
              " datetime.datetime(2015, 7, 7, 0, 0),\n",
              " datetime.datetime(2015, 7, 7, 0, 0),\n",
              " datetime.datetime(2015, 7, 7, 0, 0),\n",
              " datetime.datetime(2015, 7, 7, 0, 0),\n",
              " datetime.datetime(2015, 7, 7, 0, 0),\n",
              " datetime.datetime(2015, 7, 7, 0, 0),\n",
              " datetime.datetime(2015, 7, 8, 0, 0),\n",
              " datetime.datetime(2015, 7, 8, 0, 0),\n",
              " datetime.datetime(2015, 7, 8, 0, 0),\n",
              " datetime.datetime(2015, 7, 8, 0, 0),\n",
              " datetime.datetime(2015, 7, 8, 0, 0),\n",
              " datetime.datetime(2015, 7, 8, 0, 0),\n",
              " datetime.datetime(2015, 7, 8, 0, 0),\n",
              " datetime.datetime(2015, 7, 8, 0, 0),\n",
              " datetime.datetime(2015, 7, 8, 0, 0),\n",
              " datetime.datetime(2015, 7, 8, 0, 0),\n",
              " datetime.datetime(2015, 7, 8, 0, 0),\n",
              " datetime.datetime(2015, 7, 8, 0, 0),\n",
              " datetime.datetime(2015, 7, 8, 0, 0),\n",
              " datetime.datetime(2015, 7, 8, 0, 0),\n",
              " datetime.datetime(2015, 7, 9, 0, 0),\n",
              " datetime.datetime(2015, 7, 9, 0, 0),\n",
              " datetime.datetime(2015, 7, 9, 0, 0),\n",
              " datetime.datetime(2015, 7, 9, 0, 0),\n",
              " datetime.datetime(2015, 7, 9, 0, 0),\n",
              " datetime.datetime(2015, 7, 9, 0, 0),\n",
              " datetime.datetime(2015, 7, 9, 0, 0),\n",
              " datetime.datetime(2015, 7, 9, 0, 0),\n",
              " datetime.datetime(2015, 7, 9, 0, 0),\n",
              " datetime.datetime(2015, 7, 9, 0, 0),\n",
              " datetime.datetime(2015, 7, 9, 0, 0),\n",
              " datetime.datetime(2015, 7, 9, 0, 0),\n",
              " datetime.datetime(2015, 7, 10, 0, 0),\n",
              " datetime.datetime(2015, 7, 10, 0, 0),\n",
              " datetime.datetime(2015, 7, 10, 0, 0),\n",
              " datetime.datetime(2015, 7, 10, 0, 0),\n",
              " datetime.datetime(2015, 7, 10, 0, 0),\n",
              " datetime.datetime(2015, 7, 10, 0, 0),\n",
              " datetime.datetime(2015, 7, 10, 0, 0),\n",
              " datetime.datetime(2015, 7, 10, 0, 0),\n",
              " datetime.datetime(2015, 7, 10, 0, 0),\n",
              " datetime.datetime(2015, 7, 10, 0, 0),\n",
              " datetime.datetime(2015, 7, 10, 0, 0),\n",
              " datetime.datetime(2015, 7, 10, 0, 0),\n",
              " datetime.datetime(2015, 7, 10, 0, 0),\n",
              " datetime.datetime(2015, 7, 10, 0, 0),\n",
              " datetime.datetime(2015, 7, 10, 0, 0),\n",
              " datetime.datetime(2015, 7, 10, 0, 0),\n",
              " datetime.datetime(2015, 7, 10, 0, 0),\n",
              " datetime.datetime(2015, 7, 10, 0, 0),\n",
              " datetime.datetime(2015, 7, 10, 0, 0),\n",
              " datetime.datetime(2015, 7, 10, 0, 0),\n",
              " datetime.datetime(2015, 7, 10, 0, 0),\n",
              " datetime.datetime(2015, 7, 10, 0, 0),\n",
              " datetime.datetime(2015, 7, 10, 0, 0),\n",
              " datetime.datetime(2015, 7, 10, 0, 0),\n",
              " datetime.datetime(2015, 7, 10, 0, 0),\n",
              " datetime.datetime(2015, 7, 10, 0, 0),\n",
              " datetime.datetime(2015, 7, 10, 0, 0),\n",
              " datetime.datetime(2015, 7, 10, 0, 0),\n",
              " datetime.datetime(2015, 7, 10, 0, 0),\n",
              " datetime.datetime(2015, 7, 10, 0, 0),\n",
              " datetime.datetime(2015, 7, 10, 0, 0),\n",
              " datetime.datetime(2015, 7, 11, 0, 0),\n",
              " datetime.datetime(2015, 7, 11, 0, 0),\n",
              " datetime.datetime(2015, 7, 11, 0, 0),\n",
              " datetime.datetime(2015, 7, 11, 0, 0),\n",
              " datetime.datetime(2015, 7, 11, 0, 0),\n",
              " datetime.datetime(2015, 7, 11, 0, 0),\n",
              " datetime.datetime(2015, 7, 11, 0, 0),\n",
              " datetime.datetime(2015, 7, 11, 0, 0),\n",
              " datetime.datetime(2015, 7, 11, 0, 0),\n",
              " datetime.datetime(2015, 7, 11, 0, 0),\n",
              " datetime.datetime(2015, 7, 11, 0, 0),\n",
              " datetime.datetime(2015, 7, 11, 0, 0),\n",
              " datetime.datetime(2015, 7, 11, 0, 0),\n",
              " datetime.datetime(2015, 7, 11, 0, 0),\n",
              " datetime.datetime(2015, 7, 11, 0, 0),\n",
              " datetime.datetime(2015, 7, 11, 0, 0),\n",
              " datetime.datetime(2015, 7, 11, 0, 0),\n",
              " datetime.datetime(2015, 7, 11, 0, 0),\n",
              " datetime.datetime(2015, 7, 11, 0, 0),\n",
              " datetime.datetime(2015, 7, 11, 0, 0),\n",
              " datetime.datetime(2015, 7, 11, 0, 0),\n",
              " datetime.datetime(2015, 7, 11, 0, 0),\n",
              " datetime.datetime(2015, 7, 11, 0, 0),\n",
              " datetime.datetime(2015, 7, 12, 0, 0),\n",
              " datetime.datetime(2015, 7, 12, 0, 0),\n",
              " datetime.datetime(2015, 7, 12, 0, 0),\n",
              " datetime.datetime(2015, 7, 12, 0, 0),\n",
              " datetime.datetime(2015, 7, 12, 0, 0),\n",
              " datetime.datetime(2015, 7, 12, 0, 0),\n",
              " datetime.datetime(2015, 7, 12, 0, 0),\n",
              " datetime.datetime(2015, 7, 12, 0, 0),\n",
              " datetime.datetime(2015, 7, 12, 0, 0),\n",
              " datetime.datetime(2015, 7, 12, 0, 0),\n",
              " datetime.datetime(2015, 7, 12, 0, 0),\n",
              " datetime.datetime(2015, 7, 12, 0, 0),\n",
              " datetime.datetime(2015, 7, 12, 0, 0),\n",
              " datetime.datetime(2015, 7, 12, 0, 0),\n",
              " datetime.datetime(2015, 7, 12, 0, 0),\n",
              " datetime.datetime(2015, 7, 12, 0, 0),\n",
              " datetime.datetime(2015, 7, 12, 0, 0),\n",
              " datetime.datetime(2015, 7, 12, 0, 0),\n",
              " datetime.datetime(2015, 7, 12, 0, 0),\n",
              " datetime.datetime(2015, 7, 12, 0, 0),\n",
              " datetime.datetime(2015, 7, 12, 0, 0),\n",
              " datetime.datetime(2015, 7, 12, 0, 0),\n",
              " datetime.datetime(2015, 7, 12, 0, 0),\n",
              " datetime.datetime(2015, 7, 12, 0, 0),\n",
              " datetime.datetime(2015, 7, 12, 0, 0),\n",
              " datetime.datetime(2015, 7, 12, 0, 0),\n",
              " datetime.datetime(2015, 7, 12, 0, 0),\n",
              " datetime.datetime(2015, 7, 12, 0, 0),\n",
              " datetime.datetime(2015, 7, 12, 0, 0),\n",
              " datetime.datetime(2015, 7, 12, 0, 0),\n",
              " datetime.datetime(2015, 7, 12, 0, 0),\n",
              " datetime.datetime(2015, 7, 12, 0, 0),\n",
              " datetime.datetime(2015, 7, 13, 0, 0),\n",
              " datetime.datetime(2015, 7, 13, 0, 0),\n",
              " datetime.datetime(2015, 7, 13, 0, 0),\n",
              " datetime.datetime(2015, 7, 13, 0, 0),\n",
              " datetime.datetime(2015, 7, 13, 0, 0),\n",
              " datetime.datetime(2015, 7, 13, 0, 0),\n",
              " datetime.datetime(2015, 7, 13, 0, 0),\n",
              " datetime.datetime(2015, 7, 13, 0, 0),\n",
              " datetime.datetime(2015, 7, 13, 0, 0),\n",
              " datetime.datetime(2015, 7, 13, 0, 0),\n",
              " datetime.datetime(2015, 7, 13, 0, 0),\n",
              " datetime.datetime(2015, 7, 13, 0, 0),\n",
              " datetime.datetime(2015, 7, 13, 0, 0),\n",
              " datetime.datetime(2015, 7, 13, 0, 0),\n",
              " datetime.datetime(2015, 7, 13, 0, 0),\n",
              " datetime.datetime(2015, 7, 13, 0, 0),\n",
              " datetime.datetime(2015, 7, 13, 0, 0),\n",
              " datetime.datetime(2015, 7, 13, 0, 0),\n",
              " datetime.datetime(2015, 7, 13, 0, 0),\n",
              " datetime.datetime(2015, 7, 13, 0, 0),\n",
              " datetime.datetime(2015, 7, 13, 0, 0),\n",
              " datetime.datetime(2015, 7, 13, 0, 0),\n",
              " datetime.datetime(2015, 7, 13, 0, 0),\n",
              " datetime.datetime(2015, 7, 13, 0, 0),\n",
              " datetime.datetime(2015, 7, 13, 0, 0),\n",
              " datetime.datetime(2015, 7, 13, 0, 0),\n",
              " datetime.datetime(2015, 7, 13, 0, 0),\n",
              " datetime.datetime(2015, 7, 13, 0, 0),\n",
              " datetime.datetime(2015, 7, 13, 0, 0),\n",
              " datetime.datetime(2015, 7, 13, 0, 0),\n",
              " datetime.datetime(2015, 7, 14, 0, 0),\n",
              " datetime.datetime(2015, 7, 14, 0, 0),\n",
              " datetime.datetime(2015, 7, 14, 0, 0),\n",
              " datetime.datetime(2015, 7, 14, 0, 0),\n",
              " datetime.datetime(2015, 7, 14, 0, 0),\n",
              " datetime.datetime(2015, 7, 14, 0, 0),\n",
              " datetime.datetime(2015, 7, 14, 0, 0),\n",
              " datetime.datetime(2015, 7, 14, 0, 0),\n",
              " datetime.datetime(2015, 7, 14, 0, 0),\n",
              " datetime.datetime(2015, 7, 14, 0, 0),\n",
              " datetime.datetime(2015, 7, 14, 0, 0),\n",
              " datetime.datetime(2015, 7, 14, 0, 0),\n",
              " datetime.datetime(2015, 7, 14, 0, 0),\n",
              " datetime.datetime(2015, 7, 14, 0, 0),\n",
              " datetime.datetime(2015, 7, 14, 0, 0),\n",
              " datetime.datetime(2015, 7, 14, 0, 0),\n",
              " datetime.datetime(2015, 7, 14, 0, 0),\n",
              " datetime.datetime(2015, 7, 15, 0, 0),\n",
              " datetime.datetime(2015, 7, 15, 0, 0),\n",
              " datetime.datetime(2015, 7, 15, 0, 0),\n",
              " datetime.datetime(2015, 7, 15, 0, 0),\n",
              " datetime.datetime(2015, 7, 15, 0, 0),\n",
              " datetime.datetime(2015, 7, 15, 0, 0),\n",
              " datetime.datetime(2015, 7, 15, 0, 0),\n",
              " datetime.datetime(2015, 7, 15, 0, 0),\n",
              " datetime.datetime(2015, 7, 15, 0, 0),\n",
              " datetime.datetime(2015, 7, 15, 0, 0),\n",
              " datetime.datetime(2015, 7, 15, 0, 0),\n",
              " datetime.datetime(2015, 7, 15, 0, 0),\n",
              " datetime.datetime(2015, 7, 15, 0, 0),\n",
              " datetime.datetime(2015, 7, 15, 0, 0),\n",
              " datetime.datetime(2015, 7, 15, 0, 0),\n",
              " datetime.datetime(2015, 7, 15, 0, 0),\n",
              " datetime.datetime(2015, 7, 15, 0, 0),\n",
              " datetime.datetime(2015, 7, 15, 0, 0),\n",
              " datetime.datetime(2015, 7, 15, 0, 0),\n",
              " datetime.datetime(2015, 7, 15, 0, 0),\n",
              " datetime.datetime(2015, 7, 15, 0, 0),\n",
              " datetime.datetime(2015, 7, 15, 0, 0),\n",
              " datetime.datetime(2015, 7, 16, 0, 0),\n",
              " datetime.datetime(2015, 7, 16, 0, 0),\n",
              " datetime.datetime(2015, 7, 16, 0, 0),\n",
              " datetime.datetime(2015, 7, 16, 0, 0),\n",
              " datetime.datetime(2015, 7, 16, 0, 0),\n",
              " datetime.datetime(2015, 7, 16, 0, 0),\n",
              " datetime.datetime(2015, 7, 16, 0, 0),\n",
              " datetime.datetime(2015, 7, 16, 0, 0),\n",
              " datetime.datetime(2015, 7, 16, 0, 0),\n",
              " datetime.datetime(2015, 7, 16, 0, 0),\n",
              " datetime.datetime(2015, 7, 16, 0, 0),\n",
              " datetime.datetime(2015, 7, 16, 0, 0),\n",
              " datetime.datetime(2015, 7, 16, 0, 0),\n",
              " datetime.datetime(2015, 7, 16, 0, 0),\n",
              " datetime.datetime(2015, 7, 16, 0, 0),\n",
              " datetime.datetime(2015, 7, 17, 0, 0),\n",
              " datetime.datetime(2015, 7, 17, 0, 0),\n",
              " datetime.datetime(2015, 7, 17, 0, 0),\n",
              " datetime.datetime(2015, 7, 17, 0, 0),\n",
              " datetime.datetime(2015, 7, 17, 0, 0),\n",
              " datetime.datetime(2015, 7, 17, 0, 0),\n",
              " datetime.datetime(2015, 7, 17, 0, 0),\n",
              " datetime.datetime(2015, 7, 17, 0, 0),\n",
              " datetime.datetime(2015, 7, 17, 0, 0),\n",
              " datetime.datetime(2015, 7, 17, 0, 0),\n",
              " datetime.datetime(2015, 7, 17, 0, 0),\n",
              " datetime.datetime(2015, 7, 17, 0, 0),\n",
              " datetime.datetime(2015, 7, 17, 0, 0),\n",
              " datetime.datetime(2015, 7, 17, 0, 0),\n",
              " datetime.datetime(2015, 7, 17, 0, 0),\n",
              " datetime.datetime(2015, 7, 17, 0, 0),\n",
              " datetime.datetime(2015, 7, 17, 0, 0),\n",
              " datetime.datetime(2015, 7, 17, 0, 0),\n",
              " datetime.datetime(2015, 7, 17, 0, 0),\n",
              " datetime.datetime(2015, 7, 17, 0, 0),\n",
              " datetime.datetime(2015, 7, 17, 0, 0),\n",
              " datetime.datetime(2015, 7, 17, 0, 0),\n",
              " datetime.datetime(2015, 7, 17, 0, 0),\n",
              " datetime.datetime(2015, 7, 17, 0, 0),\n",
              " datetime.datetime(2015, 7, 17, 0, 0),\n",
              " datetime.datetime(2015, 7, 17, 0, 0),\n",
              " datetime.datetime(2015, 7, 17, 0, 0),\n",
              " datetime.datetime(2015, 7, 17, 0, 0),\n",
              " datetime.datetime(2015, 7, 17, 0, 0),\n",
              " datetime.datetime(2015, 7, 17, 0, 0),\n",
              " datetime.datetime(2015, 7, 17, 0, 0),\n",
              " datetime.datetime(2015, 7, 17, 0, 0),\n",
              " datetime.datetime(2015, 7, 17, 0, 0),\n",
              " datetime.datetime(2015, 7, 17, 0, 0),\n",
              " datetime.datetime(2015, 7, 17, 0, 0),\n",
              " datetime.datetime(2015, 7, 17, 0, 0),\n",
              " datetime.datetime(2015, 7, 17, 0, 0),\n",
              " datetime.datetime(2015, 7, 17, 0, 0),\n",
              " datetime.datetime(2015, 7, 17, 0, 0),\n",
              " datetime.datetime(2015, 7, 17, 0, 0),\n",
              " datetime.datetime(2015, 7, 17, 0, 0),\n",
              " datetime.datetime(2015, 7, 18, 0, 0),\n",
              " datetime.datetime(2015, 7, 18, 0, 0),\n",
              " datetime.datetime(2015, 7, 18, 0, 0),\n",
              " datetime.datetime(2015, 7, 18, 0, 0),\n",
              " datetime.datetime(2015, 7, 18, 0, 0),\n",
              " datetime.datetime(2015, 7, 18, 0, 0),\n",
              " datetime.datetime(2015, 7, 18, 0, 0),\n",
              " datetime.datetime(2015, 7, 18, 0, 0),\n",
              " datetime.datetime(2015, 7, 18, 0, 0),\n",
              " datetime.datetime(2015, 7, 18, 0, 0),\n",
              " datetime.datetime(2015, 7, 18, 0, 0),\n",
              " datetime.datetime(2015, 7, 18, 0, 0),\n",
              " datetime.datetime(2015, 7, 18, 0, 0),\n",
              " datetime.datetime(2015, 7, 18, 0, 0),\n",
              " datetime.datetime(2015, 7, 18, 0, 0),\n",
              " datetime.datetime(2015, 7, 18, 0, 0),\n",
              " datetime.datetime(2015, 7, 18, 0, 0),\n",
              " datetime.datetime(2015, 7, 18, 0, 0),\n",
              " datetime.datetime(2015, 7, 18, 0, 0),\n",
              " datetime.datetime(2015, 7, 18, 0, 0),\n",
              " datetime.datetime(2015, 7, 18, 0, 0),\n",
              " datetime.datetime(2015, 7, 18, 0, 0),\n",
              " datetime.datetime(2015, 7, 18, 0, 0),\n",
              " datetime.datetime(2015, 7, 18, 0, 0),\n",
              " datetime.datetime(2015, 7, 19, 0, 0),\n",
              " datetime.datetime(2015, 7, 19, 0, 0),\n",
              " datetime.datetime(2015, 7, 19, 0, 0),\n",
              " datetime.datetime(2015, 7, 19, 0, 0),\n",
              " datetime.datetime(2015, 7, 19, 0, 0),\n",
              " datetime.datetime(2015, 7, 19, 0, 0),\n",
              " datetime.datetime(2015, 7, 19, 0, 0),\n",
              " datetime.datetime(2015, 7, 19, 0, 0),\n",
              " datetime.datetime(2015, 7, 19, 0, 0),\n",
              " datetime.datetime(2015, 7, 19, 0, 0),\n",
              " datetime.datetime(2015, 7, 19, 0, 0),\n",
              " datetime.datetime(2015, 7, 19, 0, 0),\n",
              " datetime.datetime(2015, 7, 19, 0, 0),\n",
              " datetime.datetime(2015, 7, 19, 0, 0),\n",
              " datetime.datetime(2015, 7, 19, 0, 0),\n",
              " datetime.datetime(2015, 7, 19, 0, 0),\n",
              " datetime.datetime(2015, 7, 19, 0, 0),\n",
              " datetime.datetime(2015, 7, 19, 0, 0),\n",
              " datetime.datetime(2015, 7, 20, 0, 0),\n",
              " datetime.datetime(2015, 7, 20, 0, 0),\n",
              " datetime.datetime(2015, 7, 20, 0, 0),\n",
              " datetime.datetime(2015, 7, 20, 0, 0),\n",
              " datetime.datetime(2015, 7, 20, 0, 0),\n",
              " datetime.datetime(2015, 7, 20, 0, 0),\n",
              " datetime.datetime(2015, 7, 20, 0, 0),\n",
              " datetime.datetime(2015, 7, 20, 0, 0),\n",
              " datetime.datetime(2015, 7, 20, 0, 0),\n",
              " datetime.datetime(2015, 7, 20, 0, 0),\n",
              " datetime.datetime(2015, 7, 20, 0, 0),\n",
              " datetime.datetime(2015, 7, 20, 0, 0),\n",
              " datetime.datetime(2015, 7, 20, 0, 0),\n",
              " datetime.datetime(2015, 7, 20, 0, 0),\n",
              " datetime.datetime(2015, 7, 20, 0, 0),\n",
              " datetime.datetime(2015, 7, 20, 0, 0),\n",
              " datetime.datetime(2015, 7, 20, 0, 0),\n",
              " datetime.datetime(2015, 7, 20, 0, 0),\n",
              " datetime.datetime(2015, 7, 20, 0, 0),\n",
              " datetime.datetime(2015, 7, 21, 0, 0),\n",
              " datetime.datetime(2015, 7, 21, 0, 0),\n",
              " datetime.datetime(2015, 7, 21, 0, 0),\n",
              " datetime.datetime(2015, 7, 21, 0, 0),\n",
              " datetime.datetime(2015, 7, 21, 0, 0),\n",
              " datetime.datetime(2015, 7, 21, 0, 0),\n",
              " datetime.datetime(2015, 7, 21, 0, 0),\n",
              " datetime.datetime(2015, 7, 21, 0, 0),\n",
              " datetime.datetime(2015, 7, 21, 0, 0),\n",
              " datetime.datetime(2015, 7, 22, 0, 0),\n",
              " datetime.datetime(2015, 7, 22, 0, 0),\n",
              " datetime.datetime(2015, 7, 23, 0, 0),\n",
              " datetime.datetime(2015, 7, 23, 0, 0),\n",
              " datetime.datetime(2015, 7, 23, 0, 0),\n",
              " datetime.datetime(2015, 7, 23, 0, 0),\n",
              " datetime.datetime(2015, 7, 23, 0, 0),\n",
              " datetime.datetime(2015, 7, 23, 0, 0),\n",
              " datetime.datetime(2015, 7, 23, 0, 0),\n",
              " datetime.datetime(2015, 7, 23, 0, 0),\n",
              " datetime.datetime(2015, 7, 24, 0, 0),\n",
              " datetime.datetime(2015, 7, 24, 0, 0),\n",
              " datetime.datetime(2015, 7, 24, 0, 0),\n",
              " datetime.datetime(2015, 7, 24, 0, 0),\n",
              " datetime.datetime(2015, 7, 24, 0, 0),\n",
              " datetime.datetime(2015, 7, 24, 0, 0),\n",
              " datetime.datetime(2015, 7, 24, 0, 0),\n",
              " datetime.datetime(2015, 7, 24, 0, 0),\n",
              " datetime.datetime(2015, 7, 24, 0, 0),\n",
              " datetime.datetime(2015, 7, 24, 0, 0),\n",
              " datetime.datetime(2015, 7, 24, 0, 0),\n",
              " datetime.datetime(2015, 7, 24, 0, 0),\n",
              " datetime.datetime(2015, 7, 24, 0, 0),\n",
              " datetime.datetime(2015, 7, 24, 0, 0),\n",
              " datetime.datetime(2015, 7, 24, 0, 0),\n",
              " datetime.datetime(2015, 7, 24, 0, 0),\n",
              " datetime.datetime(2015, 7, 24, 0, 0),\n",
              " datetime.datetime(2015, 7, 24, 0, 0),\n",
              " datetime.datetime(2015, 7, 24, 0, 0),\n",
              " datetime.datetime(2015, 7, 25, 0, 0),\n",
              " datetime.datetime(2015, 7, 25, 0, 0),\n",
              " datetime.datetime(2015, 7, 25, 0, 0),\n",
              " datetime.datetime(2015, 7, 25, 0, 0),\n",
              " datetime.datetime(2015, 7, 25, 0, 0),\n",
              " datetime.datetime(2015, 7, 25, 0, 0),\n",
              " datetime.datetime(2015, 7, 25, 0, 0),\n",
              " datetime.datetime(2015, 7, 25, 0, 0),\n",
              " datetime.datetime(2015, 7, 25, 0, 0),\n",
              " datetime.datetime(2015, 7, 25, 0, 0),\n",
              " datetime.datetime(2015, 7, 25, 0, 0),\n",
              " datetime.datetime(2015, 7, 25, 0, 0),\n",
              " datetime.datetime(2015, 7, 25, 0, 0),\n",
              " datetime.datetime(2015, 7, 25, 0, 0),\n",
              " datetime.datetime(2015, 7, 25, 0, 0),\n",
              " datetime.datetime(2015, 7, 25, 0, 0),\n",
              " datetime.datetime(2015, 7, 25, 0, 0),\n",
              " datetime.datetime(2015, 7, 25, 0, 0),\n",
              " datetime.datetime(2015, 7, 25, 0, 0),\n",
              " datetime.datetime(2015, 7, 25, 0, 0),\n",
              " datetime.datetime(2015, 7, 25, 0, 0),\n",
              " datetime.datetime(2015, 7, 25, 0, 0),\n",
              " datetime.datetime(2015, 7, 25, 0, 0),\n",
              " datetime.datetime(2015, 7, 25, 0, 0),\n",
              " datetime.datetime(2015, 7, 25, 0, 0),\n",
              " datetime.datetime(2015, 7, 25, 0, 0),\n",
              " datetime.datetime(2015, 7, 26, 0, 0),\n",
              " datetime.datetime(2015, 7, 26, 0, 0),\n",
              " datetime.datetime(2015, 7, 26, 0, 0),\n",
              " datetime.datetime(2015, 7, 26, 0, 0),\n",
              " datetime.datetime(2015, 7, 26, 0, 0),\n",
              " datetime.datetime(2015, 7, 26, 0, 0),\n",
              " datetime.datetime(2015, 7, 26, 0, 0),\n",
              " datetime.datetime(2015, 7, 27, 0, 0),\n",
              " datetime.datetime(2015, 7, 27, 0, 0),\n",
              " datetime.datetime(2015, 7, 27, 0, 0),\n",
              " datetime.datetime(2015, 7, 27, 0, 0),\n",
              " datetime.datetime(2015, 7, 27, 0, 0),\n",
              " datetime.datetime(2015, 7, 27, 0, 0),\n",
              " datetime.datetime(2015, 7, 27, 0, 0),\n",
              " datetime.datetime(2015, 7, 27, 0, 0),\n",
              " datetime.datetime(2015, 7, 27, 0, 0),\n",
              " datetime.datetime(2015, 7, 27, 0, 0),\n",
              " datetime.datetime(2015, 7, 27, 0, 0),\n",
              " datetime.datetime(2015, 7, 27, 0, 0),\n",
              " datetime.datetime(2015, 7, 27, 0, 0),\n",
              " datetime.datetime(2015, 7, 27, 0, 0),\n",
              " datetime.datetime(2015, 7, 27, 0, 0),\n",
              " datetime.datetime(2015, 7, 27, 0, 0),\n",
              " datetime.datetime(2015, 7, 27, 0, 0),\n",
              " datetime.datetime(2015, 7, 27, 0, 0),\n",
              " datetime.datetime(2015, 7, 27, 0, 0),\n",
              " datetime.datetime(2015, 7, 27, 0, 0),\n",
              " datetime.datetime(2015, 7, 27, 0, 0),\n",
              " datetime.datetime(2015, 7, 27, 0, 0),\n",
              " datetime.datetime(2015, 7, 27, 0, 0),\n",
              " datetime.datetime(2015, 7, 28, 0, 0),\n",
              " datetime.datetime(2015, 7, 28, 0, 0),\n",
              " datetime.datetime(2015, 7, 28, 0, 0),\n",
              " datetime.datetime(2015, 7, 28, 0, 0),\n",
              " datetime.datetime(2015, 7, 28, 0, 0),\n",
              " datetime.datetime(2015, 7, 28, 0, 0),\n",
              " datetime.datetime(2015, 7, 28, 0, 0),\n",
              " datetime.datetime(2015, 7, 28, 0, 0),\n",
              " datetime.datetime(2015, 7, 28, 0, 0),\n",
              " datetime.datetime(2015, 7, 28, 0, 0),\n",
              " datetime.datetime(2015, 7, 29, 0, 0),\n",
              " datetime.datetime(2015, 7, 29, 0, 0),\n",
              " datetime.datetime(2015, 7, 29, 0, 0),\n",
              " datetime.datetime(2015, 7, 29, 0, 0),\n",
              " datetime.datetime(2015, 7, 29, 0, 0),\n",
              " datetime.datetime(2015, 7, 29, 0, 0),\n",
              " datetime.datetime(2015, 7, 29, 0, 0),\n",
              " datetime.datetime(2015, 7, 29, 0, 0),\n",
              " datetime.datetime(2015, 7, 29, 0, 0),\n",
              " datetime.datetime(2015, 7, 30, 0, 0),\n",
              " datetime.datetime(2015, 7, 30, 0, 0),\n",
              " datetime.datetime(2015, 7, 30, 0, 0),\n",
              " datetime.datetime(2015, 7, 30, 0, 0),\n",
              " datetime.datetime(2015, 7, 30, 0, 0),\n",
              " datetime.datetime(2015, 7, 30, 0, 0),\n",
              " datetime.datetime(2015, 7, 30, 0, 0),\n",
              " datetime.datetime(2015, 7, 30, 0, 0),\n",
              " datetime.datetime(2015, 7, 31, 0, 0),\n",
              " datetime.datetime(2015, 7, 31, 0, 0),\n",
              " datetime.datetime(2015, 7, 31, 0, 0),\n",
              " datetime.datetime(2015, 7, 31, 0, 0),\n",
              " datetime.datetime(2015, 7, 31, 0, 0),\n",
              " datetime.datetime(2015, 7, 31, 0, 0),\n",
              " datetime.datetime(2015, 7, 31, 0, 0),\n",
              " datetime.datetime(2015, 7, 31, 0, 0),\n",
              " datetime.datetime(2015, 7, 31, 0, 0),\n",
              " datetime.datetime(2015, 7, 31, 0, 0),\n",
              " datetime.datetime(2015, 7, 31, 0, 0),\n",
              " datetime.datetime(2015, 7, 31, 0, 0),\n",
              " datetime.datetime(2015, 7, 31, 0, 0),\n",
              " datetime.datetime(2015, 8, 1, 0, 0),\n",
              " datetime.datetime(2015, 8, 1, 0, 0),\n",
              " datetime.datetime(2015, 8, 1, 0, 0),\n",
              " datetime.datetime(2015, 8, 1, 0, 0),\n",
              " datetime.datetime(2015, 8, 1, 0, 0),\n",
              " datetime.datetime(2015, 8, 1, 0, 0),\n",
              " datetime.datetime(2015, 8, 2, 0, 0),\n",
              " datetime.datetime(2015, 8, 2, 0, 0),\n",
              " datetime.datetime(2015, 8, 2, 0, 0),\n",
              " datetime.datetime(2015, 8, 2, 0, 0),\n",
              " datetime.datetime(2015, 8, 2, 0, 0),\n",
              " datetime.datetime(2015, 8, 2, 0, 0),\n",
              " datetime.datetime(2015, 8, 2, 0, 0),\n",
              " datetime.datetime(2015, 8, 3, 0, 0),\n",
              " datetime.datetime(2015, 8, 3, 0, 0),\n",
              " datetime.datetime(2015, 8, 3, 0, 0),\n",
              " datetime.datetime(2015, 8, 3, 0, 0),\n",
              " datetime.datetime(2015, 8, 4, 0, 0),\n",
              " datetime.datetime(2015, 8, 4, 0, 0),\n",
              " datetime.datetime(2015, 8, 4, 0, 0),\n",
              " datetime.datetime(2015, 8, 4, 0, 0),\n",
              " datetime.datetime(2015, 8, 4, 0, 0),\n",
              " datetime.datetime(2015, 8, 4, 0, 0),\n",
              " datetime.datetime(2015, 8, 4, 0, 0),\n",
              " datetime.datetime(2015, 8, 4, 0, 0),\n",
              " datetime.datetime(2015, 8, 4, 0, 0),\n",
              " datetime.datetime(2015, 8, 4, 0, 0),\n",
              " datetime.datetime(2015, 8, 5, 0, 0),\n",
              " datetime.datetime(2015, 8, 5, 0, 0),\n",
              " datetime.datetime(2015, 8, 5, 0, 0),\n",
              " datetime.datetime(2015, 8, 5, 0, 0),\n",
              " datetime.datetime(2015, 8, 5, 0, 0),\n",
              " datetime.datetime(2015, 8, 5, 0, 0),\n",
              " datetime.datetime(2015, 8, 5, 0, 0),\n",
              " datetime.datetime(2015, 8, 5, 0, 0),\n",
              " datetime.datetime(2015, 8, 6, 0, 0),\n",
              " datetime.datetime(2015, 8, 6, 0, 0),\n",
              " datetime.datetime(2015, 8, 6, 0, 0),\n",
              " datetime.datetime(2015, 8, 6, 0, 0),\n",
              " datetime.datetime(2015, 8, 6, 0, 0),\n",
              " datetime.datetime(2015, 8, 6, 0, 0),\n",
              " datetime.datetime(2015, 8, 6, 0, 0),\n",
              " datetime.datetime(2015, 8, 6, 0, 0),\n",
              " datetime.datetime(2015, 8, 6, 0, 0),\n",
              " datetime.datetime(2015, 8, 6, 0, 0),\n",
              " datetime.datetime(2015, 8, 7, 0, 0),\n",
              " datetime.datetime(2015, 8, 7, 0, 0),\n",
              " datetime.datetime(2015, 8, 7, 0, 0),\n",
              " datetime.datetime(2015, 8, 7, 0, 0),\n",
              " datetime.datetime(2015, 8, 7, 0, 0),\n",
              " datetime.datetime(2015, 8, 7, 0, 0),\n",
              " datetime.datetime(2015, 8, 7, 0, 0),\n",
              " datetime.datetime(2015, 8, 7, 0, 0),\n",
              " datetime.datetime(2015, 8, 7, 0, 0),\n",
              " datetime.datetime(2015, 8, 7, 0, 0),\n",
              " datetime.datetime(2015, 8, 7, 0, 0),\n",
              " datetime.datetime(2015, 8, 7, 0, 0),\n",
              " datetime.datetime(2015, 8, 8, 0, 0),\n",
              " datetime.datetime(2015, 8, 8, 0, 0),\n",
              " datetime.datetime(2015, 8, 8, 0, 0),\n",
              " datetime.datetime(2015, 8, 8, 0, 0),\n",
              " datetime.datetime(2015, 8, 8, 0, 0),\n",
              " datetime.datetime(2015, 8, 8, 0, 0),\n",
              " datetime.datetime(2015, 8, 8, 0, 0),\n",
              " datetime.datetime(2015, 8, 8, 0, 0),\n",
              " datetime.datetime(2015, 8, 8, 0, 0),\n",
              " datetime.datetime(2015, 8, 8, 0, 0),\n",
              " datetime.datetime(2015, 8, 8, 0, 0),\n",
              " datetime.datetime(2015, 8, 8, 0, 0),\n",
              " datetime.datetime(2015, 8, 8, 0, 0),\n",
              " datetime.datetime(2015, 8, 9, 0, 0),\n",
              " datetime.datetime(2015, 8, 9, 0, 0),\n",
              " datetime.datetime(2015, 8, 9, 0, 0),\n",
              " datetime.datetime(2015, 8, 9, 0, 0),\n",
              " datetime.datetime(2015, 8, 9, 0, 0),\n",
              " datetime.datetime(2015, 8, 9, 0, 0),\n",
              " datetime.datetime(2015, 8, 9, 0, 0),\n",
              " datetime.datetime(2015, 8, 9, 0, 0),\n",
              " datetime.datetime(2015, 8, 9, 0, 0),\n",
              " datetime.datetime(2015, 8, 9, 0, 0),\n",
              " datetime.datetime(2015, 8, 9, 0, 0),\n",
              " datetime.datetime(2015, 8, 9, 0, 0),\n",
              " datetime.datetime(2015, 8, 10, 0, 0),\n",
              " datetime.datetime(2015, 8, 10, 0, 0),\n",
              " datetime.datetime(2015, 8, 10, 0, 0),\n",
              " datetime.datetime(2015, 8, 10, 0, 0),\n",
              " datetime.datetime(2015, 8, 10, 0, 0),\n",
              " datetime.datetime(2015, 8, 10, 0, 0),\n",
              " datetime.datetime(2015, 8, 10, 0, 0),\n",
              " datetime.datetime(2015, 8, 10, 0, 0),\n",
              " datetime.datetime(2015, 8, 10, 0, 0),\n",
              " datetime.datetime(2015, 8, 10, 0, 0),\n",
              " datetime.datetime(2015, 8, 11, 0, 0),\n",
              " datetime.datetime(2015, 8, 11, 0, 0),\n",
              " datetime.datetime(2015, 8, 11, 0, 0),\n",
              " datetime.datetime(2015, 8, 11, 0, 0),\n",
              " datetime.datetime(2015, 8, 11, 0, 0),\n",
              " datetime.datetime(2015, 8, 11, 0, 0),\n",
              " datetime.datetime(2015, 8, 11, 0, 0),\n",
              " datetime.datetime(2015, 8, 11, 0, 0),\n",
              " datetime.datetime(2015, 8, 11, 0, 0),\n",
              " datetime.datetime(2015, 8, 12, 0, 0),\n",
              " datetime.datetime(2015, 8, 12, 0, 0),\n",
              " datetime.datetime(2015, 8, 12, 0, 0),\n",
              " datetime.datetime(2015, 8, 12, 0, 0),\n",
              " datetime.datetime(2015, 8, 12, 0, 0),\n",
              " datetime.datetime(2015, 8, 13, 0, 0),\n",
              " datetime.datetime(2015, 8, 13, 0, 0),\n",
              " datetime.datetime(2015, 8, 13, 0, 0),\n",
              " datetime.datetime(2015, 8, 13, 0, 0),\n",
              " datetime.datetime(2015, 8, 13, 0, 0),\n",
              " datetime.datetime(2015, 8, 13, 0, 0),\n",
              " datetime.datetime(2015, 8, 13, 0, 0),\n",
              " datetime.datetime(2015, 8, 13, 0, 0),\n",
              " datetime.datetime(2015, 8, 13, 0, 0),\n",
              " datetime.datetime(2015, 8, 13, 0, 0),\n",
              " datetime.datetime(2015, 8, 13, 0, 0),\n",
              " datetime.datetime(2015, 8, 14, 0, 0),\n",
              " datetime.datetime(2015, 8, 14, 0, 0),\n",
              " datetime.datetime(2015, 8, 14, 0, 0),\n",
              " datetime.datetime(2015, 8, 14, 0, 0),\n",
              " datetime.datetime(2015, 8, 14, 0, 0),\n",
              " datetime.datetime(2015, 8, 14, 0, 0),\n",
              " datetime.datetime(2015, 8, 14, 0, 0),\n",
              " datetime.datetime(2015, 8, 14, 0, 0),\n",
              " datetime.datetime(2015, 8, 14, 0, 0),\n",
              " datetime.datetime(2015, 8, 14, 0, 0),\n",
              " datetime.datetime(2015, 8, 14, 0, 0),\n",
              " datetime.datetime(2015, 8, 14, 0, 0),\n",
              " datetime.datetime(2015, 8, 14, 0, 0),\n",
              " datetime.datetime(2015, 8, 14, 0, 0),\n",
              " datetime.datetime(2015, 8, 14, 0, 0),\n",
              " datetime.datetime(2015, 8, 14, 0, 0),\n",
              " datetime.datetime(2015, 8, 15, 0, 0),\n",
              " datetime.datetime(2015, 8, 15, 0, 0),\n",
              " datetime.datetime(2015, 8, 15, 0, 0),\n",
              " datetime.datetime(2015, 8, 15, 0, 0),\n",
              " datetime.datetime(2015, 8, 15, 0, 0),\n",
              " datetime.datetime(2015, 8, 15, 0, 0),\n",
              " datetime.datetime(2015, 8, 15, 0, 0),\n",
              " datetime.datetime(2015, 8, 15, 0, 0),\n",
              " datetime.datetime(2015, 8, 15, 0, 0),\n",
              " datetime.datetime(2015, 8, 15, 0, 0),\n",
              " datetime.datetime(2015, 8, 15, 0, 0),\n",
              " datetime.datetime(2015, 8, 15, 0, 0),\n",
              " datetime.datetime(2015, 8, 15, 0, 0),\n",
              " datetime.datetime(2015, 8, 15, 0, 0),\n",
              " datetime.datetime(2015, 8, 15, 0, 0),\n",
              " datetime.datetime(2015, 8, 15, 0, 0),\n",
              " datetime.datetime(2015, 8, 16, 0, 0),\n",
              " datetime.datetime(2015, 8, 16, 0, 0),\n",
              " datetime.datetime(2015, 8, 16, 0, 0),\n",
              " datetime.datetime(2015, 8, 16, 0, 0),\n",
              " datetime.datetime(2015, 8, 16, 0, 0),\n",
              " datetime.datetime(2015, 8, 16, 0, 0),\n",
              " datetime.datetime(2015, 8, 16, 0, 0),\n",
              " datetime.datetime(2015, 8, 16, 0, 0),\n",
              " datetime.datetime(2015, 8, 16, 0, 0),\n",
              " datetime.datetime(2015, 8, 17, 0, 0),\n",
              " datetime.datetime(2015, 8, 17, 0, 0),\n",
              " datetime.datetime(2015, 8, 17, 0, 0),\n",
              " datetime.datetime(2015, 8, 17, 0, 0),\n",
              " datetime.datetime(2015, 8, 17, 0, 0),\n",
              " datetime.datetime(2015, 8, 17, 0, 0),\n",
              " datetime.datetime(2015, 8, 17, 0, 0),\n",
              " datetime.datetime(2015, 8, 18, 0, 0),\n",
              " datetime.datetime(2015, 8, 18, 0, 0),\n",
              " datetime.datetime(2015, 8, 18, 0, 0),\n",
              " datetime.datetime(2015, 8, 18, 0, 0),\n",
              " datetime.datetime(2015, 8, 18, 0, 0),\n",
              " datetime.datetime(2015, 8, 18, 0, 0),\n",
              " datetime.datetime(2015, 8, 18, 0, 0),\n",
              " datetime.datetime(2015, 8, 18, 0, 0),\n",
              " datetime.datetime(2015, 8, 18, 0, 0),\n",
              " datetime.datetime(2015, 8, 18, 0, 0),\n",
              " datetime.datetime(2015, 8, 18, 0, 0),\n",
              " datetime.datetime(2015, 8, 18, 0, 0),\n",
              " datetime.datetime(2015, 8, 19, 0, 0),\n",
              " datetime.datetime(2015, 8, 19, 0, 0),\n",
              " datetime.datetime(2015, 8, 19, 0, 0),\n",
              " datetime.datetime(2015, 8, 19, 0, 0),\n",
              " datetime.datetime(2015, 8, 19, 0, 0),\n",
              " datetime.datetime(2015, 8, 19, 0, 0),\n",
              " datetime.datetime(2015, 8, 19, 0, 0),\n",
              " datetime.datetime(2015, 8, 19, 0, 0),\n",
              " datetime.datetime(2015, 8, 20, 0, 0),\n",
              " datetime.datetime(2015, 8, 20, 0, 0),\n",
              " datetime.datetime(2015, 8, 20, 0, 0),\n",
              " datetime.datetime(2015, 8, 20, 0, 0),\n",
              " datetime.datetime(2015, 8, 20, 0, 0),\n",
              " datetime.datetime(2015, 8, 20, 0, 0),\n",
              " datetime.datetime(2015, 8, 20, 0, 0),\n",
              " datetime.datetime(2015, 8, 21, 0, 0),\n",
              " datetime.datetime(2015, 8, 21, 0, 0),\n",
              " datetime.datetime(2015, 8, 21, 0, 0),\n",
              " datetime.datetime(2015, 8, 21, 0, 0),\n",
              " datetime.datetime(2015, 8, 21, 0, 0),\n",
              " datetime.datetime(2015, 8, 21, 0, 0),\n",
              " datetime.datetime(2015, 8, 21, 0, 0),\n",
              " datetime.datetime(2015, 8, 21, 0, 0),\n",
              " datetime.datetime(2015, 8, 21, 0, 0),\n",
              " datetime.datetime(2015, 8, 21, 0, 0),\n",
              " datetime.datetime(2015, 8, 21, 0, 0),\n",
              " datetime.datetime(2015, 8, 21, 0, 0),\n",
              " datetime.datetime(2015, 8, 21, 0, 0),\n",
              " datetime.datetime(2015, 8, 21, 0, 0),\n",
              " datetime.datetime(2015, 8, 21, 0, 0),\n",
              " datetime.datetime(2015, 8, 21, 0, 0),\n",
              " datetime.datetime(2015, 8, 21, 0, 0),\n",
              " datetime.datetime(2015, 8, 21, 0, 0),\n",
              " datetime.datetime(2015, 8, 21, 0, 0),\n",
              " datetime.datetime(2015, 8, 22, 0, 0),\n",
              " datetime.datetime(2015, 8, 22, 0, 0),\n",
              " datetime.datetime(2015, 8, 22, 0, 0),\n",
              " datetime.datetime(2015, 8, 22, 0, 0),\n",
              " datetime.datetime(2015, 8, 22, 0, 0),\n",
              " datetime.datetime(2015, 8, 22, 0, 0),\n",
              " datetime.datetime(2015, 8, 22, 0, 0),\n",
              " datetime.datetime(2015, 8, 22, 0, 0),\n",
              " datetime.datetime(2015, 8, 22, 0, 0),\n",
              " datetime.datetime(2015, 8, 22, 0, 0),\n",
              " datetime.datetime(2015, 8, 22, 0, 0),\n",
              " datetime.datetime(2015, 8, 22, 0, 0),\n",
              " datetime.datetime(2015, 8, 22, 0, 0),\n",
              " datetime.datetime(2015, 8, 22, 0, 0),\n",
              " datetime.datetime(2015, 8, 22, 0, 0),\n",
              " datetime.datetime(2015, 8, 22, 0, 0),\n",
              " datetime.datetime(2015, 8, 22, 0, 0),\n",
              " datetime.datetime(2015, 8, 22, 0, 0),\n",
              " datetime.datetime(2015, 8, 23, 0, 0),\n",
              " datetime.datetime(2015, 8, 23, 0, 0),\n",
              " datetime.datetime(2015, 8, 23, 0, 0),\n",
              " datetime.datetime(2015, 8, 23, 0, 0),\n",
              " datetime.datetime(2015, 8, 23, 0, 0),\n",
              " datetime.datetime(2015, 8, 23, 0, 0),\n",
              " datetime.datetime(2015, 8, 23, 0, 0),\n",
              " datetime.datetime(2015, 8, 23, 0, 0),\n",
              " datetime.datetime(2015, 8, 23, 0, 0),\n",
              " datetime.datetime(2015, 8, 24, 0, 0),\n",
              " datetime.datetime(2015, 8, 24, 0, 0),\n",
              " datetime.datetime(2015, 8, 24, 0, 0),\n",
              " datetime.datetime(2015, 8, 24, 0, 0),\n",
              " datetime.datetime(2015, 8, 24, 0, 0),\n",
              " datetime.datetime(2015, 8, 24, 0, 0),\n",
              " datetime.datetime(2015, 8, 24, 0, 0),\n",
              " datetime.datetime(2015, 8, 24, 0, 0),\n",
              " datetime.datetime(2015, 8, 24, 0, 0),\n",
              " datetime.datetime(2015, 8, 24, 0, 0),\n",
              " datetime.datetime(2015, 8, 24, 0, 0),\n",
              " datetime.datetime(2015, 8, 25, 0, 0),\n",
              " datetime.datetime(2015, 8, 25, 0, 0),\n",
              " datetime.datetime(2015, 8, 26, 0, 0),\n",
              " datetime.datetime(2015, 8, 26, 0, 0),\n",
              " datetime.datetime(2015, 8, 26, 0, 0),\n",
              " datetime.datetime(2015, 8, 26, 0, 0),\n",
              " datetime.datetime(2015, 8, 26, 0, 0),\n",
              " datetime.datetime(2015, 8, 26, 0, 0),\n",
              " datetime.datetime(2015, 8, 27, 0, 0),\n",
              " datetime.datetime(2015, 8, 27, 0, 0),\n",
              " datetime.datetime(2015, 8, 27, 0, 0),\n",
              " datetime.datetime(2015, 8, 27, 0, 0),\n",
              " datetime.datetime(2015, 8, 27, 0, 0),\n",
              " datetime.datetime(2015, 8, 27, 0, 0),\n",
              " datetime.datetime(2015, 8, 27, 0, 0),\n",
              " datetime.datetime(2015, 8, 27, 0, 0),\n",
              " datetime.datetime(2015, 8, 27, 0, 0),\n",
              " datetime.datetime(2015, 8, 28, 0, 0),\n",
              " datetime.datetime(2015, 8, 28, 0, 0),\n",
              " datetime.datetime(2015, 8, 28, 0, 0),\n",
              " datetime.datetime(2015, 8, 28, 0, 0),\n",
              " datetime.datetime(2015, 8, 28, 0, 0),\n",
              " datetime.datetime(2015, 8, 28, 0, 0),\n",
              " datetime.datetime(2015, 8, 28, 0, 0),\n",
              " datetime.datetime(2015, 8, 28, 0, 0),\n",
              " datetime.datetime(2015, 8, 28, 0, 0),\n",
              " datetime.datetime(2015, 8, 28, 0, 0),\n",
              " datetime.datetime(2015, 8, 28, 0, 0),\n",
              " datetime.datetime(2015, 8, 28, 0, 0),\n",
              " datetime.datetime(2015, 8, 28, 0, 0),\n",
              " datetime.datetime(2015, 8, 28, 0, 0),\n",
              " datetime.datetime(2015, 8, 28, 0, 0),\n",
              " datetime.datetime(2015, 8, 28, 0, 0),\n",
              " datetime.datetime(2015, 8, 28, 0, 0),\n",
              " datetime.datetime(2015, 8, 28, 0, 0),\n",
              " datetime.datetime(2015, 8, 28, 0, 0),\n",
              " datetime.datetime(2015, 8, 28, 0, 0),\n",
              " datetime.datetime(2015, 8, 28, 0, 0),\n",
              " datetime.datetime(2015, 8, 28, 0, 0),\n",
              " datetime.datetime(2015, 8, 28, 0, 0),\n",
              " datetime.datetime(2015, 8, 28, 0, 0),\n",
              " datetime.datetime(2015, 8, 28, 0, 0),\n",
              " datetime.datetime(2015, 8, 28, 0, 0),\n",
              " datetime.datetime(2015, 8, 28, 0, 0),\n",
              " datetime.datetime(2015, 8, 29, 0, 0),\n",
              " datetime.datetime(2015, 8, 29, 0, 0),\n",
              " datetime.datetime(2015, 8, 29, 0, 0),\n",
              " datetime.datetime(2015, 8, 29, 0, 0),\n",
              " datetime.datetime(2015, 8, 29, 0, 0),\n",
              " datetime.datetime(2015, 8, 29, 0, 0),\n",
              " datetime.datetime(2015, 8, 29, 0, 0),\n",
              " datetime.datetime(2015, 8, 29, 0, 0),\n",
              " datetime.datetime(2015, 8, 29, 0, 0),\n",
              " datetime.datetime(2015, 8, 29, 0, 0),\n",
              " datetime.datetime(2015, 8, 29, 0, 0),\n",
              " datetime.datetime(2015, 8, 30, 0, 0),\n",
              " datetime.datetime(2015, 8, 30, 0, 0),\n",
              " datetime.datetime(2015, 8, 30, 0, 0),\n",
              " datetime.datetime(2015, 8, 30, 0, 0),\n",
              " datetime.datetime(2015, 8, 30, 0, 0),\n",
              " datetime.datetime(2015, 8, 30, 0, 0),\n",
              " datetime.datetime(2015, 8, 30, 0, 0),\n",
              " datetime.datetime(2015, 8, 30, 0, 0),\n",
              " datetime.datetime(2015, 8, 30, 0, 0),\n",
              " datetime.datetime(2015, 8, 30, 0, 0),\n",
              " datetime.datetime(2015, 8, 30, 0, 0),\n",
              " datetime.datetime(2015, 8, 30, 0, 0),\n",
              " datetime.datetime(2015, 8, 31, 0, 0),\n",
              " datetime.datetime(2015, 8, 31, 0, 0),\n",
              " datetime.datetime(2015, 8, 31, 0, 0),\n",
              " datetime.datetime(2015, 8, 31, 0, 0),\n",
              " datetime.datetime(2015, 8, 31, 0, 0),\n",
              " datetime.datetime(2015, 8, 31, 0, 0),\n",
              " datetime.datetime(2015, 8, 31, 0, 0),\n",
              " datetime.datetime(2015, 8, 31, 0, 0),\n",
              " datetime.datetime(2015, 8, 31, 0, 0),\n",
              " datetime.datetime(2015, 8, 31, 0, 0),\n",
              " datetime.datetime(2015, 8, 31, 0, 0),\n",
              " datetime.datetime(2015, 8, 31, 0, 0),\n",
              " datetime.datetime(2015, 8, 31, 0, 0),\n",
              " datetime.datetime(2015, 8, 31, 0, 0),\n",
              " datetime.datetime(2015, 8, 31, 0, 0),\n",
              " datetime.datetime(2015, 9, 1, 0, 0),\n",
              " datetime.datetime(2015, 9, 1, 0, 0),\n",
              " datetime.datetime(2015, 9, 1, 0, 0),\n",
              " datetime.datetime(2015, 9, 1, 0, 0),\n",
              " datetime.datetime(2015, 9, 1, 0, 0),\n",
              " datetime.datetime(2015, 9, 1, 0, 0),\n",
              " datetime.datetime(2015, 9, 1, 0, 0),\n",
              " datetime.datetime(2015, 9, 1, 0, 0),\n",
              " datetime.datetime(2015, 9, 1, 0, 0),\n",
              " datetime.datetime(2015, 9, 1, 0, 0),\n",
              " datetime.datetime(2015, 9, 1, 0, 0),\n",
              " datetime.datetime(2015, 9, 1, 0, 0),\n",
              " datetime.datetime(2015, 9, 1, 0, 0),\n",
              " datetime.datetime(2015, 9, 1, 0, 0),\n",
              " datetime.datetime(2015, 9, 1, 0, 0),\n",
              " datetime.datetime(2015, 9, 1, 0, 0),\n",
              " datetime.datetime(2015, 9, 1, 0, 0),\n",
              " datetime.datetime(2015, 9, 1, 0, 0),\n",
              " datetime.datetime(2015, 9, 1, 0, 0),\n",
              " datetime.datetime(2015, 9, 2, 0, 0),\n",
              " datetime.datetime(2015, 9, 2, 0, 0),\n",
              " datetime.datetime(2015, 9, 2, 0, 0),\n",
              " datetime.datetime(2015, 9, 2, 0, 0),\n",
              " datetime.datetime(2015, 9, 2, 0, 0),\n",
              " datetime.datetime(2015, 9, 3, 0, 0),\n",
              " datetime.datetime(2015, 9, 3, 0, 0),\n",
              " datetime.datetime(2015, 9, 3, 0, 0),\n",
              " datetime.datetime(2015, 9, 3, 0, 0),\n",
              " datetime.datetime(2015, 9, 3, 0, 0),\n",
              " datetime.datetime(2015, 9, 3, 0, 0),\n",
              " datetime.datetime(2015, 9, 3, 0, 0),\n",
              " datetime.datetime(2015, 9, 3, 0, 0),\n",
              " datetime.datetime(2015, 9, 3, 0, 0),\n",
              " datetime.datetime(2015, 9, 3, 0, 0),\n",
              " datetime.datetime(2015, 9, 3, 0, 0),\n",
              " datetime.datetime(2015, 9, 3, 0, 0),\n",
              " datetime.datetime(2015, 9, 3, 0, 0),\n",
              " datetime.datetime(2015, 9, 3, 0, 0),\n",
              " datetime.datetime(2015, 9, 3, 0, 0),\n",
              " datetime.datetime(2015, 9, 3, 0, 0),\n",
              " datetime.datetime(2015, 9, 3, 0, 0),\n",
              " datetime.datetime(2015, 9, 3, 0, 0),\n",
              " datetime.datetime(2015, 9, 3, 0, 0),\n",
              " datetime.datetime(2015, 9, 3, 0, 0),\n",
              " datetime.datetime(2015, 9, 3, 0, 0),\n",
              " datetime.datetime(2015, 9, 3, 0, 0),\n",
              " datetime.datetime(2015, 9, 3, 0, 0),\n",
              " datetime.datetime(2015, 9, 3, 0, 0),\n",
              " datetime.datetime(2015, 9, 4, 0, 0),\n",
              " datetime.datetime(2015, 9, 4, 0, 0),\n",
              " datetime.datetime(2015, 9, 4, 0, 0),\n",
              " datetime.datetime(2015, 9, 4, 0, 0),\n",
              " datetime.datetime(2015, 9, 4, 0, 0),\n",
              " datetime.datetime(2015, 9, 4, 0, 0),\n",
              " datetime.datetime(2015, 9, 4, 0, 0),\n",
              " datetime.datetime(2015, 9, 4, 0, 0),\n",
              " datetime.datetime(2015, 9, 4, 0, 0),\n",
              " datetime.datetime(2015, 9, 4, 0, 0),\n",
              " datetime.datetime(2015, 9, 4, 0, 0),\n",
              " datetime.datetime(2015, 9, 4, 0, 0),\n",
              " datetime.datetime(2015, 9, 4, 0, 0),\n",
              " datetime.datetime(2015, 9, 4, 0, 0),\n",
              " datetime.datetime(2015, 9, 4, 0, 0),\n",
              " datetime.datetime(2015, 9, 4, 0, 0),\n",
              " datetime.datetime(2015, 9, 4, 0, 0),\n",
              " datetime.datetime(2015, 9, 4, 0, 0),\n",
              " datetime.datetime(2015, 9, 4, 0, 0),\n",
              " datetime.datetime(2015, 9, 5, 0, 0),\n",
              " datetime.datetime(2015, 9, 5, 0, 0),\n",
              " datetime.datetime(2015, 9, 5, 0, 0),\n",
              " datetime.datetime(2015, 9, 5, 0, 0),\n",
              " ...]"
            ]
          },
          "metadata": {},
          "execution_count": 90
        }
      ]
    },
    {
      "cell_type": "code",
      "source": [
        "check_out['arrival_date']=check_date"
      ],
      "metadata": {
        "id": "zP9PUu_m46b8"
      },
      "execution_count": 91,
      "outputs": []
    },
    {
      "cell_type": "markdown",
      "source": [
        "df = df.assign(Percentage = lambda x: (x['Total_Marks'] /500 * 100))"
      ],
      "metadata": {
        "id": "jOcfNaf373tZ"
      }
    },
    {
      "cell_type": "code",
      "source": [
        "check_in_out=check_out.drop(check_out.iloc[:,1:4],axis=1)\n",
        "check_in_out=check_in_out.assign(Total_stay= lambda x:(x['reservation_status_date']-x['arrival_date']))\n",
        "check_in_out['adr']=hotel_booking_new['adr']\n",
        "check_in_out.head(15)"
      ],
      "metadata": {
        "colab": {
          "base_uri": "https://localhost:8080/",
          "height": 520
        },
        "id": "nN_vjOZA55YY",
        "outputId": "03d2dfcd-bc7f-46e1-a4f2-6566a88d2de3"
      },
      "execution_count": 92,
      "outputs": [
        {
          "output_type": "execute_result",
          "data": {
            "text/plain": [
              "   reservation_status_date arrival_date Total_stay     adr\n",
              "0               2015-07-01   2015-07-01     0 days    0.00\n",
              "1               2015-07-01   2015-07-01     0 days    0.00\n",
              "2               2015-07-02   2015-07-01     1 days   75.00\n",
              "3               2015-07-02   2015-07-01     1 days   75.00\n",
              "4               2015-07-03   2015-07-01     2 days   98.00\n",
              "5               2015-07-03   2015-07-01     2 days   98.00\n",
              "6               2015-07-03   2015-07-01     2 days  107.00\n",
              "7               2015-07-03   2015-07-01     2 days  103.00\n",
              "11              2015-07-05   2015-07-01     4 days  145.00\n",
              "12              2015-07-05   2015-07-01     4 days   97.00\n",
              "13              2015-07-05   2015-07-01     4 days  154.77\n",
              "14              2015-07-05   2015-07-01     4 days   94.71\n",
              "15              2015-07-05   2015-07-01     4 days   97.00\n",
              "16              2015-07-05   2015-07-01     4 days   97.50\n",
              "17              2015-07-02   2015-07-01     1 days   88.20"
            ],
            "text/html": [
              "\n",
              "  <div id=\"df-4e9c0ee5-c6e3-4d28-9804-3c8e67ea990a\">\n",
              "    <div class=\"colab-df-container\">\n",
              "      <div>\n",
              "<style scoped>\n",
              "    .dataframe tbody tr th:only-of-type {\n",
              "        vertical-align: middle;\n",
              "    }\n",
              "\n",
              "    .dataframe tbody tr th {\n",
              "        vertical-align: top;\n",
              "    }\n",
              "\n",
              "    .dataframe thead th {\n",
              "        text-align: right;\n",
              "    }\n",
              "</style>\n",
              "<table border=\"1\" class=\"dataframe\">\n",
              "  <thead>\n",
              "    <tr style=\"text-align: right;\">\n",
              "      <th></th>\n",
              "      <th>reservation_status_date</th>\n",
              "      <th>arrival_date</th>\n",
              "      <th>Total_stay</th>\n",
              "      <th>adr</th>\n",
              "    </tr>\n",
              "  </thead>\n",
              "  <tbody>\n",
              "    <tr>\n",
              "      <th>0</th>\n",
              "      <td>2015-07-01</td>\n",
              "      <td>2015-07-01</td>\n",
              "      <td>0 days</td>\n",
              "      <td>0.00</td>\n",
              "    </tr>\n",
              "    <tr>\n",
              "      <th>1</th>\n",
              "      <td>2015-07-01</td>\n",
              "      <td>2015-07-01</td>\n",
              "      <td>0 days</td>\n",
              "      <td>0.00</td>\n",
              "    </tr>\n",
              "    <tr>\n",
              "      <th>2</th>\n",
              "      <td>2015-07-02</td>\n",
              "      <td>2015-07-01</td>\n",
              "      <td>1 days</td>\n",
              "      <td>75.00</td>\n",
              "    </tr>\n",
              "    <tr>\n",
              "      <th>3</th>\n",
              "      <td>2015-07-02</td>\n",
              "      <td>2015-07-01</td>\n",
              "      <td>1 days</td>\n",
              "      <td>75.00</td>\n",
              "    </tr>\n",
              "    <tr>\n",
              "      <th>4</th>\n",
              "      <td>2015-07-03</td>\n",
              "      <td>2015-07-01</td>\n",
              "      <td>2 days</td>\n",
              "      <td>98.00</td>\n",
              "    </tr>\n",
              "    <tr>\n",
              "      <th>5</th>\n",
              "      <td>2015-07-03</td>\n",
              "      <td>2015-07-01</td>\n",
              "      <td>2 days</td>\n",
              "      <td>98.00</td>\n",
              "    </tr>\n",
              "    <tr>\n",
              "      <th>6</th>\n",
              "      <td>2015-07-03</td>\n",
              "      <td>2015-07-01</td>\n",
              "      <td>2 days</td>\n",
              "      <td>107.00</td>\n",
              "    </tr>\n",
              "    <tr>\n",
              "      <th>7</th>\n",
              "      <td>2015-07-03</td>\n",
              "      <td>2015-07-01</td>\n",
              "      <td>2 days</td>\n",
              "      <td>103.00</td>\n",
              "    </tr>\n",
              "    <tr>\n",
              "      <th>11</th>\n",
              "      <td>2015-07-05</td>\n",
              "      <td>2015-07-01</td>\n",
              "      <td>4 days</td>\n",
              "      <td>145.00</td>\n",
              "    </tr>\n",
              "    <tr>\n",
              "      <th>12</th>\n",
              "      <td>2015-07-05</td>\n",
              "      <td>2015-07-01</td>\n",
              "      <td>4 days</td>\n",
              "      <td>97.00</td>\n",
              "    </tr>\n",
              "    <tr>\n",
              "      <th>13</th>\n",
              "      <td>2015-07-05</td>\n",
              "      <td>2015-07-01</td>\n",
              "      <td>4 days</td>\n",
              "      <td>154.77</td>\n",
              "    </tr>\n",
              "    <tr>\n",
              "      <th>14</th>\n",
              "      <td>2015-07-05</td>\n",
              "      <td>2015-07-01</td>\n",
              "      <td>4 days</td>\n",
              "      <td>94.71</td>\n",
              "    </tr>\n",
              "    <tr>\n",
              "      <th>15</th>\n",
              "      <td>2015-07-05</td>\n",
              "      <td>2015-07-01</td>\n",
              "      <td>4 days</td>\n",
              "      <td>97.00</td>\n",
              "    </tr>\n",
              "    <tr>\n",
              "      <th>16</th>\n",
              "      <td>2015-07-05</td>\n",
              "      <td>2015-07-01</td>\n",
              "      <td>4 days</td>\n",
              "      <td>97.50</td>\n",
              "    </tr>\n",
              "    <tr>\n",
              "      <th>17</th>\n",
              "      <td>2015-07-02</td>\n",
              "      <td>2015-07-01</td>\n",
              "      <td>1 days</td>\n",
              "      <td>88.20</td>\n",
              "    </tr>\n",
              "  </tbody>\n",
              "</table>\n",
              "</div>\n",
              "      <button class=\"colab-df-convert\" onclick=\"convertToInteractive('df-4e9c0ee5-c6e3-4d28-9804-3c8e67ea990a')\"\n",
              "              title=\"Convert this dataframe to an interactive table.\"\n",
              "              style=\"display:none;\">\n",
              "        \n",
              "  <svg xmlns=\"http://www.w3.org/2000/svg\" height=\"24px\"viewBox=\"0 0 24 24\"\n",
              "       width=\"24px\">\n",
              "    <path d=\"M0 0h24v24H0V0z\" fill=\"none\"/>\n",
              "    <path d=\"M18.56 5.44l.94 2.06.94-2.06 2.06-.94-2.06-.94-.94-2.06-.94 2.06-2.06.94zm-11 1L8.5 8.5l.94-2.06 2.06-.94-2.06-.94L8.5 2.5l-.94 2.06-2.06.94zm10 10l.94 2.06.94-2.06 2.06-.94-2.06-.94-.94-2.06-.94 2.06-2.06.94z\"/><path d=\"M17.41 7.96l-1.37-1.37c-.4-.4-.92-.59-1.43-.59-.52 0-1.04.2-1.43.59L10.3 9.45l-7.72 7.72c-.78.78-.78 2.05 0 2.83L4 21.41c.39.39.9.59 1.41.59.51 0 1.02-.2 1.41-.59l7.78-7.78 2.81-2.81c.8-.78.8-2.07 0-2.86zM5.41 20L4 18.59l7.72-7.72 1.47 1.35L5.41 20z\"/>\n",
              "  </svg>\n",
              "      </button>\n",
              "      \n",
              "  <style>\n",
              "    .colab-df-container {\n",
              "      display:flex;\n",
              "      flex-wrap:wrap;\n",
              "      gap: 12px;\n",
              "    }\n",
              "\n",
              "    .colab-df-convert {\n",
              "      background-color: #E8F0FE;\n",
              "      border: none;\n",
              "      border-radius: 50%;\n",
              "      cursor: pointer;\n",
              "      display: none;\n",
              "      fill: #1967D2;\n",
              "      height: 32px;\n",
              "      padding: 0 0 0 0;\n",
              "      width: 32px;\n",
              "    }\n",
              "\n",
              "    .colab-df-convert:hover {\n",
              "      background-color: #E2EBFA;\n",
              "      box-shadow: 0px 1px 2px rgba(60, 64, 67, 0.3), 0px 1px 3px 1px rgba(60, 64, 67, 0.15);\n",
              "      fill: #174EA6;\n",
              "    }\n",
              "\n",
              "    [theme=dark] .colab-df-convert {\n",
              "      background-color: #3B4455;\n",
              "      fill: #D2E3FC;\n",
              "    }\n",
              "\n",
              "    [theme=dark] .colab-df-convert:hover {\n",
              "      background-color: #434B5C;\n",
              "      box-shadow: 0px 1px 3px 1px rgba(0, 0, 0, 0.15);\n",
              "      filter: drop-shadow(0px 1px 2px rgba(0, 0, 0, 0.3));\n",
              "      fill: #FFFFFF;\n",
              "    }\n",
              "  </style>\n",
              "\n",
              "      <script>\n",
              "        const buttonEl =\n",
              "          document.querySelector('#df-4e9c0ee5-c6e3-4d28-9804-3c8e67ea990a button.colab-df-convert');\n",
              "        buttonEl.style.display =\n",
              "          google.colab.kernel.accessAllowed ? 'block' : 'none';\n",
              "\n",
              "        async function convertToInteractive(key) {\n",
              "          const element = document.querySelector('#df-4e9c0ee5-c6e3-4d28-9804-3c8e67ea990a');\n",
              "          const dataTable =\n",
              "            await google.colab.kernel.invokeFunction('convertToInteractive',\n",
              "                                                     [key], {});\n",
              "          if (!dataTable) return;\n",
              "\n",
              "          const docLinkHtml = 'Like what you see? Visit the ' +\n",
              "            '<a target=\"_blank\" href=https://colab.research.google.com/notebooks/data_table.ipynb>data table notebook</a>'\n",
              "            + ' to learn more about interactive tables.';\n",
              "          element.innerHTML = '';\n",
              "          dataTable['output_type'] = 'display_data';\n",
              "          await google.colab.output.renderOutput(dataTable, element);\n",
              "          const docLink = document.createElement('div');\n",
              "          docLink.innerHTML = docLinkHtml;\n",
              "          element.appendChild(docLink);\n",
              "        }\n",
              "      </script>\n",
              "    </div>\n",
              "  </div>\n",
              "  "
            ]
          },
          "metadata": {},
          "execution_count": 92
        }
      ]
    },
    {
      "cell_type": "code",
      "source": [
        "mean=check_in_out.groupby(['Total_stay']).mean()\n",
        "Total_stay1=check_in_out.assign(Total_stay1=lambda x:x['Total_stay'])\n",
        "Total_stay1"
      ],
      "metadata": {
        "colab": {
          "base_uri": "https://localhost:8080/",
          "height": 424
        },
        "id": "WA_pMHSz536P",
        "outputId": "5b721788-1ba4-4d1d-bb8a-9f96a976c0ca"
      },
      "execution_count": 93,
      "outputs": [
        {
          "output_type": "execute_result",
          "data": {
            "text/plain": [
              "       reservation_status_date arrival_date Total_stay     adr Total_stay1\n",
              "0                   2015-07-01   2015-07-01     0 days    0.00      0 days\n",
              "1                   2015-07-01   2015-07-01     0 days    0.00      0 days\n",
              "2                   2015-07-02   2015-07-01     1 days   75.00      1 days\n",
              "3                   2015-07-02   2015-07-01     1 days   75.00      1 days\n",
              "4                   2015-07-03   2015-07-01     2 days   98.00      2 days\n",
              "...                        ...          ...        ...     ...         ...\n",
              "119385              2017-09-06   2017-08-30     7 days   96.14      7 days\n",
              "119386              2017-09-07   2017-08-31     7 days  225.43      7 days\n",
              "119387              2017-09-07   2017-08-31     7 days  157.71      7 days\n",
              "119388              2017-09-07   2017-08-31     7 days  104.40      7 days\n",
              "119389              2017-09-07   2017-08-29     9 days  151.20      9 days\n",
              "\n",
              "[74590 rows x 5 columns]"
            ],
            "text/html": [
              "\n",
              "  <div id=\"df-520b9b91-3519-47ec-b578-b28d69b37b3f\">\n",
              "    <div class=\"colab-df-container\">\n",
              "      <div>\n",
              "<style scoped>\n",
              "    .dataframe tbody tr th:only-of-type {\n",
              "        vertical-align: middle;\n",
              "    }\n",
              "\n",
              "    .dataframe tbody tr th {\n",
              "        vertical-align: top;\n",
              "    }\n",
              "\n",
              "    .dataframe thead th {\n",
              "        text-align: right;\n",
              "    }\n",
              "</style>\n",
              "<table border=\"1\" class=\"dataframe\">\n",
              "  <thead>\n",
              "    <tr style=\"text-align: right;\">\n",
              "      <th></th>\n",
              "      <th>reservation_status_date</th>\n",
              "      <th>arrival_date</th>\n",
              "      <th>Total_stay</th>\n",
              "      <th>adr</th>\n",
              "      <th>Total_stay1</th>\n",
              "    </tr>\n",
              "  </thead>\n",
              "  <tbody>\n",
              "    <tr>\n",
              "      <th>0</th>\n",
              "      <td>2015-07-01</td>\n",
              "      <td>2015-07-01</td>\n",
              "      <td>0 days</td>\n",
              "      <td>0.00</td>\n",
              "      <td>0 days</td>\n",
              "    </tr>\n",
              "    <tr>\n",
              "      <th>1</th>\n",
              "      <td>2015-07-01</td>\n",
              "      <td>2015-07-01</td>\n",
              "      <td>0 days</td>\n",
              "      <td>0.00</td>\n",
              "      <td>0 days</td>\n",
              "    </tr>\n",
              "    <tr>\n",
              "      <th>2</th>\n",
              "      <td>2015-07-02</td>\n",
              "      <td>2015-07-01</td>\n",
              "      <td>1 days</td>\n",
              "      <td>75.00</td>\n",
              "      <td>1 days</td>\n",
              "    </tr>\n",
              "    <tr>\n",
              "      <th>3</th>\n",
              "      <td>2015-07-02</td>\n",
              "      <td>2015-07-01</td>\n",
              "      <td>1 days</td>\n",
              "      <td>75.00</td>\n",
              "      <td>1 days</td>\n",
              "    </tr>\n",
              "    <tr>\n",
              "      <th>4</th>\n",
              "      <td>2015-07-03</td>\n",
              "      <td>2015-07-01</td>\n",
              "      <td>2 days</td>\n",
              "      <td>98.00</td>\n",
              "      <td>2 days</td>\n",
              "    </tr>\n",
              "    <tr>\n",
              "      <th>...</th>\n",
              "      <td>...</td>\n",
              "      <td>...</td>\n",
              "      <td>...</td>\n",
              "      <td>...</td>\n",
              "      <td>...</td>\n",
              "    </tr>\n",
              "    <tr>\n",
              "      <th>119385</th>\n",
              "      <td>2017-09-06</td>\n",
              "      <td>2017-08-30</td>\n",
              "      <td>7 days</td>\n",
              "      <td>96.14</td>\n",
              "      <td>7 days</td>\n",
              "    </tr>\n",
              "    <tr>\n",
              "      <th>119386</th>\n",
              "      <td>2017-09-07</td>\n",
              "      <td>2017-08-31</td>\n",
              "      <td>7 days</td>\n",
              "      <td>225.43</td>\n",
              "      <td>7 days</td>\n",
              "    </tr>\n",
              "    <tr>\n",
              "      <th>119387</th>\n",
              "      <td>2017-09-07</td>\n",
              "      <td>2017-08-31</td>\n",
              "      <td>7 days</td>\n",
              "      <td>157.71</td>\n",
              "      <td>7 days</td>\n",
              "    </tr>\n",
              "    <tr>\n",
              "      <th>119388</th>\n",
              "      <td>2017-09-07</td>\n",
              "      <td>2017-08-31</td>\n",
              "      <td>7 days</td>\n",
              "      <td>104.40</td>\n",
              "      <td>7 days</td>\n",
              "    </tr>\n",
              "    <tr>\n",
              "      <th>119389</th>\n",
              "      <td>2017-09-07</td>\n",
              "      <td>2017-08-29</td>\n",
              "      <td>9 days</td>\n",
              "      <td>151.20</td>\n",
              "      <td>9 days</td>\n",
              "    </tr>\n",
              "  </tbody>\n",
              "</table>\n",
              "<p>74590 rows × 5 columns</p>\n",
              "</div>\n",
              "      <button class=\"colab-df-convert\" onclick=\"convertToInteractive('df-520b9b91-3519-47ec-b578-b28d69b37b3f')\"\n",
              "              title=\"Convert this dataframe to an interactive table.\"\n",
              "              style=\"display:none;\">\n",
              "        \n",
              "  <svg xmlns=\"http://www.w3.org/2000/svg\" height=\"24px\"viewBox=\"0 0 24 24\"\n",
              "       width=\"24px\">\n",
              "    <path d=\"M0 0h24v24H0V0z\" fill=\"none\"/>\n",
              "    <path d=\"M18.56 5.44l.94 2.06.94-2.06 2.06-.94-2.06-.94-.94-2.06-.94 2.06-2.06.94zm-11 1L8.5 8.5l.94-2.06 2.06-.94-2.06-.94L8.5 2.5l-.94 2.06-2.06.94zm10 10l.94 2.06.94-2.06 2.06-.94-2.06-.94-.94-2.06-.94 2.06-2.06.94z\"/><path d=\"M17.41 7.96l-1.37-1.37c-.4-.4-.92-.59-1.43-.59-.52 0-1.04.2-1.43.59L10.3 9.45l-7.72 7.72c-.78.78-.78 2.05 0 2.83L4 21.41c.39.39.9.59 1.41.59.51 0 1.02-.2 1.41-.59l7.78-7.78 2.81-2.81c.8-.78.8-2.07 0-2.86zM5.41 20L4 18.59l7.72-7.72 1.47 1.35L5.41 20z\"/>\n",
              "  </svg>\n",
              "      </button>\n",
              "      \n",
              "  <style>\n",
              "    .colab-df-container {\n",
              "      display:flex;\n",
              "      flex-wrap:wrap;\n",
              "      gap: 12px;\n",
              "    }\n",
              "\n",
              "    .colab-df-convert {\n",
              "      background-color: #E8F0FE;\n",
              "      border: none;\n",
              "      border-radius: 50%;\n",
              "      cursor: pointer;\n",
              "      display: none;\n",
              "      fill: #1967D2;\n",
              "      height: 32px;\n",
              "      padding: 0 0 0 0;\n",
              "      width: 32px;\n",
              "    }\n",
              "\n",
              "    .colab-df-convert:hover {\n",
              "      background-color: #E2EBFA;\n",
              "      box-shadow: 0px 1px 2px rgba(60, 64, 67, 0.3), 0px 1px 3px 1px rgba(60, 64, 67, 0.15);\n",
              "      fill: #174EA6;\n",
              "    }\n",
              "\n",
              "    [theme=dark] .colab-df-convert {\n",
              "      background-color: #3B4455;\n",
              "      fill: #D2E3FC;\n",
              "    }\n",
              "\n",
              "    [theme=dark] .colab-df-convert:hover {\n",
              "      background-color: #434B5C;\n",
              "      box-shadow: 0px 1px 3px 1px rgba(0, 0, 0, 0.15);\n",
              "      filter: drop-shadow(0px 1px 2px rgba(0, 0, 0, 0.3));\n",
              "      fill: #FFFFFF;\n",
              "    }\n",
              "  </style>\n",
              "\n",
              "      <script>\n",
              "        const buttonEl =\n",
              "          document.querySelector('#df-520b9b91-3519-47ec-b578-b28d69b37b3f button.colab-df-convert');\n",
              "        buttonEl.style.display =\n",
              "          google.colab.kernel.accessAllowed ? 'block' : 'none';\n",
              "\n",
              "        async function convertToInteractive(key) {\n",
              "          const element = document.querySelector('#df-520b9b91-3519-47ec-b578-b28d69b37b3f');\n",
              "          const dataTable =\n",
              "            await google.colab.kernel.invokeFunction('convertToInteractive',\n",
              "                                                     [key], {});\n",
              "          if (!dataTable) return;\n",
              "\n",
              "          const docLinkHtml = 'Like what you see? Visit the ' +\n",
              "            '<a target=\"_blank\" href=https://colab.research.google.com/notebooks/data_table.ipynb>data table notebook</a>'\n",
              "            + ' to learn more about interactive tables.';\n",
              "          element.innerHTML = '';\n",
              "          dataTable['output_type'] = 'display_data';\n",
              "          await google.colab.output.renderOutput(dataTable, element);\n",
              "          const docLink = document.createElement('div');\n",
              "          docLink.innerHTML = docLinkHtml;\n",
              "          element.appendChild(docLink);\n",
              "        }\n",
              "      </script>\n",
              "    </div>\n",
              "  </div>\n",
              "  "
            ]
          },
          "metadata": {},
          "execution_count": 93
        }
      ]
    },
    {
      "cell_type": "code",
      "source": [
        "stay_list=Total_stay1[\"Total_stay\"].tolist()\n",
        "vv=[]\n",
        "for i in str(stay_list).split(\",\"):\n",
        "  vv.append(i[12:14])\n",
        "vv\n",
        "\n",
        "# str(stay_list).split(\",\")[0][12]"
      ],
      "metadata": {
        "colab": {
          "base_uri": "https://localhost:8080/"
        },
        "id": "M37D-fjeUdsE",
        "outputId": "3bc23e5b-5f05-4c6d-dc9c-f7334fc7cdcd"
      },
      "execution_count": 112,
      "outputs": [
        {
          "output_type": "execute_result",
          "data": {
            "text/plain": [
              "['0 ',\n",
              " '0 ',\n",
              " '1 ',\n",
              " '1 ',\n",
              " '2 ',\n",
              " '2 ',\n",
              " '2 ',\n",
              " '2 ',\n",
              " '4 ',\n",
              " '4 ',\n",
              " '4 ',\n",
              " '4 ',\n",
              " '4 ',\n",
              " '4 ',\n",
              " '1 ',\n",
              " '1 ',\n",
              " '4 ',\n",
              " '5 ',\n",
              " '6 ',\n",
              " '6 ',\n",
              " '6 ',\n",
              " '0 ',\n",
              " '7 ',\n",
              " '7 ',\n",
              " '7 ',\n",
              " '7 ',\n",
              " '15',\n",
              " '6 ',\n",
              " '4 ',\n",
              " '4 ',\n",
              " '5 ',\n",
              " '5 ',\n",
              " '5 ',\n",
              " '5 ',\n",
              " '7 ',\n",
              " '7 ',\n",
              " '7 ',\n",
              " '7 ',\n",
              " '7 ',\n",
              " '7 ',\n",
              " '11',\n",
              " '14',\n",
              " '1 ',\n",
              " '1 ',\n",
              " '1 ',\n",
              " '1 ',\n",
              " '1 ',\n",
              " '1 ',\n",
              " '2 ',\n",
              " '2 ',\n",
              " '2 ',\n",
              " '3 ',\n",
              " '3 ',\n",
              " '2 ',\n",
              " '2 ',\n",
              " '2 ',\n",
              " '2 ',\n",
              " '2 ',\n",
              " '3 ',\n",
              " '4 ',\n",
              " '4 ',\n",
              " '8 ',\n",
              " '9 ',\n",
              " '10',\n",
              " '10',\n",
              " '14',\n",
              " '14',\n",
              " '1 ',\n",
              " '1 ',\n",
              " '1 ',\n",
              " '1 ',\n",
              " '1 ',\n",
              " '1 ',\n",
              " '7 ',\n",
              " '7 ',\n",
              " '7 ',\n",
              " '3 ',\n",
              " '3 ',\n",
              " '6 ',\n",
              " '6 ',\n",
              " '7 ',\n",
              " '7 ',\n",
              " '7 ',\n",
              " '7 ',\n",
              " '7 ',\n",
              " '7 ',\n",
              " '8 ',\n",
              " '8 ',\n",
              " '10',\n",
              " '10',\n",
              " '10',\n",
              " '1 ',\n",
              " '1 ',\n",
              " '1 ',\n",
              " '1 ',\n",
              " '2 ',\n",
              " '2 ',\n",
              " '2 ',\n",
              " '2 ',\n",
              " '1 ',\n",
              " '1 ',\n",
              " '1 ',\n",
              " '1 ',\n",
              " '1 ',\n",
              " '1 ',\n",
              " '1 ',\n",
              " '2 ',\n",
              " '2 ',\n",
              " '4 ',\n",
              " '5 ',\n",
              " '5 ',\n",
              " '5 ',\n",
              " '6 ',\n",
              " '6 ',\n",
              " '7 ',\n",
              " '7 ',\n",
              " '7 ',\n",
              " '9 ',\n",
              " '10',\n",
              " '10',\n",
              " '11',\n",
              " '14',\n",
              " '14',\n",
              " '5 ',\n",
              " '4 ',\n",
              " '4 ',\n",
              " '4 ',\n",
              " '4 ',\n",
              " '4 ',\n",
              " '4 ',\n",
              " '0 ',\n",
              " '0 ',\n",
              " '1 ',\n",
              " '2 ',\n",
              " '2 ',\n",
              " '3 ',\n",
              " '4 ',\n",
              " '4 ',\n",
              " '5 ',\n",
              " '5 ',\n",
              " '6 ',\n",
              " '6 ',\n",
              " '7 ',\n",
              " '7 ',\n",
              " '8 ',\n",
              " '10',\n",
              " '10',\n",
              " '10',\n",
              " '10',\n",
              " '11',\n",
              " '14',\n",
              " '14',\n",
              " '7 ',\n",
              " '3 ',\n",
              " '3 ',\n",
              " '0 ',\n",
              " '0 ',\n",
              " '1 ',\n",
              " '1 ',\n",
              " '1 ',\n",
              " '4 ',\n",
              " '4 ',\n",
              " '4 ',\n",
              " '4 ',\n",
              " '7 ',\n",
              " '14',\n",
              " '3 ',\n",
              " '4 ',\n",
              " '4 ',\n",
              " '4 ',\n",
              " '4 ',\n",
              " '1 ',\n",
              " '2 ',\n",
              " '6 ',\n",
              " '7 ',\n",
              " '7 ',\n",
              " '7 ',\n",
              " '8 ',\n",
              " '9 ',\n",
              " '9 ',\n",
              " '1 ',\n",
              " '2 ',\n",
              " '2 ',\n",
              " '3 ',\n",
              " '4 ',\n",
              " '5 ',\n",
              " '5 ',\n",
              " '7 ',\n",
              " '7 ',\n",
              " '7 ',\n",
              " '7 ',\n",
              " '7 ',\n",
              " '1 ',\n",
              " '2 ',\n",
              " '2 ',\n",
              " '2 ',\n",
              " '2 ',\n",
              " '2 ',\n",
              " '2 ',\n",
              " '2 ',\n",
              " '2 ',\n",
              " '3 ',\n",
              " '3 ',\n",
              " '3 ',\n",
              " '4 ',\n",
              " '4 ',\n",
              " '5 ',\n",
              " '5 ',\n",
              " '5 ',\n",
              " '7 ',\n",
              " '7 ',\n",
              " '7 ',\n",
              " '7 ',\n",
              " '7 ',\n",
              " '7 ',\n",
              " '7 ',\n",
              " '8 ',\n",
              " '9 ',\n",
              " '10',\n",
              " '11',\n",
              " '13',\n",
              " '7 ',\n",
              " '7 ',\n",
              " '5 ',\n",
              " '6 ',\n",
              " '6 ',\n",
              " '6 ',\n",
              " '7 ',\n",
              " '4 ',\n",
              " '4 ',\n",
              " '4 ',\n",
              " '1 ',\n",
              " '1 ',\n",
              " '1 ',\n",
              " '1 ',\n",
              " '2 ',\n",
              " '2 ',\n",
              " '2 ',\n",
              " '3 ',\n",
              " '3 ',\n",
              " '7 ',\n",
              " '7 ',\n",
              " '8 ',\n",
              " '10',\n",
              " '7 ',\n",
              " '7 ',\n",
              " '1 ',\n",
              " '1 ',\n",
              " '6 ',\n",
              " '7 ',\n",
              " '7 ',\n",
              " '0 ',\n",
              " '7 ',\n",
              " '7 ',\n",
              " '7 ',\n",
              " '7 ',\n",
              " '7 ',\n",
              " '7 ',\n",
              " '7 ',\n",
              " '9 ',\n",
              " '9 ',\n",
              " '11',\n",
              " '11',\n",
              " '7 ',\n",
              " '1 ',\n",
              " '2 ',\n",
              " '2 ',\n",
              " '2 ',\n",
              " '2 ',\n",
              " '2 ',\n",
              " '3 ',\n",
              " '3 ',\n",
              " '4 ',\n",
              " '4 ',\n",
              " '4 ',\n",
              " '5 ',\n",
              " '5 ',\n",
              " '5 ',\n",
              " '7 ',\n",
              " '7 ',\n",
              " '7 ',\n",
              " '2 ',\n",
              " '2 ',\n",
              " '2 ',\n",
              " '2 ',\n",
              " '2 ',\n",
              " '2 ',\n",
              " '2 ',\n",
              " '3 ',\n",
              " '3 ',\n",
              " '3 ',\n",
              " '3 ',\n",
              " '3 ',\n",
              " '4 ',\n",
              " '5 ',\n",
              " '5 ',\n",
              " '5 ',\n",
              " '5 ',\n",
              " '5 ',\n",
              " '6 ',\n",
              " '6 ',\n",
              " '7 ',\n",
              " '7 ',\n",
              " '7 ',\n",
              " '1 ',\n",
              " '4 ',\n",
              " '8 ',\n",
              " '9 ',\n",
              " '1 ',\n",
              " '1 ',\n",
              " '2 ',\n",
              " '4 ',\n",
              " '5 ',\n",
              " '5 ',\n",
              " '6 ',\n",
              " '6 ',\n",
              " '6 ',\n",
              " '7 ',\n",
              " '7 ',\n",
              " '9 ',\n",
              " '11',\n",
              " '14',\n",
              " '14',\n",
              " '15',\n",
              " '1 ',\n",
              " '6 ',\n",
              " '8 ',\n",
              " '2 ',\n",
              " '2 ',\n",
              " '2 ',\n",
              " '2 ',\n",
              " '2 ',\n",
              " '9 ',\n",
              " '2 ',\n",
              " '2 ',\n",
              " '2 ',\n",
              " '2 ',\n",
              " '2 ',\n",
              " '2 ',\n",
              " '2 ',\n",
              " '2 ',\n",
              " '2 ',\n",
              " '2 ',\n",
              " '2 ',\n",
              " '2 ',\n",
              " '2 ',\n",
              " '2 ',\n",
              " '2 ',\n",
              " '1 ',\n",
              " '1 ',\n",
              " '2 ',\n",
              " '2 ',\n",
              " '2 ',\n",
              " '3 ',\n",
              " '3 ',\n",
              " '5 ',\n",
              " '5 ',\n",
              " '4 ',\n",
              " '6 ',\n",
              " '7 ',\n",
              " '8 ',\n",
              " '14',\n",
              " '0 ',\n",
              " '2 ',\n",
              " '2 ',\n",
              " '2 ',\n",
              " '2 ',\n",
              " '2 ',\n",
              " '2 ',\n",
              " '2 ',\n",
              " '2 ',\n",
              " '2 ',\n",
              " '5 ',\n",
              " '5 ',\n",
              " '5 ',\n",
              " '5 ',\n",
              " '5 ',\n",
              " '5 ',\n",
              " '5 ',\n",
              " '5 ',\n",
              " '5 ',\n",
              " '6 ',\n",
              " '7 ',\n",
              " '7 ',\n",
              " '7 ',\n",
              " '7 ',\n",
              " '7 ',\n",
              " '7 ',\n",
              " '8 ',\n",
              " '8 ',\n",
              " '8 ',\n",
              " '10',\n",
              " '3 ',\n",
              " '3 ',\n",
              " '3 ',\n",
              " '3 ',\n",
              " '3 ',\n",
              " '3 ',\n",
              " '3 ',\n",
              " '3 ',\n",
              " '3 ',\n",
              " '3 ',\n",
              " '4 ',\n",
              " '3 ',\n",
              " '6 ',\n",
              " '6 ',\n",
              " '7 ',\n",
              " '7 ',\n",
              " '4 ',\n",
              " '4 ',\n",
              " '5 ',\n",
              " '5 ',\n",
              " '5 ',\n",
              " '1 ',\n",
              " '1 ',\n",
              " '2 ',\n",
              " '3 ',\n",
              " '7 ',\n",
              " '7 ',\n",
              " '7 ',\n",
              " '7 ',\n",
              " '7 ',\n",
              " '7 ',\n",
              " '7 ',\n",
              " '8 ',\n",
              " '8 ',\n",
              " '14',\n",
              " '1 ',\n",
              " '1 ',\n",
              " '1 ',\n",
              " '1 ',\n",
              " '1 ',\n",
              " '2 ',\n",
              " '4 ',\n",
              " '5 ',\n",
              " '7 ',\n",
              " '7 ',\n",
              " '7 ',\n",
              " '7 ',\n",
              " '6 ',\n",
              " '7 ',\n",
              " '7 ',\n",
              " '10',\n",
              " '14',\n",
              " '6 ',\n",
              " '1 ',\n",
              " '0 ',\n",
              " '0 ',\n",
              " '4 ',\n",
              " '4 ',\n",
              " '4 ',\n",
              " '4 ',\n",
              " '4 ',\n",
              " '5 ',\n",
              " '6 ',\n",
              " '7 ',\n",
              " '7 ',\n",
              " '7 ',\n",
              " '7 ',\n",
              " '7 ',\n",
              " '7 ',\n",
              " '10',\n",
              " '10',\n",
              " '10',\n",
              " '2 ',\n",
              " '4 ',\n",
              " '5 ',\n",
              " '6 ',\n",
              " '7 ',\n",
              " '7 ',\n",
              " '8 ',\n",
              " '9 ',\n",
              " '10',\n",
              " '1 ',\n",
              " '4 ',\n",
              " '0 ',\n",
              " '0 ',\n",
              " '1 ',\n",
              " '1 ',\n",
              " '3 ',\n",
              " '3 ',\n",
              " '5 ',\n",
              " '8 ',\n",
              " '2 ',\n",
              " '2 ',\n",
              " '2 ',\n",
              " '2 ',\n",
              " '2 ',\n",
              " '2 ',\n",
              " '2 ',\n",
              " '2 ',\n",
              " '2 ',\n",
              " '3 ',\n",
              " '2 ',\n",
              " '4 ',\n",
              " '4 ',\n",
              " '5 ',\n",
              " '5 ',\n",
              " '7 ',\n",
              " '8 ',\n",
              " '9 ',\n",
              " '10',\n",
              " '0 ',\n",
              " '3 ',\n",
              " '1 ',\n",
              " '1 ',\n",
              " '1 ',\n",
              " '2 ',\n",
              " '2 ',\n",
              " '3 ',\n",
              " '4 ',\n",
              " '5 ',\n",
              " '5 ',\n",
              " '5 ',\n",
              " '5 ',\n",
              " '5 ',\n",
              " '6 ',\n",
              " '7 ',\n",
              " '7 ',\n",
              " '7 ',\n",
              " '7 ',\n",
              " '7 ',\n",
              " '8 ',\n",
              " '8 ',\n",
              " '10',\n",
              " '12',\n",
              " '7 ',\n",
              " '7 ',\n",
              " '3 ',\n",
              " '3 ',\n",
              " '5 ',\n",
              " '7 ',\n",
              " '2 ',\n",
              " '7 ',\n",
              " '7 ',\n",
              " '0 ',\n",
              " '2 ',\n",
              " '3 ',\n",
              " '3 ',\n",
              " '3 ',\n",
              " '3 ',\n",
              " '4 ',\n",
              " '4 ',\n",
              " '4 ',\n",
              " '4 ',\n",
              " '4 ',\n",
              " '4 ',\n",
              " '4 ',\n",
              " '4 ',\n",
              " '4 ',\n",
              " '4 ',\n",
              " '5 ',\n",
              " '5 ',\n",
              " '5 ',\n",
              " '6 ',\n",
              " '6 ',\n",
              " '7 ',\n",
              " '7 ',\n",
              " '1 ',\n",
              " '1 ',\n",
              " '2 ',\n",
              " '4 ',\n",
              " '4 ',\n",
              " '4 ',\n",
              " '5 ',\n",
              " '5 ',\n",
              " '6 ',\n",
              " '10',\n",
              " '0 ',\n",
              " '4 ',\n",
              " '5 ',\n",
              " '5 ',\n",
              " '1 ',\n",
              " '5 ',\n",
              " '5 ',\n",
              " '7 ',\n",
              " '6 ',\n",
              " '1 ',\n",
              " '2 ',\n",
              " '3 ',\n",
              " '0 ',\n",
              " '4 ',\n",
              " '9 ',\n",
              " '9 ',\n",
              " '9 ',\n",
              " '0 ',\n",
              " '0 ',\n",
              " '1 ',\n",
              " '2 ',\n",
              " '2 ',\n",
              " '2 ',\n",
              " '2 ',\n",
              " '2 ',\n",
              " '4 ',\n",
              " '4 ',\n",
              " '5 ',\n",
              " '6 ',\n",
              " '10',\n",
              " '2 ',\n",
              " '1 ',\n",
              " '7 ',\n",
              " '7 ',\n",
              " '8 ',\n",
              " '14',\n",
              " '7 ',\n",
              " '6 ',\n",
              " '6 ',\n",
              " '7 ',\n",
              " '7 ',\n",
              " '9 ',\n",
              " '7 ',\n",
              " '0 ',\n",
              " '1 ',\n",
              " '7 ',\n",
              " '7 ',\n",
              " '0 ',\n",
              " '0 ',\n",
              " '1 ',\n",
              " '4 ',\n",
              " '4 ',\n",
              " '5 ',\n",
              " '7 ',\n",
              " '7 ',\n",
              " '7 ',\n",
              " '10',\n",
              " '0 ',\n",
              " '0 ',\n",
              " '1 ',\n",
              " '1 ',\n",
              " '4 ',\n",
              " '4 ',\n",
              " '4 ',\n",
              " '7 ',\n",
              " '1 ',\n",
              " '3 ',\n",
              " '3 ',\n",
              " '4 ',\n",
              " '5 ',\n",
              " '5 ',\n",
              " '6 ',\n",
              " '8 ',\n",
              " '8 ',\n",
              " '10',\n",
              " '0 ',\n",
              " '1 ',\n",
              " '2 ',\n",
              " '2 ',\n",
              " '2 ',\n",
              " '3 ',\n",
              " '4 ',\n",
              " '4 ',\n",
              " '5 ',\n",
              " '7 ',\n",
              " '7 ',\n",
              " '9 ',\n",
              " '1 ',\n",
              " '2 ',\n",
              " '2 ',\n",
              " '3 ',\n",
              " '3 ',\n",
              " '4 ',\n",
              " '4 ',\n",
              " '7 ',\n",
              " '7 ',\n",
              " '7 ',\n",
              " '7 ',\n",
              " '7 ',\n",
              " '13',\n",
              " '1 ',\n",
              " '1 ',\n",
              " '1 ',\n",
              " '3 ',\n",
              " '4 ',\n",
              " '4 ',\n",
              " '6 ',\n",
              " '6 ',\n",
              " '7 ',\n",
              " '7 ',\n",
              " '7 ',\n",
              " '7 ',\n",
              " '0 ',\n",
              " '3 ',\n",
              " '3 ',\n",
              " '3 ',\n",
              " '5 ',\n",
              " '6 ',\n",
              " '6 ',\n",
              " '6 ',\n",
              " '7 ',\n",
              " '11',\n",
              " '0 ',\n",
              " '0 ',\n",
              " '4 ',\n",
              " '5 ',\n",
              " '7 ',\n",
              " '7 ',\n",
              " '10',\n",
              " '10',\n",
              " '12',\n",
              " '1 ',\n",
              " '3 ',\n",
              " '10',\n",
              " '10',\n",
              " '5 ',\n",
              " '1 ',\n",
              " '1 ',\n",
              " '1 ',\n",
              " '3 ',\n",
              " '3 ',\n",
              " '4 ',\n",
              " '4 ',\n",
              " '5 ',\n",
              " '5 ',\n",
              " '5 ',\n",
              " '5 ',\n",
              " '0 ',\n",
              " '1 ',\n",
              " '1 ',\n",
              " '1 ',\n",
              " '1 ',\n",
              " '1 ',\n",
              " '2 ',\n",
              " '2 ',\n",
              " '2 ',\n",
              " '3 ',\n",
              " '4 ',\n",
              " '5 ',\n",
              " '5 ',\n",
              " '7 ',\n",
              " '7 ',\n",
              " '7 ',\n",
              " '2 ',\n",
              " '4 ',\n",
              " '4 ',\n",
              " '4 ',\n",
              " '4 ',\n",
              " '5 ',\n",
              " '5 ',\n",
              " '6 ',\n",
              " '6 ',\n",
              " '6 ',\n",
              " '7 ',\n",
              " '7 ',\n",
              " '7 ',\n",
              " '7 ',\n",
              " '7 ',\n",
              " '14',\n",
              " '1 ',\n",
              " '1 ',\n",
              " '1 ',\n",
              " '1 ',\n",
              " '1 ',\n",
              " '1 ',\n",
              " '1 ',\n",
              " '1 ',\n",
              " '9 ',\n",
              " '5 ',\n",
              " '6 ',\n",
              " '7 ',\n",
              " '7 ',\n",
              " '7 ',\n",
              " '7 ',\n",
              " '7 ',\n",
              " '1 ',\n",
              " '3 ',\n",
              " '6 ',\n",
              " '6 ',\n",
              " '6 ',\n",
              " '6 ',\n",
              " '6 ',\n",
              " '7 ',\n",
              " '7 ',\n",
              " '7 ',\n",
              " '10',\n",
              " '10',\n",
              " '0 ',\n",
              " '1 ',\n",
              " '4 ',\n",
              " '4 ',\n",
              " '5 ',\n",
              " '5 ',\n",
              " '9 ',\n",
              " '9 ',\n",
              " '0 ',\n",
              " '0 ',\n",
              " '1 ',\n",
              " '3 ',\n",
              " '6 ',\n",
              " '9 ',\n",
              " '5 ',\n",
              " '2 ',\n",
              " '2 ',\n",
              " '2 ',\n",
              " '2 ',\n",
              " '4 ',\n",
              " '5 ',\n",
              " '5 ',\n",
              " '5 ',\n",
              " '5 ',\n",
              " '6 ',\n",
              " '6 ',\n",
              " '6 ',\n",
              " '6 ',\n",
              " '7 ',\n",
              " '7 ',\n",
              " '7 ',\n",
              " '7 ',\n",
              " '9 ',\n",
              " '10',\n",
              " '1 ',\n",
              " '6 ',\n",
              " '7 ',\n",
              " '7 ',\n",
              " '7 ',\n",
              " '7 ',\n",
              " '7 ',\n",
              " '7 ',\n",
              " '7 ',\n",
              " '7 ',\n",
              " '7 ',\n",
              " '7 ',\n",
              " '8 ',\n",
              " '4 ',\n",
              " '5 ',\n",
              " '5 ',\n",
              " '6 ',\n",
              " '6 ',\n",
              " '3 ',\n",
              " '4 ',\n",
              " '5 ',\n",
              " '5 ',\n",
              " '5 ',\n",
              " '7 ',\n",
              " '7 ',\n",
              " '7 ',\n",
              " '14',\n",
              " '1 ',\n",
              " '1 ',\n",
              " '1 ',\n",
              " '1 ',\n",
              " '2 ',\n",
              " '2 ',\n",
              " '4 ',\n",
              " '5 ',\n",
              " '5 ',\n",
              " '5 ',\n",
              " '10',\n",
              " '3 ',\n",
              " '10',\n",
              " '0 ',\n",
              " '1 ',\n",
              " '1 ',\n",
              " '1 ',\n",
              " '4 ',\n",
              " '11',\n",
              " '1 ',\n",
              " '2 ',\n",
              " '3 ',\n",
              " '4 ',\n",
              " '6 ',\n",
              " '6 ',\n",
              " '7 ',\n",
              " '7 ',\n",
              " '7 ',\n",
              " '1 ',\n",
              " '2 ',\n",
              " '2 ',\n",
              " '2 ',\n",
              " '2 ',\n",
              " '2 ',\n",
              " '2 ',\n",
              " '3 ',\n",
              " '3 ',\n",
              " '3 ',\n",
              " '3 ',\n",
              " '3 ',\n",
              " '3 ',\n",
              " '3 ',\n",
              " '1 ',\n",
              " '2 ',\n",
              " '4 ',\n",
              " '4 ',\n",
              " '5 ',\n",
              " '6 ',\n",
              " '6 ',\n",
              " '7 ',\n",
              " '7 ',\n",
              " '7 ',\n",
              " '5 ',\n",
              " '7 ',\n",
              " '5 ',\n",
              " '2 ',\n",
              " '2 ',\n",
              " '3 ',\n",
              " '3 ',\n",
              " '1 ',\n",
              " '4 ',\n",
              " '4 ',\n",
              " '5 ',\n",
              " '5 ',\n",
              " '6 ',\n",
              " '7 ',\n",
              " '1 ',\n",
              " '2 ',\n",
              " '2 ',\n",
              " '3 ',\n",
              " '3 ',\n",
              " '4 ',\n",
              " '4 ',\n",
              " '5 ',\n",
              " '6 ',\n",
              " '6 ',\n",
              " '7 ',\n",
              " '7 ',\n",
              " '1 ',\n",
              " '2 ',\n",
              " '2 ',\n",
              " '2 ',\n",
              " '3 ',\n",
              " '3 ',\n",
              " '3 ',\n",
              " '3 ',\n",
              " '3 ',\n",
              " '4 ',\n",
              " '4 ',\n",
              " '4 ',\n",
              " '7 ',\n",
              " '10',\n",
              " '11',\n",
              " '3 ',\n",
              " '3 ',\n",
              " '3 ',\n",
              " '4 ',\n",
              " '4 ',\n",
              " '4 ',\n",
              " '4 ',\n",
              " '5 ',\n",
              " '2 ',\n",
              " '5 ',\n",
              " '6 ',\n",
              " '7 ',\n",
              " '7 ',\n",
              " '7 ',\n",
              " '8 ',\n",
              " '8 ',\n",
              " '10',\n",
              " '12',\n",
              " '14',\n",
              " '1 ',\n",
              " '4 ',\n",
              " '5 ',\n",
              " '5 ',\n",
              " '7 ',\n",
              " '2 ',\n",
              " '3 ',\n",
              " '3 ',\n",
              " '3 ',\n",
              " '1 ',\n",
              " '3 ',\n",
              " '3 ',\n",
              " '3 ',\n",
              " '3 ',\n",
              " '3 ',\n",
              " '3 ',\n",
              " '4 ',\n",
              " '4 ',\n",
              " '4 ',\n",
              " '4 ',\n",
              " '4 ',\n",
              " '9 ',\n",
              " '9 ',\n",
              " '9 ',\n",
              " '10',\n",
              " '10',\n",
              " '7 ',\n",
              " '7 ',\n",
              " '14',\n",
              " '1 ',\n",
              " '1 ',\n",
              " '1 ',\n",
              " '2 ',\n",
              " '2 ',\n",
              " '2 ',\n",
              " '2 ',\n",
              " '3 ',\n",
              " '3 ',\n",
              " '3 ',\n",
              " '4 ',\n",
              " '4 ',\n",
              " '5 ',\n",
              " '5 ',\n",
              " '9 ',\n",
              " '10',\n",
              " '10',\n",
              " '6 ',\n",
              " '7 ',\n",
              " '6 ',\n",
              " '6 ',\n",
              " '6 ',\n",
              " '7 ',\n",
              " ...]"
            ]
          },
          "metadata": {},
          "execution_count": 112
        }
      ]
    },
    {
      "cell_type": "code",
      "source": [
        ""
      ],
      "metadata": {
        "colab": {
          "base_uri": "https://localhost:8080/",
          "height": 1000
        },
        "id": "CLPV2VOKAQxC",
        "outputId": "a2e4a47d-b619-4739-aba8-1dbe1f6c2ef5"
      },
      "execution_count": 110,
      "outputs": [
        {
          "output_type": "execute_result",
          "data": {
            "text/plain": [
              "                   adr\n",
              "Total_stay            \n",
              "0 days        4.395093\n",
              "1 days       92.789706\n",
              "2 days      101.330678\n",
              "3 days      104.350478\n",
              "4 days      103.318279\n",
              "5 days      108.317439\n",
              "6 days      115.256916\n",
              "7 days       99.823914\n",
              "8 days      107.577757\n",
              "9 days      110.671667\n",
              "10 days     102.161269\n",
              "11 days     101.473883\n",
              "12 days     101.853115\n",
              "13 days     100.567727\n",
              "14 days      87.971080\n",
              "15 days      90.948333\n",
              "16 days     100.342222\n",
              "17 days      93.919333\n",
              "18 days      95.865000\n",
              "19 days      74.273333\n",
              "20 days      87.700000\n",
              "21 days      68.437778\n",
              "22 days      78.198889\n",
              "23 days     118.935000\n",
              "24 days     106.000000\n",
              "25 days      55.065714\n",
              "28 days      57.078636\n",
              "29 days      34.100000\n",
              "30 days      57.500000\n",
              "34 days      93.000000\n",
              "35 days      39.876000\n",
              "38 days       0.260000\n",
              "42 days      35.520000\n",
              "45 days      42.110000\n",
              "46 days       0.000000\n",
              "48 days       0.000000\n",
              "56 days      28.790000"
            ],
            "text/html": [
              "\n",
              "  <div id=\"df-95964e09-64fb-4942-97a5-d0dbc1d1fcb0\">\n",
              "    <div class=\"colab-df-container\">\n",
              "      <div>\n",
              "<style scoped>\n",
              "    .dataframe tbody tr th:only-of-type {\n",
              "        vertical-align: middle;\n",
              "    }\n",
              "\n",
              "    .dataframe tbody tr th {\n",
              "        vertical-align: top;\n",
              "    }\n",
              "\n",
              "    .dataframe thead th {\n",
              "        text-align: right;\n",
              "    }\n",
              "</style>\n",
              "<table border=\"1\" class=\"dataframe\">\n",
              "  <thead>\n",
              "    <tr style=\"text-align: right;\">\n",
              "      <th></th>\n",
              "      <th>adr</th>\n",
              "    </tr>\n",
              "    <tr>\n",
              "      <th>Total_stay</th>\n",
              "      <th></th>\n",
              "    </tr>\n",
              "  </thead>\n",
              "  <tbody>\n",
              "    <tr>\n",
              "      <th>0 days</th>\n",
              "      <td>4.395093</td>\n",
              "    </tr>\n",
              "    <tr>\n",
              "      <th>1 days</th>\n",
              "      <td>92.789706</td>\n",
              "    </tr>\n",
              "    <tr>\n",
              "      <th>2 days</th>\n",
              "      <td>101.330678</td>\n",
              "    </tr>\n",
              "    <tr>\n",
              "      <th>3 days</th>\n",
              "      <td>104.350478</td>\n",
              "    </tr>\n",
              "    <tr>\n",
              "      <th>4 days</th>\n",
              "      <td>103.318279</td>\n",
              "    </tr>\n",
              "    <tr>\n",
              "      <th>5 days</th>\n",
              "      <td>108.317439</td>\n",
              "    </tr>\n",
              "    <tr>\n",
              "      <th>6 days</th>\n",
              "      <td>115.256916</td>\n",
              "    </tr>\n",
              "    <tr>\n",
              "      <th>7 days</th>\n",
              "      <td>99.823914</td>\n",
              "    </tr>\n",
              "    <tr>\n",
              "      <th>8 days</th>\n",
              "      <td>107.577757</td>\n",
              "    </tr>\n",
              "    <tr>\n",
              "      <th>9 days</th>\n",
              "      <td>110.671667</td>\n",
              "    </tr>\n",
              "    <tr>\n",
              "      <th>10 days</th>\n",
              "      <td>102.161269</td>\n",
              "    </tr>\n",
              "    <tr>\n",
              "      <th>11 days</th>\n",
              "      <td>101.473883</td>\n",
              "    </tr>\n",
              "    <tr>\n",
              "      <th>12 days</th>\n",
              "      <td>101.853115</td>\n",
              "    </tr>\n",
              "    <tr>\n",
              "      <th>13 days</th>\n",
              "      <td>100.567727</td>\n",
              "    </tr>\n",
              "    <tr>\n",
              "      <th>14 days</th>\n",
              "      <td>87.971080</td>\n",
              "    </tr>\n",
              "    <tr>\n",
              "      <th>15 days</th>\n",
              "      <td>90.948333</td>\n",
              "    </tr>\n",
              "    <tr>\n",
              "      <th>16 days</th>\n",
              "      <td>100.342222</td>\n",
              "    </tr>\n",
              "    <tr>\n",
              "      <th>17 days</th>\n",
              "      <td>93.919333</td>\n",
              "    </tr>\n",
              "    <tr>\n",
              "      <th>18 days</th>\n",
              "      <td>95.865000</td>\n",
              "    </tr>\n",
              "    <tr>\n",
              "      <th>19 days</th>\n",
              "      <td>74.273333</td>\n",
              "    </tr>\n",
              "    <tr>\n",
              "      <th>20 days</th>\n",
              "      <td>87.700000</td>\n",
              "    </tr>\n",
              "    <tr>\n",
              "      <th>21 days</th>\n",
              "      <td>68.437778</td>\n",
              "    </tr>\n",
              "    <tr>\n",
              "      <th>22 days</th>\n",
              "      <td>78.198889</td>\n",
              "    </tr>\n",
              "    <tr>\n",
              "      <th>23 days</th>\n",
              "      <td>118.935000</td>\n",
              "    </tr>\n",
              "    <tr>\n",
              "      <th>24 days</th>\n",
              "      <td>106.000000</td>\n",
              "    </tr>\n",
              "    <tr>\n",
              "      <th>25 days</th>\n",
              "      <td>55.065714</td>\n",
              "    </tr>\n",
              "    <tr>\n",
              "      <th>28 days</th>\n",
              "      <td>57.078636</td>\n",
              "    </tr>\n",
              "    <tr>\n",
              "      <th>29 days</th>\n",
              "      <td>34.100000</td>\n",
              "    </tr>\n",
              "    <tr>\n",
              "      <th>30 days</th>\n",
              "      <td>57.500000</td>\n",
              "    </tr>\n",
              "    <tr>\n",
              "      <th>34 days</th>\n",
              "      <td>93.000000</td>\n",
              "    </tr>\n",
              "    <tr>\n",
              "      <th>35 days</th>\n",
              "      <td>39.876000</td>\n",
              "    </tr>\n",
              "    <tr>\n",
              "      <th>38 days</th>\n",
              "      <td>0.260000</td>\n",
              "    </tr>\n",
              "    <tr>\n",
              "      <th>42 days</th>\n",
              "      <td>35.520000</td>\n",
              "    </tr>\n",
              "    <tr>\n",
              "      <th>45 days</th>\n",
              "      <td>42.110000</td>\n",
              "    </tr>\n",
              "    <tr>\n",
              "      <th>46 days</th>\n",
              "      <td>0.000000</td>\n",
              "    </tr>\n",
              "    <tr>\n",
              "      <th>48 days</th>\n",
              "      <td>0.000000</td>\n",
              "    </tr>\n",
              "    <tr>\n",
              "      <th>56 days</th>\n",
              "      <td>28.790000</td>\n",
              "    </tr>\n",
              "  </tbody>\n",
              "</table>\n",
              "</div>\n",
              "      <button class=\"colab-df-convert\" onclick=\"convertToInteractive('df-95964e09-64fb-4942-97a5-d0dbc1d1fcb0')\"\n",
              "              title=\"Convert this dataframe to an interactive table.\"\n",
              "              style=\"display:none;\">\n",
              "        \n",
              "  <svg xmlns=\"http://www.w3.org/2000/svg\" height=\"24px\"viewBox=\"0 0 24 24\"\n",
              "       width=\"24px\">\n",
              "    <path d=\"M0 0h24v24H0V0z\" fill=\"none\"/>\n",
              "    <path d=\"M18.56 5.44l.94 2.06.94-2.06 2.06-.94-2.06-.94-.94-2.06-.94 2.06-2.06.94zm-11 1L8.5 8.5l.94-2.06 2.06-.94-2.06-.94L8.5 2.5l-.94 2.06-2.06.94zm10 10l.94 2.06.94-2.06 2.06-.94-2.06-.94-.94-2.06-.94 2.06-2.06.94z\"/><path d=\"M17.41 7.96l-1.37-1.37c-.4-.4-.92-.59-1.43-.59-.52 0-1.04.2-1.43.59L10.3 9.45l-7.72 7.72c-.78.78-.78 2.05 0 2.83L4 21.41c.39.39.9.59 1.41.59.51 0 1.02-.2 1.41-.59l7.78-7.78 2.81-2.81c.8-.78.8-2.07 0-2.86zM5.41 20L4 18.59l7.72-7.72 1.47 1.35L5.41 20z\"/>\n",
              "  </svg>\n",
              "      </button>\n",
              "      \n",
              "  <style>\n",
              "    .colab-df-container {\n",
              "      display:flex;\n",
              "      flex-wrap:wrap;\n",
              "      gap: 12px;\n",
              "    }\n",
              "\n",
              "    .colab-df-convert {\n",
              "      background-color: #E8F0FE;\n",
              "      border: none;\n",
              "      border-radius: 50%;\n",
              "      cursor: pointer;\n",
              "      display: none;\n",
              "      fill: #1967D2;\n",
              "      height: 32px;\n",
              "      padding: 0 0 0 0;\n",
              "      width: 32px;\n",
              "    }\n",
              "\n",
              "    .colab-df-convert:hover {\n",
              "      background-color: #E2EBFA;\n",
              "      box-shadow: 0px 1px 2px rgba(60, 64, 67, 0.3), 0px 1px 3px 1px rgba(60, 64, 67, 0.15);\n",
              "      fill: #174EA6;\n",
              "    }\n",
              "\n",
              "    [theme=dark] .colab-df-convert {\n",
              "      background-color: #3B4455;\n",
              "      fill: #D2E3FC;\n",
              "    }\n",
              "\n",
              "    [theme=dark] .colab-df-convert:hover {\n",
              "      background-color: #434B5C;\n",
              "      box-shadow: 0px 1px 3px 1px rgba(0, 0, 0, 0.15);\n",
              "      filter: drop-shadow(0px 1px 2px rgba(0, 0, 0, 0.3));\n",
              "      fill: #FFFFFF;\n",
              "    }\n",
              "  </style>\n",
              "\n",
              "      <script>\n",
              "        const buttonEl =\n",
              "          document.querySelector('#df-95964e09-64fb-4942-97a5-d0dbc1d1fcb0 button.colab-df-convert');\n",
              "        buttonEl.style.display =\n",
              "          google.colab.kernel.accessAllowed ? 'block' : 'none';\n",
              "\n",
              "        async function convertToInteractive(key) {\n",
              "          const element = document.querySelector('#df-95964e09-64fb-4942-97a5-d0dbc1d1fcb0');\n",
              "          const dataTable =\n",
              "            await google.colab.kernel.invokeFunction('convertToInteractive',\n",
              "                                                     [key], {});\n",
              "          if (!dataTable) return;\n",
              "\n",
              "          const docLinkHtml = 'Like what you see? Visit the ' +\n",
              "            '<a target=\"_blank\" href=https://colab.research.google.com/notebooks/data_table.ipynb>data table notebook</a>'\n",
              "            + ' to learn more about interactive tables.';\n",
              "          element.innerHTML = '';\n",
              "          dataTable['output_type'] = 'display_data';\n",
              "          await google.colab.output.renderOutput(dataTable, element);\n",
              "          const docLink = document.createElement('div');\n",
              "          docLink.innerHTML = docLinkHtml;\n",
              "          element.appendChild(docLink);\n",
              "        }\n",
              "      </script>\n",
              "    </div>\n",
              "  </div>\n",
              "  "
            ]
          },
          "metadata": {},
          "execution_count": 110
        }
      ]
    },
    {
      "cell_type": "code",
      "source": [
        "mean"
      ],
      "metadata": {
        "colab": {
          "base_uri": "https://localhost:8080/",
          "height": 1000
        },
        "id": "cZUnfm6C_gmR",
        "outputId": "b95ee1df-d69a-4185-cf65-4e90082a1f0e"
      },
      "execution_count": 95,
      "outputs": [
        {
          "output_type": "execute_result",
          "data": {
            "text/plain": [
              "                   adr\n",
              "Total_stay            \n",
              "0 days        4.395093\n",
              "1 days       92.789706\n",
              "2 days      101.330678\n",
              "3 days      104.350478\n",
              "4 days      103.318279\n",
              "5 days      108.317439\n",
              "6 days      115.256916\n",
              "7 days       99.823914\n",
              "8 days      107.577757\n",
              "9 days      110.671667\n",
              "10 days     102.161269\n",
              "11 days     101.473883\n",
              "12 days     101.853115\n",
              "13 days     100.567727\n",
              "14 days      87.971080\n",
              "15 days      90.948333\n",
              "16 days     100.342222\n",
              "17 days      93.919333\n",
              "18 days      95.865000\n",
              "19 days      74.273333\n",
              "20 days      87.700000\n",
              "21 days      68.437778\n",
              "22 days      78.198889\n",
              "23 days     118.935000\n",
              "24 days     106.000000\n",
              "25 days      55.065714\n",
              "28 days      57.078636\n",
              "29 days      34.100000\n",
              "30 days      57.500000\n",
              "34 days      93.000000\n",
              "35 days      39.876000\n",
              "38 days       0.260000\n",
              "42 days      35.520000\n",
              "45 days      42.110000\n",
              "46 days       0.000000\n",
              "48 days       0.000000\n",
              "56 days      28.790000"
            ],
            "text/html": [
              "\n",
              "  <div id=\"df-827248c2-2554-4200-80bf-d7df07f88762\">\n",
              "    <div class=\"colab-df-container\">\n",
              "      <div>\n",
              "<style scoped>\n",
              "    .dataframe tbody tr th:only-of-type {\n",
              "        vertical-align: middle;\n",
              "    }\n",
              "\n",
              "    .dataframe tbody tr th {\n",
              "        vertical-align: top;\n",
              "    }\n",
              "\n",
              "    .dataframe thead th {\n",
              "        text-align: right;\n",
              "    }\n",
              "</style>\n",
              "<table border=\"1\" class=\"dataframe\">\n",
              "  <thead>\n",
              "    <tr style=\"text-align: right;\">\n",
              "      <th></th>\n",
              "      <th>adr</th>\n",
              "    </tr>\n",
              "    <tr>\n",
              "      <th>Total_stay</th>\n",
              "      <th></th>\n",
              "    </tr>\n",
              "  </thead>\n",
              "  <tbody>\n",
              "    <tr>\n",
              "      <th>0 days</th>\n",
              "      <td>4.395093</td>\n",
              "    </tr>\n",
              "    <tr>\n",
              "      <th>1 days</th>\n",
              "      <td>92.789706</td>\n",
              "    </tr>\n",
              "    <tr>\n",
              "      <th>2 days</th>\n",
              "      <td>101.330678</td>\n",
              "    </tr>\n",
              "    <tr>\n",
              "      <th>3 days</th>\n",
              "      <td>104.350478</td>\n",
              "    </tr>\n",
              "    <tr>\n",
              "      <th>4 days</th>\n",
              "      <td>103.318279</td>\n",
              "    </tr>\n",
              "    <tr>\n",
              "      <th>5 days</th>\n",
              "      <td>108.317439</td>\n",
              "    </tr>\n",
              "    <tr>\n",
              "      <th>6 days</th>\n",
              "      <td>115.256916</td>\n",
              "    </tr>\n",
              "    <tr>\n",
              "      <th>7 days</th>\n",
              "      <td>99.823914</td>\n",
              "    </tr>\n",
              "    <tr>\n",
              "      <th>8 days</th>\n",
              "      <td>107.577757</td>\n",
              "    </tr>\n",
              "    <tr>\n",
              "      <th>9 days</th>\n",
              "      <td>110.671667</td>\n",
              "    </tr>\n",
              "    <tr>\n",
              "      <th>10 days</th>\n",
              "      <td>102.161269</td>\n",
              "    </tr>\n",
              "    <tr>\n",
              "      <th>11 days</th>\n",
              "      <td>101.473883</td>\n",
              "    </tr>\n",
              "    <tr>\n",
              "      <th>12 days</th>\n",
              "      <td>101.853115</td>\n",
              "    </tr>\n",
              "    <tr>\n",
              "      <th>13 days</th>\n",
              "      <td>100.567727</td>\n",
              "    </tr>\n",
              "    <tr>\n",
              "      <th>14 days</th>\n",
              "      <td>87.971080</td>\n",
              "    </tr>\n",
              "    <tr>\n",
              "      <th>15 days</th>\n",
              "      <td>90.948333</td>\n",
              "    </tr>\n",
              "    <tr>\n",
              "      <th>16 days</th>\n",
              "      <td>100.342222</td>\n",
              "    </tr>\n",
              "    <tr>\n",
              "      <th>17 days</th>\n",
              "      <td>93.919333</td>\n",
              "    </tr>\n",
              "    <tr>\n",
              "      <th>18 days</th>\n",
              "      <td>95.865000</td>\n",
              "    </tr>\n",
              "    <tr>\n",
              "      <th>19 days</th>\n",
              "      <td>74.273333</td>\n",
              "    </tr>\n",
              "    <tr>\n",
              "      <th>20 days</th>\n",
              "      <td>87.700000</td>\n",
              "    </tr>\n",
              "    <tr>\n",
              "      <th>21 days</th>\n",
              "      <td>68.437778</td>\n",
              "    </tr>\n",
              "    <tr>\n",
              "      <th>22 days</th>\n",
              "      <td>78.198889</td>\n",
              "    </tr>\n",
              "    <tr>\n",
              "      <th>23 days</th>\n",
              "      <td>118.935000</td>\n",
              "    </tr>\n",
              "    <tr>\n",
              "      <th>24 days</th>\n",
              "      <td>106.000000</td>\n",
              "    </tr>\n",
              "    <tr>\n",
              "      <th>25 days</th>\n",
              "      <td>55.065714</td>\n",
              "    </tr>\n",
              "    <tr>\n",
              "      <th>28 days</th>\n",
              "      <td>57.078636</td>\n",
              "    </tr>\n",
              "    <tr>\n",
              "      <th>29 days</th>\n",
              "      <td>34.100000</td>\n",
              "    </tr>\n",
              "    <tr>\n",
              "      <th>30 days</th>\n",
              "      <td>57.500000</td>\n",
              "    </tr>\n",
              "    <tr>\n",
              "      <th>34 days</th>\n",
              "      <td>93.000000</td>\n",
              "    </tr>\n",
              "    <tr>\n",
              "      <th>35 days</th>\n",
              "      <td>39.876000</td>\n",
              "    </tr>\n",
              "    <tr>\n",
              "      <th>38 days</th>\n",
              "      <td>0.260000</td>\n",
              "    </tr>\n",
              "    <tr>\n",
              "      <th>42 days</th>\n",
              "      <td>35.520000</td>\n",
              "    </tr>\n",
              "    <tr>\n",
              "      <th>45 days</th>\n",
              "      <td>42.110000</td>\n",
              "    </tr>\n",
              "    <tr>\n",
              "      <th>46 days</th>\n",
              "      <td>0.000000</td>\n",
              "    </tr>\n",
              "    <tr>\n",
              "      <th>48 days</th>\n",
              "      <td>0.000000</td>\n",
              "    </tr>\n",
              "    <tr>\n",
              "      <th>56 days</th>\n",
              "      <td>28.790000</td>\n",
              "    </tr>\n",
              "  </tbody>\n",
              "</table>\n",
              "</div>\n",
              "      <button class=\"colab-df-convert\" onclick=\"convertToInteractive('df-827248c2-2554-4200-80bf-d7df07f88762')\"\n",
              "              title=\"Convert this dataframe to an interactive table.\"\n",
              "              style=\"display:none;\">\n",
              "        \n",
              "  <svg xmlns=\"http://www.w3.org/2000/svg\" height=\"24px\"viewBox=\"0 0 24 24\"\n",
              "       width=\"24px\">\n",
              "    <path d=\"M0 0h24v24H0V0z\" fill=\"none\"/>\n",
              "    <path d=\"M18.56 5.44l.94 2.06.94-2.06 2.06-.94-2.06-.94-.94-2.06-.94 2.06-2.06.94zm-11 1L8.5 8.5l.94-2.06 2.06-.94-2.06-.94L8.5 2.5l-.94 2.06-2.06.94zm10 10l.94 2.06.94-2.06 2.06-.94-2.06-.94-.94-2.06-.94 2.06-2.06.94z\"/><path d=\"M17.41 7.96l-1.37-1.37c-.4-.4-.92-.59-1.43-.59-.52 0-1.04.2-1.43.59L10.3 9.45l-7.72 7.72c-.78.78-.78 2.05 0 2.83L4 21.41c.39.39.9.59 1.41.59.51 0 1.02-.2 1.41-.59l7.78-7.78 2.81-2.81c.8-.78.8-2.07 0-2.86zM5.41 20L4 18.59l7.72-7.72 1.47 1.35L5.41 20z\"/>\n",
              "  </svg>\n",
              "      </button>\n",
              "      \n",
              "  <style>\n",
              "    .colab-df-container {\n",
              "      display:flex;\n",
              "      flex-wrap:wrap;\n",
              "      gap: 12px;\n",
              "    }\n",
              "\n",
              "    .colab-df-convert {\n",
              "      background-color: #E8F0FE;\n",
              "      border: none;\n",
              "      border-radius: 50%;\n",
              "      cursor: pointer;\n",
              "      display: none;\n",
              "      fill: #1967D2;\n",
              "      height: 32px;\n",
              "      padding: 0 0 0 0;\n",
              "      width: 32px;\n",
              "    }\n",
              "\n",
              "    .colab-df-convert:hover {\n",
              "      background-color: #E2EBFA;\n",
              "      box-shadow: 0px 1px 2px rgba(60, 64, 67, 0.3), 0px 1px 3px 1px rgba(60, 64, 67, 0.15);\n",
              "      fill: #174EA6;\n",
              "    }\n",
              "\n",
              "    [theme=dark] .colab-df-convert {\n",
              "      background-color: #3B4455;\n",
              "      fill: #D2E3FC;\n",
              "    }\n",
              "\n",
              "    [theme=dark] .colab-df-convert:hover {\n",
              "      background-color: #434B5C;\n",
              "      box-shadow: 0px 1px 3px 1px rgba(0, 0, 0, 0.15);\n",
              "      filter: drop-shadow(0px 1px 2px rgba(0, 0, 0, 0.3));\n",
              "      fill: #FFFFFF;\n",
              "    }\n",
              "  </style>\n",
              "\n",
              "      <script>\n",
              "        const buttonEl =\n",
              "          document.querySelector('#df-827248c2-2554-4200-80bf-d7df07f88762 button.colab-df-convert');\n",
              "        buttonEl.style.display =\n",
              "          google.colab.kernel.accessAllowed ? 'block' : 'none';\n",
              "\n",
              "        async function convertToInteractive(key) {\n",
              "          const element = document.querySelector('#df-827248c2-2554-4200-80bf-d7df07f88762');\n",
              "          const dataTable =\n",
              "            await google.colab.kernel.invokeFunction('convertToInteractive',\n",
              "                                                     [key], {});\n",
              "          if (!dataTable) return;\n",
              "\n",
              "          const docLinkHtml = 'Like what you see? Visit the ' +\n",
              "            '<a target=\"_blank\" href=https://colab.research.google.com/notebooks/data_table.ipynb>data table notebook</a>'\n",
              "            + ' to learn more about interactive tables.';\n",
              "          element.innerHTML = '';\n",
              "          dataTable['output_type'] = 'display_data';\n",
              "          await google.colab.output.renderOutput(dataTable, element);\n",
              "          const docLink = document.createElement('div');\n",
              "          docLink.innerHTML = docLinkHtml;\n",
              "          element.appendChild(docLink);\n",
              "        }\n",
              "      </script>\n",
              "    </div>\n",
              "  </div>\n",
              "  "
            ]
          },
          "metadata": {},
          "execution_count": 95
        }
      ]
    },
    {
      "cell_type": "code",
      "source": [
        "pd.to_numeric(pd.to_datetime(data['date']))"
      ],
      "metadata": {
        "id": "zmwv0S_q5Ibj",
        "colab": {
          "base_uri": "https://localhost:8080/",
          "height": 165
        },
        "outputId": "e8f773ed-79d0-4c33-c0f3-37f471c02d0a"
      },
      "execution_count": 96,
      "outputs": [
        {
          "output_type": "error",
          "ename": "NameError",
          "evalue": "ignored",
          "traceback": [
            "\u001b[0;31m---------------------------------------------------------------------------\u001b[0m",
            "\u001b[0;31mNameError\u001b[0m                                 Traceback (most recent call last)",
            "\u001b[0;32m<ipython-input-96-f525389fad77>\u001b[0m in \u001b[0;36m<module>\u001b[0;34m()\u001b[0m\n\u001b[0;32m----> 1\u001b[0;31m \u001b[0mpd\u001b[0m\u001b[0;34m.\u001b[0m\u001b[0mto_numeric\u001b[0m\u001b[0;34m(\u001b[0m\u001b[0mpd\u001b[0m\u001b[0;34m.\u001b[0m\u001b[0mto_datetime\u001b[0m\u001b[0;34m(\u001b[0m\u001b[0mdata\u001b[0m\u001b[0;34m[\u001b[0m\u001b[0;34m'date'\u001b[0m\u001b[0;34m]\u001b[0m\u001b[0;34m)\u001b[0m\u001b[0;34m)\u001b[0m\u001b[0;34m\u001b[0m\u001b[0;34m\u001b[0m\u001b[0m\n\u001b[0m",
            "\u001b[0;31mNameError\u001b[0m: name 'data' is not defined"
          ]
        }
      ]
    },
    {
      "cell_type": "code",
      "source": [
        "t=mean.index\n",
        "# r=mean['adr'].round(2).tolist()\n",
        "# plt.scatter(t,r)"
      ],
      "metadata": {
        "id": "Cu31uukSBDP_"
      },
      "execution_count": null,
      "outputs": []
    },
    {
      "cell_type": "code",
      "source": [
        "pd.to_numeric(pd.to_dateti(mean['t'])"
      ],
      "metadata": {
        "id": "NXc5m_Z5Epa_"
      },
      "execution_count": null,
      "outputs": []
    },
    {
      "cell_type": "code",
      "source": [
        ""
      ],
      "metadata": {
        "id": "cOcjg57zC7eM"
      },
      "execution_count": null,
      "outputs": []
    },
    {
      "cell_type": "code",
      "source": [
        ""
      ],
      "metadata": {
        "id": "n1hQOa0hDYoB"
      },
      "execution_count": null,
      "outputs": []
    }
  ]
}